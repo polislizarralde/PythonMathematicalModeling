{
 "cells": [
  {
   "cell_type": "markdown",
   "metadata": {},
   "source": [
    "[![Colab](https://colab.research.google.com/assets/colab-badge.svg)](https://colab.research.google.com/github/polislizarralde/PythonPlayground/blob/main/docs/PlagueProject/FittingMetapopModelPlague.ipynb)"
   ]
  },
  {
   "cell_type": "code",
   "execution_count": 1,
   "metadata": {},
   "outputs": [],
   "source": [
    "%matplotlib inline\n"
   ]
  },
  {
   "cell_type": "code",
   "execution_count": 2,
   "metadata": {},
   "outputs": [],
   "source": [
    "# Python 3.11.2\n",
    "# Import packages\n",
    "import scipy.integrate as scipy\n",
    "import scipy.optimize as optimize\n",
    "import scipy.stats as stats\n",
    "import pandas as pd\n",
    "import numpy as np\n",
    "import pylab as pl\n",
    "import random\n",
    "import matplotlib.pyplot as plt\n",
    "from collections import defaultdict\n",
    "import json  # for pretty printing\n",
    "\n",
    "import shutil\n",
    "import sys\n",
    "import os.path\n"
   ]
  },
  {
   "cell_type": "markdown",
   "metadata": {},
   "source": [
    "Initializing the population size and initial conditions:"
   ]
  },
  {
   "cell_type": "code",
   "execution_count": 3,
   "metadata": {},
   "outputs": [],
   "source": [
    "# vector of population sizes with lenght n\n",
    "n = 19\n",
    "N = np.array([204  # Bromma\n",
    "              , 217  # Oja\n",
    "              , 1895  # S Maria Ystad 1749\n",
    "              , 554  # Valleberga\n",
    "              , 693  # S Kopinge\n",
    "              , 403  # Horups\n",
    "              , 582  # Bjäresjö 1780\n",
    "              , 716  # Villie 1749\n",
    "              , 418  # Snårestad 1775\n",
    "              , 519  # Skårby 1749\n",
    "              , 262  # Hammenhögs 1749\n",
    "              , 560  # Glemminge 1775\n",
    "              , 236  # Balkåkra 1775\n",
    "              , 334  # Baldringe 1749\n",
    "              , 299  # Ovraby\n",
    "              , 761  # Sövestads 1749\n",
    "              , 776  # Löderups 1749\n",
    "              , 951  # Borrby 1775\n",
    "              , 358  # Tosterups 1775\n",
    "              ])\n",
    "# Initial conditions for each patch\n",
    "\n",
    "I0 = np.zeros(n)  # vector of initial infecteds with lenght n\n",
    "I0[0] = 1.0  # the first element of the I0 vector is set to 1\n",
    "\n",
    "S0 = np.zeros(n)  # vector of initial susceptibles with lenght n\n",
    "for i in range(n):\n",
    "    S0[i] = N[i] - I0[i]\n",
    "\n",
    "R0 = np.zeros(n)  # vector of initial removeds with lenght n\n",
    "D0 = np.zeros(n)  # vector of initial deaths with lenght n\n",
    "\n",
    "# print(S0,I0,R0,D0)\n"
   ]
  },
  {
   "cell_type": "code",
   "execution_count": 4,
   "metadata": {},
   "outputs": [],
   "source": [
    "# Defining the transmission rate matrix as a function of two parameters\n",
    "\n",
    "def TransmissionRateMatrix(beta: float, p: float) -> np.ndarray:\n",
    "    return (\n",
    "        np.array([\n",
    "            [beta, p, 0, 0, 0, 0, p, 0, 0, 0, 0, 0, 0, 0, 0, p, 0, 0, 0],\n",
    "            [p, beta, p, 0, 0, 0, 0, 0, 0, 0, 0, 0, 0, 0, 0, 0, 0, 0, 0],\n",
    "            [0, p, beta, 0, p, 0, 0, 0, 0, 0, 0, 0, 0, 0, 0, 0, 0, 0, 0],\n",
    "            [0, 0, 0, beta, 0, p, 0, 0, 0, 0, 0, p, 0, 0, 0, 0, p, 0, 0],\n",
    "            [0, 0, p, 0, beta, 0, 0, 0, 0, 0, 0, p, 0, 0, p, 0, 0, 0, p],\n",
    "            [0, 0, 0, p, 0, beta, 0, 0, 0, 0, p, p, 0, 0, 0, 0, p, p, 0],\n",
    "            [p, 0, 0, 0, 0, 0, beta, 0, 0, p, 0, 0, p, 0, 0, p, 0, 0, 0],\n",
    "            [0, 0, 0, 0, 0, 0, 0, beta, 0, p, 0, 0, 0, 0, 0, 0, 0, 0, 0],\n",
    "            [0, 0, 0, 0, 0, 0, 0, 0, beta, 0, 0, 0, p, 0, 0, 0, 0, 0, 0],\n",
    "            [0, 0, 0, 0, 0, 0, p, p, 0, beta, 0, 0, p, 0, 0, p, 0, 0, 0],\n",
    "            [0, 0, 0, 0, 0, p, 0, 0, 0, 0, beta, 0, 0, 0, 0, 0, 0, p, 0],\n",
    "            [0, 0, 0, p, p, p, 0, 0, 0, 0, 0, beta, 0, 0, 0, 0, 0, 0, p],\n",
    "            [0, 0, 0, 0, 0, 0, p, 0, p, p, 0, 0, beta, 0, 0, 0, 0, 0, 0],\n",
    "            [0, 0, 0, 0, 0, 0, 0, 0, 0, 0, 0, 0, 0, beta, 0, p, 0, 0, 0],\n",
    "            [0, 0, 0, 0, p, 0, 0, 0, 0, 0, 0, 0, 0, 0, beta, 0, 0, 0, p],\n",
    "            [p, 0, 0, 0, 0, 0, p, 0, 0, p, 0, 0, 0, p, 0, beta, 0, 0, 0],\n",
    "            [0, 0, 0, p, 0, p, 0, 0, 0, 0, 0, 0, 0, 0, 0, 0, beta, p, 0],\n",
    "            [0, 0, 0, 0, 0, p, 0, 0, 0, 0, p, 0, 0, 0, 0, 0, p, beta, 0],\n",
    "            [0, 0, 0, 0, p, 0, 0, 0, 0, 0, 0, p, 0, 0, p, 0, 0, 0, beta]\n",
    "        ])\n",
    "    )\n"
   ]
  },
  {
   "cell_type": "markdown",
   "metadata": {},
   "source": [
    "Define the data. In this case we have:\n",
    "    1. Total number of deaths per patch\n",
    "    2. Initial day of the outbreak for each patch\n",
    "    3. Last day of the outbreak for each patch\n",
    "\n",
    "'0' indicates missing information"
   ]
  },
  {
   "cell_type": "code",
   "execution_count": 5,
   "metadata": {},
   "outputs": [],
   "source": [
    "# Deaths by parish. Zero means we don't have information\n",
    "TotalDeathsByParish = 1.0 * \\\n",
    "    np.array([0, 40, 740, 0, 80, 60, 0, 0, 38,\n",
    "             70, 0, 0, 45, 0, 0, 0, 270, 45, 0])\n",
    "# initial day for each parish\n",
    "BeginPlagueByParish: list[int] = [1, 61, 61, 91, 91, 91, 91,\n",
    "                                  121, 121, 121, 121, 121, 121, 121, 151, 181, 271, 331, 511]\n",
    "# final day for each parish. Zero means we don't have information\n",
    "EndPlagueByParish: list[int] = [60  # Bromma\n",
    "                                , 360  # Oja\n",
    "                                , 270  # Ystad\n",
    "                                , 0  # Valleberga\n",
    "                                , 300  # Kopinge\n",
    "                                , 0  # Horups\n",
    "                                , 0  # Bjaresjo\n",
    "                                , 150  # Villie\n",
    "                                , 510  # Snarestad\n",
    "                                , 270  # Skarby\n",
    "                                , 0  # Hammenhogs\n",
    "                                , 150  # Glemminge\n",
    "                                , 240  # Balkakra\n",
    "                                , 0  # Baldringe\n",
    "                                , 180  # Ovraby\n",
    "                                , 270  # Sovestads\n",
    "                                , 570  # Loderups\n",
    "                                , 570  # Borrby\n",
    "                                , 570  # Tosterups\n",
    "                                ]\n"
   ]
  },
  {
   "cell_type": "markdown",
   "metadata": {},
   "source": [
    "Generating the differential equations"
   ]
  },
  {
   "cell_type": "code",
   "execution_count": 6,
   "metadata": {
    "tags": []
   },
   "outputs": [],
   "source": [
    "def SIRD_model(y, t, model_parameters: tuple[dict]):\n",
    "\n",
    "    parameters = model_parameters[0]\n",
    "    beta: float = parameters['beta']\n",
    "    gamma: float = parameters['gamma']\n",
    "    p: float = parameters['p']\n",
    "    mu: float = parameters['mu']\n",
    "    N = parameters['N']\n",
    "    n: int = parameters['n']\n",
    "\n",
    "    S = defaultdict(float)\n",
    "    I = defaultdict(float)\n",
    "    R = defaultdict(float)\n",
    "    D = defaultdict(float)\n",
    "\n",
    "    vars = tuple(sum([[S[i], I[i], R[i], D[i]] for i in range(n)], []))\n",
    "    vars = y\n",
    "\n",
    "   # Choosing the corresponding output for each subpopulation\n",
    "    def entryS(i):\n",
    "        return vars[4 * i]\n",
    "\n",
    "    def entryI(i):\n",
    "        return vars[4 * i + 1]\n",
    "\n",
    "    def entryR(i):\n",
    "        return vars[4 * i + 2]\n",
    "\n",
    "    def entryD(i):\n",
    "        return vars[4 * i + 3]\n",
    "\n",
    "    # Initializando the directory for each subpopulation\n",
    "    dS = {}\n",
    "    dI = {}\n",
    "    dR = {}\n",
    "    dD = {}\n",
    "\n",
    "    # Defining the differential equations for each subpopulation\n",
    "    for i in range(n):\n",
    "        dS[i] = - entryS(i) / (N[i]*1.0) * sum(TransmissionRateMatrix(beta, p)\n",
    "                                               [i][j] * entryI(j) for j in range(n))\n",
    "        dI[i] = entryS(i) / (N[i]*1.0) * sum(TransmissionRateMatrix(beta, p)\n",
    "                                             [i][j] * entryI(j) for j in range(n)) - gamma * entryI(i)\n",
    "        dR[i] = gamma * mu * entryI(i)\n",
    "        dD[i] = gamma * (1 - mu) * entryI(i)\n",
    "\n",
    "    derivates = sum([[dS[i], dI[i], dR[i], dD[i]] for i in range(n)], [])\n",
    "    return derivates   # For odeint\n",
    "\n",
    "\n",
    "def generate_sol(genInput: dict) -> dict:\n",
    "    init = genInput['init']\n",
    "    n = genInput['n']\n",
    "\n",
    "    # Initial conditions vector for the metapopulation model. len(initConditions) = 4*n\n",
    "    initConditions = tuple(sum(\n",
    "        [[init['S'][i], init['I'][i], init['R'][i], init['D'][i]] for i in range(n)], []))\n",
    "\n",
    "    # Time vector\n",
    "    T = genInput['T']\n",
    "    t = np.linspace(0, T, T+1)\n",
    "\n",
    "    # Computing the numerical solution\n",
    "    model = genInput['model']\n",
    "    solution = scipy.odeint(model, initConditions, t, args=((genInput,),))\n",
    "\n",
    "    indexVar = {}\n",
    "    indexVar['S'] = 0\n",
    "    indexVar['I'] = 1\n",
    "    indexVar['R'] = 2\n",
    "    indexVar['D'] = 3\n",
    "\n",
    "    def varSol(patch, var):\n",
    "        return solution[:, 4*patch + indexVar[var]]\n",
    "\n",
    "    return {'S': {patch: varSol(patch, 'S') for patch in range(n)},\n",
    "            'I': {patch: varSol(patch, 'I') for patch in range(n)},\n",
    "            'R': {patch: varSol(patch, 'R') for patch in range(n)},\n",
    "            'D': {patch: varSol(patch, 'D') for patch in range(n)},\n",
    "            'N': genInput['N'],\n",
    "            'init': init,\n",
    "            'beta': genInput['beta'],\n",
    "            'gamma': genInput['gamma'],\n",
    "            'mu':  genInput['mu'],\n",
    "            't': t,\n",
    "            'n': n,\n",
    "            'p': genInput['p'],\n",
    "            'model': model,\n",
    "            'raw_solution': solution}\n"
   ]
  },
  {
   "cell_type": "code",
   "execution_count": 6,
   "metadata": {},
   "outputs": [],
   "source": [
    "\n",
    "# Define the objective function to minimize (sum of squared errors)\n",
    "def objectiveFunction(parameters, args):\n",
    "    beta, p, gamma, mu = parameters\n",
    "    beginTime, endTime, deathData = args\n",
    "    model_info = {'model': SIRD_model,\n",
    "                  'init': {\n",
    "                      'S': S0,\n",
    "                      'I': I0,\n",
    "                      'R': R0,\n",
    "                      'D': D0,\n",
    "                  },  # defining the initial values for the model\n",
    "                  'beta': beta,\n",
    "                  'p': p,\n",
    "                  'gamma': gamma,\n",
    "                  'mu': mu,\n",
    "                  'N': N,\n",
    "                  'n': 19,`z\n"
   ]
  },
  {
   "cell_type": "code",
   "execution_count": 7,
   "metadata": {},
   "outputs": [
    {
     "name": "stdout",
     "output_type": "stream",
     "text": [
      "beta =  0.594647017837068\n",
      "p =  1.7008299978816306e-09\n",
      "gamma =  0.42123719151572153\n",
      "mu =  0.4922276846825045\n"
     ]
    }
   ],
   "source": [
    "# Set up the data to fit\n",
    "beginTime = BeginPlagueByParish\n",
    "endTime = EndPlagueByParish\n",
    "deathData = TotalDeathsByParish\n",
    "\n",
    "\n",
    "# Choose initial guesses for the parameters to fit\n",
    "beta_guess = 0.5\n",
    "p_guess = 0.1\n",
    "gamma_guess = 0.5\n",
    "mu_guess = 0.5\n",
    "\n",
    "# Minimize the objective function to obtain estimates for beta and gamma\n",
    "\n",
    "result = optimize.minimize(\n",
    "    lambda x: objectiveFunction(x, (beginTime, endTime, deathData)),\n",
    "    (beta_guess, p_guess, gamma_guess, mu_guess),\n",
    "    method='L-BFGS-B',\n",
    "    bounds=[(0, 2), (0, 1), (0, 1), (0, 1)])\n",
    "beta_estimated, p_estimated, gamma_estimated, mu_estimated = result.x\n",
    "\n",
    "print(\"beta = \", beta_estimated)\n",
    "print(\"p = \", p_estimated)\n",
    "print(\"gamma = \", gamma_estimated)\n",
    "print(\"mu = \", mu_estimated)\n"
   ]
  },
  {
   "cell_type": "code",
   "execution_count": 7,
   "metadata": {},
   "outputs": [],
   "source": [
    "# Results from the optimization\n",
    "beta_estimated = 0.5962793770426265\n",
    "p_estimated = 1.7581613689424408e-06\n",
    "gamma_estimated = 0.4214334954023917\n",
    "mu_estimated = 0.4867362091247948\n"
   ]
  },
  {
   "cell_type": "code",
   "execution_count": 8,
   "metadata": {},
   "outputs": [
    {
     "ename": "NameError",
     "evalue": "name 'objectiveFunction' is not defined",
     "output_type": "error",
     "traceback": [
      "\u001b[0;31m---------------------------------------------------------------------------\u001b[0m",
      "\u001b[0;31mNameError\u001b[0m                                 Traceback (most recent call last)",
      "Cell \u001b[0;32mIn[8], line 12\u001b[0m\n\u001b[1;32m      9\u001b[0m gamma_guess \u001b[38;5;241m=\u001b[39m \u001b[38;5;241m0.5\u001b[39m\n\u001b[1;32m     10\u001b[0m mu_guess \u001b[38;5;241m=\u001b[39m \u001b[38;5;241m0.5\u001b[39m\n\u001b[0;32m---> 12\u001b[0m \u001b[43mobjectiveFunction\u001b[49m((beta_guess, p_guess, gamma_guess, mu_guess),\n\u001b[1;32m     13\u001b[0m                   (beginTime, endTime, deathData))\n",
      "\u001b[0;31mNameError\u001b[0m: name 'objectiveFunction' is not defined"
     ]
    }
   ],
   "source": [
    "# Set up the data to fit\n",
    "beginTime = BeginPlagueByParish\n",
    "endTime = EndPlagueByParish\n",
    "deathData = TotalDeathsByParish\n",
    "\n",
    "# Choose initial guesses for the parameters to fit\n",
    "beta_guess = 0.5\n",
    "p_guess = 0.1\n",
    "gamma_guess = 0.5\n",
    "mu_guess = 0.5\n",
    "\n",
    "objectiveFunction((beta_guess, p_guess, gamma_guess, mu_guess),\n",
    "                  (beginTime, endTime, deathData))\n"
   ]
  },
  {
   "cell_type": "code",
   "execution_count": 10,
   "metadata": {},
   "outputs": [
    {
     "data": {
      "text/plain": [
       "101710.95485988606"
      ]
     },
     "execution_count": 10,
     "metadata": {},
     "output_type": "execute_result"
    }
   ],
   "source": [
    "objectiveFunction((beta_estimated, p_estimated, gamma_estimated,\n",
    "                  mu_estimated), (beginTime, endTime, deathData))\n"
   ]
  },
  {
   "cell_type": "code",
   "execution_count": 9,
   "metadata": {},
   "outputs": [],
   "source": [
    "model_estimation = {'model': SIRD_model,\n",
    "                    'init': {\n",
    "                        'S': S0,\n",
    "                        'I': I0,\n",
    "                        'R': R0,\n",
    "                        'D': D0,\n",
    "                    },  # defining the initial values for the model\n",
    "                    'beta': beta_estimated,\n",
    "                    'p': p_estimated,\n",
    "                    'gamma': gamma_estimated,\n",
    "                    'mu': mu_estimated,\n",
    "                    'N': N,\n",
    "                    'n': 19,\n",
    "                    'T': 700}\n",
    "model_dict = generate_sol(model_estimation)\n"
   ]
  },
  {
   "cell_type": "markdown",
   "metadata": {},
   "source": [
    "Computing the daily deaths from the model output for a given patch"
   ]
  },
  {
   "cell_type": "code",
   "execution_count": 10,
   "metadata": {},
   "outputs": [],
   "source": [
    "def daily_deaths(solution_model: dict, patch: int, T_inf: int, T_sup: int) -> list[float]:\n",
    "    assert T_inf >= 0, \"t must be greater than 0\"\n",
    "    assert T_sup >= 0, \"t must be greater than 0\"\n",
    "    cumulative_deaths = solution_model['D'][patch]  # list of floats\n",
    "    return [cumulative_deaths[t+1] - cumulative_deaths[t]\n",
    "            for t in range(T_inf, T_sup)]\n"
   ]
  },
  {
   "cell_type": "markdown",
   "metadata": {},
   "source": [
    "Plotting the solution"
   ]
  },
  {
   "cell_type": "code",
   "execution_count": 16,
   "metadata": {},
   "outputs": [],
   "source": [
    "patchNames = [\"Bromma\", \"Oja\", \"Ystad\", \"Valleberga\", \"S. Kopinge\", \"Horups\", \"Bjäresjö\", \"Villie\", \"Snårestad\",\n",
    "              \"Skårby\", \"Hammenhögs\", \"Glemminge\", \"Balkåkra\", \"Baldringe\", \"Ovraby\", \"Sövestads\", \"Löderups\", \"Borrby\", \"Tosterups\"]\n",
    "\n",
    "\n",
    "def plot_SIRD_solution(model: dict, state: list[str] = ['S', 'I', 'R', 'D', 'DailyDeaths']):\n",
    "\n",
    "    for key in state:\n",
    "        if key not in model:\n",
    "            raise ValueError(f\"Invalid state: {key}\")\n",
    "        for i in range(model['n']):\n",
    "            plt.plot(model['t'], model[key][i],\n",
    "                     label=f'{key} - {patchNames[i]}')\n",
    "    plt.xlabel('Time')\n",
    "    plt.ylabel('Infectious')\n",
    "    plt.title('SIRD model')\n",
    "    plt.legend()\n",
    "    plt.show()\n"
   ]
  },
  {
   "cell_type": "code",
   "execution_count": null,
   "metadata": {},
   "outputs": [],
   "source": [
    "# Number of patches\n",
    "n = model_estimation['n']\n",
    "\n",
    "# Set the figsize for each subplot\n",
    "figsize_single_subplot = (8, 2)\n",
    "\n",
    "# Calculate the total figure height based on the number of subplots and their height\n",
    "fig_height = figsize_single_subplot[1] * n\n",
    "\n",
    "\n",
    "# Create a figure and an array of axes with nrows=n and ncols=1\n",
    "fig, axes = plt.subplots(nrows=n, ncols=1, figsize=(\n",
    "    figsize_single_subplot[0], fig_height), sharex=False)\n",
    "\n",
    "tick_positions = [30, 60, 90, 120, 150, 180, 210, 240,\n",
    "                  270, 300, 330, 360, 390, 420, 450, 480, 510, 540, 570]\n",
    "tick_labels = [\"Apr 1712\", \"May 1712\", \"Jun 1712\", \"Jul 1712\", \"Aug 1712\", \"Sep 1712\", \"Oct 1712\", \"Nov 1712\", \"Dec 1712\", \"Jan 1713\", \"Feb 1713\", \"Mar 1713\", \"Apr 1713\", \"May 1713\", \"Jun 1713\", \"Jul 1713\", \"Aug 1713\", \"Sep 1713\", \"Oct 1713\"\n",
    "               ]\n",
    "\n",
    "# Plot daily deaths for each patch i\n",
    "for i in range(n):\n",
    "    if TotalDeathsByParish[i] != 0 and EndPlagueByParish[i] != 0:\n",
    "        initial_position = BeginPlagueByParish[i]\n",
    "        final_position = EndPlagueByParish[i]\n",
    "        # axes[i].plot(initial_position,1, 'bo', label='Observed data')\n",
    "        axes[i].plot(final_position, TotalDeathsByParish[i],\n",
    "                     'bo', label='Observed data')\n",
    "        axes[i].plot(model_dict['D'][i], color='orange', label=(patchNames[i]))\n",
    "        # axes[i].set_xlabel('Day')\n",
    "        axes[i].set_ylabel('Cumulative Deaths', font='Helvetica')\n",
    "        axes[i].legend(loc='lower right')\n",
    "        axes[i].xaxis.set_ticks(\n",
    "            tick_positions, tick_labels, rotation=70, font='Helvetica', fontsize=9)\n",
    "    else:\n",
    "        axes[i].plot(model_dict['D'][i], color='orange', label=(patchNames[i]))\n",
    "        # axes[i].set_xlabel('Day')\n",
    "        axes[i].set_ylabel('Cumulative Deaths', font='Helvetica')\n",
    "        axes[i].legend(loc='lower right')\n",
    "        axes[i].xaxis.set_ticks(\n",
    "            tick_positions, tick_labels, rotation=70, font='Helvetica', fontsize=9)\n",
    "\n",
    "# Adjust the layout to avoid overlapping\n",
    "plt.tight_layout()\n",
    "plt.show()\n"
   ]
  },
  {
   "cell_type": "code",
   "execution_count": null,
   "metadata": {},
   "outputs": [],
   "source": [
    "# Set the figsize for each subplot\n",
    "figsize_single_subplot = (8, 2)\n",
    "\n",
    "# Calculate the total figure height based on the number of subplots and their height\n",
    "fig_height = figsize_single_subplot[1] * n\n",
    "\n",
    "# Create a figure and an array of axes with nrows=n and ncols=1\n",
    "fig, axes = plt.subplots(nrows=n, ncols=1, figsize=(\n",
    "    figsize_single_subplot[0], fig_height))\n",
    "\n",
    "tick_positions = [30, 60, 90, 120, 150, 180, 210, 240,\n",
    "                  270, 300, 330, 360, 390, 420, 450, 480, 510, 540, 570]\n",
    "tick_labels = [\"Apr 1712\", \"May 1712\", \"Jun 1712\", \"Jul 1712\", \"Aug 1712\", \"Sep 1712\", \"Oct 1712\", \"Nov 1712\", \"Dec 1712\", \"Jan 1713\", \"Feb 1713\", \"Mar 1713\", \"Apr 1713\", \"May 1713\", \"Jun 1713\", \"Jul 1713\", \"Aug 1713\", \"Sep 1713\", \"Oct 1713\"\n",
    "               ]\n",
    "\n",
    "for i in range(model_dict['n']):\n",
    "    # Plot daily deaths for each patch i\n",
    "    axes[i].plot(daily_deaths(model_dict, i, 0, 570),\n",
    "                 color='blue', label=(patchNames[i]))\n",
    "    axes[i].set_ylabel('Daily Deaths', font='Helvetica')\n",
    "    axes[i].legend(loc='upper right')\n",
    "    axes[i].xaxis.set_ticks(tick_positions, tick_labels,\n",
    "                            rotation=70, font='Helvetica', fontsize=9)\n",
    "\n",
    "# Adjust the layout to avoid overlapping\n",
    "plt.tight_layout()\n",
    "plt.show()\n"
   ]
  },
  {
   "cell_type": "code",
   "execution_count": null,
   "metadata": {},
   "outputs": [],
   "source": []
  }
 ],
 "metadata": {
  "kernelspec": {
   "display_name": "Python 3 (ipykernel)",
   "language": "python",
   "name": "python3"
  },
  "language_info": {
   "codemirror_mode": {
    "name": "ipython",
    "version": 3
   },
   "file_extension": ".py",
   "mimetype": "text/x-python",
   "name": "python",
   "nbconvert_exporter": "python",
   "pygments_lexer": "ipython3",
   "version": "3.11.3"
  },
  "vscode": {
   "interpreter": {
    "hash": "e7370f93d1d0cde622a1f8e1c04877d8463912d04d973331ad4851f04de6915a"
   }
  }
 },
 "nbformat": 4,
 "nbformat_minor": 2
}
