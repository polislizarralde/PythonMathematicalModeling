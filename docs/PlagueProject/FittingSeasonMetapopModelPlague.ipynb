{
 "cells": [
  {
   "attachments": {},
   "cell_type": "markdown",
   "metadata": {},
   "source": [
    "[![Colab](https://colab.research.google.com/assets/colab-badge.svg)](https://colab.research.google.com/github/polislizarralde/PythonPlayground/blob/main/docs/PlagueProject/FittingMetapopModelPlague.ipynb)"
   ]
  },
  {
   "cell_type": "code",
   "execution_count": 2447,
   "metadata": {},
   "outputs": [],
   "source": [
    "%matplotlib inline\n"
   ]
  },
  {
   "cell_type": "code",
   "execution_count": 2448,
   "metadata": {},
   "outputs": [
    {
     "name": "stdout",
     "output_type": "stream",
     "text": [
      "The autoreload extension is already loaded. To reload it, use:\n",
      "  %reload_ext autoreload\n"
     ]
    }
   ],
   "source": [
    "%load_ext autoreload\n",
    "%autoreload 3\n"
   ]
  },
  {
   "cell_type": "code",
   "execution_count": 2449,
   "metadata": {},
   "outputs": [],
   "source": [
    "# Python 3.11.2\n",
    "from funct_process_data import *  # Import all functions from funct_process_data.py\n"
   ]
  },
  {
   "cell_type": "code",
   "execution_count": 2450,
   "metadata": {},
   "outputs": [
    {
     "data": {
      "text/plain": [
       "geopandas.geodataframe.GeoDataFrame"
      ]
     },
     "execution_count": 2450,
     "metadata": {},
     "output_type": "execute_result"
    }
   ],
   "source": [
    "# Set the working directory for private files\n",
    "data_private_folder = \"data/private\"\n",
    "southeast_path = os.path.join(data_private_folder, 'southeastScania.csv')\n",
    "southeastScania = pd.read_csv(southeast_path, sep=',')\n",
    "\n",
    "# Convert WKT (Well-Known Text) geometry to Shapely geometry\n",
    "southeastScania['geometry'] = southeastScania['geometry'].apply(wkt.loads)\n",
    "\n",
    "# Create a GeoDataFrame from the DataFrame\n",
    "southeastScania = gpd.GeoDataFrame(southeastScania, geometry='geometry')\n",
    "type(southeastScania)\n"
   ]
  },
  {
   "cell_type": "code",
   "execution_count": 2451,
   "metadata": {},
   "outputs": [
    {
     "data": {
      "text/html": [
       "<div>\n",
       "<style scoped>\n",
       "    .dataframe tbody tr th:only-of-type {\n",
       "        vertical-align: middle;\n",
       "    }\n",
       "\n",
       "    .dataframe tbody tr th {\n",
       "        vertical-align: top;\n",
       "    }\n",
       "\n",
       "    .dataframe thead th {\n",
       "        text-align: right;\n",
       "    }\n",
       "</style>\n",
       "<table border=\"1\" class=\"dataframe\">\n",
       "  <thead>\n",
       "    <tr style=\"text-align: right;\">\n",
       "      <th></th>\n",
       "      <th>Region</th>\n",
       "      <th>District(Härad)</th>\n",
       "      <th>ParishName</th>\n",
       "      <th>G_NAME</th>\n",
       "      <th>BEF1699</th>\n",
       "      <th>BEF1718</th>\n",
       "      <th>AV_BEF</th>\n",
       "      <th>BeginPlaguePeriod</th>\n",
       "      <th>EndPlaguePeriod</th>\n",
       "      <th>VictimsNumber</th>\n",
       "      <th>geometry</th>\n",
       "    </tr>\n",
       "  </thead>\n",
       "  <tbody>\n",
       "    <tr>\n",
       "      <th>0</th>\n",
       "      <td>SOUTHEAST</td>\n",
       "      <td>ALBO</td>\n",
       "      <td>ANDRARUM</td>\n",
       "      <td>ANDRARUMS</td>\n",
       "      <td>1100</td>\n",
       "      <td>1241</td>\n",
       "      <td>1170.5</td>\n",
       "      <td>NaN</td>\n",
       "      <td>NaN</td>\n",
       "      <td>NaN</td>\n",
       "      <td>POLYGON ((4238250.249 3208074.003, 4238293.112...</td>\n",
       "    </tr>\n",
       "    <tr>\n",
       "      <th>1</th>\n",
       "      <td>SOUTHEAST</td>\n",
       "      <td>ALBO</td>\n",
       "      <td>BRÖSARP</td>\n",
       "      <td>BRÖSARPS</td>\n",
       "      <td>480</td>\n",
       "      <td>541</td>\n",
       "      <td>510.5</td>\n",
       "      <td>NaN</td>\n",
       "      <td>NaN</td>\n",
       "      <td>NaN</td>\n",
       "      <td>POLYGON ((4245792.553 3211743.504, 4246307.644...</td>\n",
       "    </tr>\n",
       "    <tr>\n",
       "      <th>2</th>\n",
       "      <td>SOUTHEAST</td>\n",
       "      <td>ALBO</td>\n",
       "      <td>ELJARÖD</td>\n",
       "      <td>ELJARÖDS</td>\n",
       "      <td>320</td>\n",
       "      <td>361</td>\n",
       "      <td>340.5</td>\n",
       "      <td>JAN 1713</td>\n",
       "      <td>NaN</td>\n",
       "      <td>3</td>\n",
       "      <td>POLYGON ((4244692.078 3203779.021, 4244526.296...</td>\n",
       "    </tr>\n",
       "  </tbody>\n",
       "</table>\n",
       "</div>"
      ],
      "text/plain": [
       "      Region District(Härad) ParishName     G_NAME  BEF1699  BEF1718  AV_BEF   \n",
       "0  SOUTHEAST            ALBO   ANDRARUM  ANDRARUMS     1100     1241  1170.5  \\\n",
       "1  SOUTHEAST            ALBO    BRÖSARP   BRÖSARPS      480      541   510.5   \n",
       "2  SOUTHEAST            ALBO    ELJARÖD   ELJARÖDS      320      361   340.5   \n",
       "\n",
       "  BeginPlaguePeriod EndPlaguePeriod VictimsNumber   \n",
       "0               NaN             NaN           NaN  \\\n",
       "1               NaN             NaN           NaN   \n",
       "2          JAN 1713             NaN             3   \n",
       "\n",
       "                                            geometry  \n",
       "0  POLYGON ((4238250.249 3208074.003, 4238293.112...  \n",
       "1  POLYGON ((4245792.553 3211743.504, 4246307.644...  \n",
       "2  POLYGON ((4244692.078 3203779.021, 4244526.296...  "
      ]
     },
     "execution_count": 2451,
     "metadata": {},
     "output_type": "execute_result"
    }
   ],
   "source": [
    "# replaced all the occurences of 'UNDEFINED' and '?' with np.nan in our dataframe\n",
    "southeastScania = southeastScania.replace(['UNDEFINED', '?'], np.nan)\n",
    "southeastScania.head(3)\n"
   ]
  },
  {
   "cell_type": "code",
   "execution_count": 2452,
   "metadata": {},
   "outputs": [],
   "source": [
    "southeastScania['BeginPlaguePeriod'] = pd.to_datetime(\n",
    "    southeastScania['BeginPlaguePeriod'], format='%b %Y')\n",
    "southeastScania['EndPlaguePeriod'] = pd.to_datetime(\n",
    "    southeastScania['EndPlaguePeriod'], format='%b %Y')\n",
    "southeastScania.sort_values(by=['BeginPlaguePeriod'],   # Row or columns names to sort by\n",
    "                            axis=0,       # Sort Rows axis = 0\n",
    "                            ascending=True,  # Sort ascending or descending?\n",
    "                            # Modify the DataFrame in place (do not create a new object)\n",
    "                            inplace=True\n",
    "                            )\n",
    "\n",
    "southeastScania.reset_index(drop=True, inplace=True)\n"
   ]
  },
  {
   "cell_type": "code",
   "execution_count": 2453,
   "metadata": {},
   "outputs": [],
   "source": [
    "# Create a new column called \"BeginDaysPlague\"\n",
    "southeastScania[\"BeginDaysPlague\"] = southeastScania.apply(\n",
    "    # axis = 1 means apply function to each row\n",
    "    lambda row: begin_days_between(southeastScania[\"BeginPlaguePeriod\"].iloc[0], row[\"BeginPlaguePeriod\"]), axis=1\n",
    ")\n",
    "\n",
    "# Create a new column called \"EndDaysPlague\"\n",
    "southeastScania['EndDaysPlague'] = southeastScania.apply(lambda row: end_days_between(\n",
    "    southeastScania['BeginPlaguePeriod'].iloc[0], row['EndPlaguePeriod']) if pd.notna(row['EndPlaguePeriod']) else None, axis=1)\n"
   ]
  },
  {
   "cell_type": "code",
   "execution_count": 2454,
   "metadata": {},
   "outputs": [],
   "source": [
    "# Replace NaN values with a value in some columns (e.g., 0)\n",
    "southeastScania['BeginDaysPlague'].fillna(0, inplace=True)\n",
    "southeastScania['EndDaysPlague'].fillna(0, inplace=True)\n",
    "southeastScania['VictimsNumber'].fillna(0, inplace=True)\n",
    "\n",
    "# Changing the type of some columns from float to integer for the optimization process\n",
    "southeastScania['BeginDaysPlague'] = southeastScania['BeginDaysPlague'].astype(\n",
    "    int)\n",
    "southeastScania['EndDaysPlague'] = southeastScania['EndDaysPlague'].astype(int)\n",
    "southeastScania['VictimsNumber'] = southeastScania['VictimsNumber'].astype(int)\n"
   ]
  },
  {
   "cell_type": "code",
   "execution_count": 2455,
   "metadata": {},
   "outputs": [
    {
     "data": {
      "text/plain": [
       "883"
      ]
     },
     "execution_count": 2455,
     "metadata": {},
     "output_type": "execute_result"
    }
   ],
   "source": [
    "max_days = southeastScania['EndDaysPlague'].max()\n",
    "max_days\n"
   ]
  },
  {
   "attachments": {},
   "cell_type": "markdown",
   "metadata": {},
   "source": [
    "Initializing the number of patches (n), the population size (patchPop) and the initial conditions for each variable (S0, E0, I0, R0, D0):"
   ]
  },
  {
   "cell_type": "code",
   "execution_count": 2456,
   "metadata": {},
   "outputs": [],
   "source": [
    "class Input_Model:\n",
    "    def __init__(self, gdf):\n",
    "        self.gdf = gdf\n",
    "        self.n = self.numPatches()\n",
    "        self.E0 = np.zeros(self.n)\n",
    "        self.I0 = np.zeros(self.n)\n",
    "        self.I0[0] = 1.0\n",
    "        self.R0 = np.zeros(self.n)\n",
    "        self.D0 = np.zeros(self.n)\n",
    "        self.S0 = np.zeros(self.n)\n",
    "        for i in range(self.n):\n",
    "            self.S0[i] = self.patchPop()[i] - self.E0[i] - \\\n",
    "                self.I0[i] - self.R0[i]\n",
    "\n",
    "    def patchNames(self, column_name: str = 'ParishName'):\n",
    "        return self.gdf[column_name].values\n",
    "\n",
    "    def numPatches(self):\n",
    "        return len(self.patchNames())\n",
    "\n",
    "    def patchPop(self, column_pop: str = 'BEF1699'):\n",
    "        return self.gdf[column_pop].values\n",
    "\n",
    "    def maxDays(self, column_EndDays: str = 'EndDaysPlague'):\n",
    "        return self.gdf[column_EndDays].max()\n"
   ]
  },
  {
   "attachments": {},
   "cell_type": "markdown",
   "metadata": {},
   "source": [
    "Getting the centroid of each polygon for defining the transmission matrix."
   ]
  },
  {
   "cell_type": "code",
   "execution_count": 2457,
   "metadata": {},
   "outputs": [],
   "source": [
    "southeastScania = get_centroid(southeastScania)\n"
   ]
  },
  {
   "attachments": {},
   "cell_type": "markdown",
   "metadata": {},
   "source": [
    "Generating the differential equations"
   ]
  },
  {
   "cell_type": "code",
   "execution_count": 2458,
   "metadata": {},
   "outputs": [],
   "source": [
    "def SEIRD_model(y, t, model_parameters: tuple[dict]):\n",
    "    parameters = model_parameters[0]\n",
    "    gdf = parameters['gdf']\n",
    "    beta = parameters['beta']\n",
    "    p = parameters['p']\n",
    "    gamma = parameters['gamma']\n",
    "    sigma = parameters['sigma']\n",
    "    bump_center = parameters['bump_center']\n",
    "    bump_width = parameters['bump_width']\n",
    "    bump_height = parameters['bump_height']\n",
    "    mu = parameters['mu']\n",
    "    N = parameters['N']\n",
    "    n = parameters['n']\n",
    "\n",
    "    vars = y\n",
    "    def entry(i, offset): return vars[5 * i + offset]\n",
    "\n",
    "    dS, dE, dI, dR, dD = {}, {}, {}, {}, {}\n",
    "    transmission_cache = {}\n",
    "\n",
    "    for i in range(n):\n",
    "        sum_transmission = sum(transmission_matrix_cached(gdf, t, beta, p, bump_center,\n",
    "                               bump_width, bump_height, transmission_cache)[i][j] * entry(j, 2) for j in range(n))\n",
    "        dS[i] = - entry(i, 0) / N[i] * sum_transmission\n",
    "        dE[i] = entry(i, 0) / N[i] * sum_transmission - sigma * entry(i, 1)\n",
    "        dI[i] = sigma * entry(i, 1) - gamma * entry(i, 2)\n",
    "        dR[i] = gamma * (1 - mu) * entry(i, 2)\n",
    "        dD[i] = gamma * mu * entry(i, 2)\n",
    "\n",
    "    derivates = [val for i in range(n) for val in (\n",
    "        dS[i], dE[i], dI[i], dR[i], dD[i])]\n",
    "    return derivates\n",
    "\n",
    "\n",
    "def generate_sol(genInput: dict) -> dict:\n",
    "    init = genInput['init']\n",
    "    n = genInput['n']\n",
    "    initConditions = [val for i in range(n) for val in (\n",
    "        init['S'][i], init['E'][i], init['I'][i], init['R'][i], init['D'][i])]\n",
    "\n",
    "    T = genInput['T']\n",
    "    t = np.linspace(0, T, T+1)\n",
    "\n",
    "    model = genInput['model']\n",
    "    solution = scipy.odeint(model, initConditions, t, args=((genInput,),))\n",
    "\n",
    "    indexVar = {'S': 0, 'E': 1, 'I': 2, 'R': 3, 'D': 4}\n",
    "    def varSol(patch, var): return solution[:, 5*patch + indexVar[var]]\n",
    "\n",
    "    return {var: {patch: varSol(patch, var) for patch in range(n)} for var in indexVar.keys()}\n"
   ]
  },
  {
   "attachments": {},
   "cell_type": "markdown",
   "metadata": {},
   "source": [
    "Trying a small dataframe"
   ]
  },
  {
   "cell_type": "code",
   "execution_count": 2459,
   "metadata": {},
   "outputs": [],
   "source": [
    "# k = 10\n",
    "# example = southeastScania.head(k)\n",
    "# example.shape\n",
    "# model_input = Input_Model(example)\n"
   ]
  },
  {
   "cell_type": "code",
   "execution_count": 2460,
   "metadata": {},
   "outputs": [],
   "source": [
    "# Model_test = {'model': SEIRD_model,\n",
    "#               'init': {\n",
    "#                   'S': model_input.S0,\n",
    "#                   'E': model_input.E0,\n",
    "#                   'I': model_input.I0,\n",
    "#                   'R': model_input.R0,\n",
    "#                   'D': model_input.D0,\n",
    "#               },  # defining the initial values for the model\n",
    "#               'gdf': example,  # defining the graph\n",
    "#               'beta': 0.3,\n",
    "#               'p': 0.1,\n",
    "#               'bump_center': 0.1,\n",
    "#               'bump_width': 180.0,\n",
    "#               'bump_height': 30.0,\n",
    "#               'gamma': 0.06,\n",
    "#               'sigma': 0.02,\n",
    "#               'mu': 0.2,\n",
    "#               'N': model_input.patchPop(),\n",
    "#               'n': model_input.n,\n",
    "#               'T': model_input.maxDays()}\n",
    "\n",
    "# model_dict = generate_sol(Model_test)\n",
    "# print(model_dict)\n"
   ]
  },
  {
   "attachments": {},
   "cell_type": "markdown",
   "metadata": {},
   "source": [
    "Defining the optimization problem:"
   ]
  },
  {
   "cell_type": "code",
   "execution_count": 2461,
   "metadata": {},
   "outputs": [],
   "source": [
    "model_input = Input_Model(southeastScania)\n"
   ]
  },
  {
   "cell_type": "code",
   "execution_count": 2462,
   "metadata": {},
   "outputs": [],
   "source": [
    "# Define the objective function to minimize (sum of squared errors)\n",
    "def objectiveFunction(parameters, beginTime, endTime, deathData):\n",
    "    beta, p, bump_center, bump_width, bump_height = parameters\n",
    "    model_info = {'model': SEIRD_model,\n",
    "                  'init': {\n",
    "                      'S': model_input.S0,\n",
    "                      'E': model_input.E0,\n",
    "                      'I': model_input.I0,\n",
    "                      'R': model_input.R0,\n",
    "                      'D': model_input.D0,\n",
    "                  },\n",
    "                  'gdf': southeastScania,\n",
    "                  # defining the initial values for the model\n",
    "                  'beta': beta,\n",
    "                  'p': p,\n",
    "                  'bump_center': bump_center,\n",
    "                  'bump_width': bump_width,\n",
    "                  'bump_height': bump_height,\n",
    "                  'gamma': 0.06,\n",
    "                  'sigma': 0.02,\n",
    "                  'mu': 0.2,\n",
    "                  'N': model_input.patchPop(),\n",
    "                  'n': model_input.n,\n",
    "                  'T': model_input.maxDays()}\n",
    "    model_sol = generate_sol(model_info)\n",
    "    totalError = 0\n",
    "    n = model_info['n']\n",
    "\n",
    "    # Calculate the error for each patch\n",
    "    errors = np.zeros(n)\n",
    "    for i in range(n):\n",
    "        initial_position = beginTime[i]\n",
    "        final_position = endTime[i]\n",
    "        if (deathData[i] != 0 and final_position != 0):\n",
    "            try:\n",
    "                errors[i] = 0.5 * (model_sol['D'][i][initial_position] - 1.0)**2 + 0.5 * (\n",
    "                    model_sol['D'][i][final_position] - deathData[i])**2\n",
    "            except:\n",
    "                print(\n",
    "                    f\"Error at: n={n}, i={i}, final_position={final_position}, len(model_sol['D'])= {len(model_sol['D'])}, model_sol['D'][i] = {model_sol['D'][i]}, deathData[i] = {deathData[i]}\")\n",
    "        else:\n",
    "            errors[i] = (model_sol['D'][i][initial_position] - 1.0)**2\n",
    "\n",
    "    # Calculate the total error\n",
    "    totalError = np.sum(errors)\n",
    "    return totalError\n"
   ]
  },
  {
   "cell_type": "code",
   "execution_count": 2463,
   "metadata": {},
   "outputs": [
    {
     "name": "stdout",
     "output_type": "stream",
     "text": [
      "beta =  0.29999990413218025\n",
      "p =  0.10000015278925331\n",
      "bump_center =  0.1000005503832051\n",
      "bump_width =  180.00000012694866\n",
      "bump_height =  30.00000035610224\n"
     ]
    }
   ],
   "source": [
    "# Set up the data to fit\n",
    "beginTime = southeastScania['BeginDaysPlague'].values\n",
    "endTime = southeastScania['EndDaysPlague'].values\n",
    "deathData = southeastScania['VictimsNumber'].values\n",
    "\n",
    "\n",
    "# Choose initial guesses for the parameters to fit\n",
    "beta_guess = 0.3\n",
    "p_guess = 0.1\n",
    "bump_center_guess = 0.1\n",
    "bump_width_guess = 180.0\n",
    "bump_height_guess = 30.0\n",
    "\n",
    "\n",
    "# Minimize the objective function to obtain estimates for beta and gamma\n",
    "result = optimize.minimize(objectiveFunction, x0=(beta_guess, p_guess, bump_center_guess, bump_width_guess, bump_height_guess), args=(beginTime, endTime, deathData),\n",
    "                           method='L-BFGS-B'\n",
    "                           # ,bounds=[(0, 1), (0, 1), (0, 10), (-2, 2), (-10, 10)]\n",
    "                           )\n",
    "beta_estimated, p_estimated, bump_center_estimated, bump_width_estimated, bump_height_estimated = result.x\n",
    "\n",
    "print(\"beta = \", beta_estimated)\n",
    "print(\"p = \", p_estimated)\n",
    "print(\"bump_center = \", bump_center_estimated)\n",
    "print(\"bump_width = \", bump_width_estimated)\n",
    "print(\"bump_height = \", bump_height_estimated)\n"
   ]
  },
  {
   "cell_type": "code",
   "execution_count": 2465,
   "metadata": {},
   "outputs": [],
   "source": [
    "model_estimation = {'model': SEIRD_model,\n",
    "                    'init': {\n",
    "                        'S': model_input.S0,\n",
    "                        'E': model_input.E0,\n",
    "                        'I': model_input.I0,\n",
    "                        'R': model_input.R0,\n",
    "                        'D': model_input.D0,\n",
    "                    },\n",
    "                    'gdf': southeastScania,\n",
    "                    # defining the initial values for the model\n",
    "                    'beta': beta_estimated,\n",
    "                    'p': p_estimated,\n",
    "                    'bump_center': bump_center_estimated,\n",
    "                    'bump_width': bump_width_estimated,\n",
    "                    'bump_height': bump_height_estimated,\n",
    "                    'gamma': 0.06,\n",
    "                    'sigma': 0.02,\n",
    "                    'mu': 0.2,\n",
    "                    'N': model_input.patchPop(),\n",
    "                    'n': model_input.n,\n",
    "                    'T': model_input.maxDays()}\n",
    "model_solution = generate_sol(model_estimation)\n"
   ]
  },
  {
   "cell_type": "code",
   "execution_count": 2467,
   "metadata": {},
   "outputs": [
    {
     "data": {
      "text/plain": [
       "array([0.        , 0.01309187, 0.03427668, 0.07369723, 0.14226347,\n",
       "       0.24742831, 0.39082327, 0.57052807, 0.78371439, 1.02757631])"
      ]
     },
     "execution_count": 2467,
     "metadata": {},
     "output_type": "execute_result"
    }
   ],
   "source": [
    "model_solution['D'][0][0:10]\n"
   ]
  },
  {
   "attachments": {},
   "cell_type": "markdown",
   "metadata": {},
   "source": [
    "Plotting the solution"
   ]
  },
  {
   "cell_type": "code",
   "execution_count": null,
   "metadata": {},
   "outputs": [],
   "source": [
    "# Computing the daily deaths from the model output for a given patch\n",
    "def daily_deaths(solution_model: dict, patch: int, T_inf: int, T_sup: int) -> list[float]:\n",
    "    assert T_inf >= 0, \"t must be greater than 0\"\n",
    "    assert T_sup >= 0, \"t must be greater than 0\"\n",
    "    cumulative_deaths = solution_model['D'][patch]  # list of floats\n",
    "    return [cumulative_deaths[t+1] - cumulative_deaths[t]\n",
    "            for t in range(T_inf, T_sup)]\n",
    "\n",
    "# Plotting the solution\n",
    "\n",
    "\n",
    "def plot_SIRD_solution(model: dict, state: list[str] = ['S', 'E', 'I', 'R', 'D', 'DailyDeaths']):\n",
    "\n",
    "    for key in state:\n",
    "        if key not in model:\n",
    "            raise ValueError(f\"Invalid state: {key}\")\n",
    "        for i in range(model['n']):\n",
    "            plt.plot(model['t'], model[key][i],\n",
    "                     label=f'{key} - {patchNames[i]}')\n",
    "    plt.xlabel('Time')\n",
    "    plt.ylabel('Infectious')\n",
    "    plt.title('SEIRD model')\n",
    "    # plt.legend(loc=\"upper center\", mode =\"expand\",  ncol = 19, bbox_to_anchor=(0.5, -0.25))\n",
    "    plt.show()\n"
   ]
  },
  {
   "cell_type": "code",
   "execution_count": null,
   "metadata": {},
   "outputs": [],
   "source": [
    "# Number of patches\n",
    "n = model_estimation['n']\n",
    "\n",
    "# Set the figsize for each subplot\n",
    "figsize_single_subplot = (8, 2)\n",
    "\n",
    "# Calculate the total figure height based on the number of subplots and their height\n",
    "fig_height = figsize_single_subplot[1] * n\n",
    "\n",
    "# Create a figure and an array of axes with nrows=n and ncols=1\n",
    "fig, axes = plt.subplots(nrows=n, ncols=1, figsize=(\n",
    "    figsize_single_subplot[0], fig_height), sharex=False)\n",
    "\n",
    "tick_positions = [30, 60, 90, 120, 150, 180, 210, 240,\n",
    "                  270, 300, 330, 360, 390, 420, 450, 480, 510, 540, 570]\n",
    "tick_labels = [\"Apr 1712\", \"May 1712\", \"Jun 1712\", \"Jul 1712\", \"Aug 1712\", \"Sep 1712\", \"Oct 1712\", \"Nov 1712\", \"Dec 1712\", \"Jan 1713\", \"Feb 1713\", \"Mar 1713\", \"Apr 1713\", \"May 1713\", \"Jun 1713\", \"Jul 1713\", \"Aug 1713\", \"Sep 1713\", \"Oct 1713\"\n",
    "               ]\n",
    "\n",
    "# Plot daily deaths for each patch i\n",
    "for i in range(n):\n",
    "    if TotalDeathsByParish[i] != 0 and EndPlagueByParish[i] != 0:\n",
    "        initial_position = beginTime[i]\n",
    "        final_position = EndPlagueByParish[i]\n",
    "        axes[i].plot(final_position, TotalDeathsByParish[i],\n",
    "                     'bo', label='Observed data')\n",
    "        axes[i].plot(model_dict['D'][i], color='orange', label=(patchNames[i]))\n",
    "        axes[i].set_ylabel('Cumulative Deaths', font='Helvetica')\n",
    "        axes[i].legend(loc='lower right')\n",
    "        axes[i].set_xticks(tick_positions, tick_labels,\n",
    "                           rotation=70, font='Helvetica', fontsize=9)\n",
    "    else:\n",
    "        axes[i].plot(model_dict['D'][i], color='orange', label=(patchNames[i]))\n",
    "        axes[i].set_ylabel('Cumulative Deaths', font='Helvetica')\n",
    "        axes[i].legend(loc='lower right')\n",
    "        axes[i].set_xticks(tick_positions, tick_labels,\n",
    "                           rotation=70, font='Helvetica', fontsize=9)\n",
    "\n",
    "# Adjust the layout to avoid overlapping\n",
    "plt.tight_layout()\n",
    "plt.show()\n"
   ]
  },
  {
   "cell_type": "code",
   "execution_count": null,
   "metadata": {},
   "outputs": [],
   "source": [
    "# Set the figsize for each subplot\n",
    "figsize_single_subplot = (8, 2)\n",
    "\n",
    "# Calculate the total figure height based on the number of subplots and their height\n",
    "fig_height = figsize_single_subplot[1] * n\n",
    "\n",
    "# Create a figure and an array of axes with nrows=n and ncols=1\n",
    "fig, axes = plt.subplots(nrows=n, ncols=1, figsize=(\n",
    "    figsize_single_subplot[0], fig_height))\n",
    "\n",
    "tick_labels = [\"Mar 1712\", \"Apr 1712\", \"May 1712\", \"Jun 1712\", \"Jul 1712\", \"Aug 1712\", \"Sep 1712\", \"Oct 1712\", \"Nov 1712\", \"Dec 1712\", \"Jan 1713\", \"Feb 1713\", \"Mar 1713\", \"Apr 1713\", \"May 1713\", \"Jun 1713\", \"Jul 1713\", \"Aug 1713\", \"Sep 1713\", \"Oct 1713\"\n",
    "               ]\n",
    "tick_positions = [0, 30, 60, 90, 120, 150, 180, 210, 240,\n",
    "                  270, 300, 330, 360, 390, 420, 450, 480, 510, 540, 570]\n",
    "\n",
    "\n",
    "for i in range(n):\n",
    "    # Plot daily deaths for each patch i\n",
    "    axes[i].plot(daily_deaths(model_dict, i, 0, 570),\n",
    "                 color='blue', label=(patchNames[i]))\n",
    "    axes[i].set_ylabel('Daily Deaths', font='Helvetica')\n",
    "    axes[i].legend(loc='upper right')\n",
    "    axes[i].xaxis.set_ticks(tick_positions, tick_labels,\n",
    "                            rotation=70, font='Helvetica', fontsize=9)\n",
    "\n",
    "# Adjust the layout to avoid overlapping\n",
    "plt.tight_layout()\n",
    "plt.show()\n"
   ]
  }
 ],
 "metadata": {
  "kernelspec": {
   "display_name": "Python 3",
   "language": "python",
   "name": "python3"
  },
  "language_info": {
   "codemirror_mode": {
    "name": "ipython",
    "version": 3
   },
   "file_extension": ".py",
   "mimetype": "text/x-python",
   "name": "python",
   "nbconvert_exporter": "python",
   "pygments_lexer": "ipython3",
   "version": "3.11.3"
  },
  "vscode": {
   "interpreter": {
    "hash": "bd385fe162c5ca0c84973b7dd5c518456272446b2b64e67c2a69f949ca7a1754"
   }
  }
 },
 "nbformat": 4,
 "nbformat_minor": 2
}
