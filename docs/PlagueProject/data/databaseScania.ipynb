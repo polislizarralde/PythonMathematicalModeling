{
 "cells": [
  {
   "cell_type": "code",
   "execution_count": 245,
   "metadata": {},
   "outputs": [],
   "source": [
    "#Python 3.11.2\n",
    "#Import packages\n",
    "import pandas as pd\n",
    "import numpy as np\n",
    "import pylab as pl\n",
    "import random\n",
    "import matplotlib.pyplot as plt\n",
    "from collections import defaultdict\n",
    "import json # for pretty printing\n",
    "import geopandas as gpd"
   ]
  },
  {
   "cell_type": "markdown",
   "metadata": {},
   "source": [
    "We have three different data sources. \n",
    "\n",
    "1. The data collected by Bodil corresponds to the plague period.\n",
    "2. The information from the TABVERK database includes the population size for parishes in the posterior years of the plague.\n",
    "3. The geographical information (polygons) for some parishes. This information doesn't correspond to the plague period.\n",
    "\n",
    "Our goal is to create a unique database for our project: Plague spread across Scania, Sweden, from 1710 to 1715."
   ]
  },
  {
   "attachments": {},
   "cell_type": "markdown",
   "metadata": {},
   "source": [
    "First we read the different data sources (.xlsx, .csv, and .shp files)"
   ]
  },
  {
   "cell_type": "code",
   "execution_count": 288,
   "metadata": {},
   "outputs": [],
   "source": [
    "allParishesScania_path = '/Users/polislizarralde/PythonMathematicalModeling/docs/PlagueProject/data/allParishesScania.xlsx'\n",
    "allParishesScania = pd.read_excel(allParishesScania_path)"
   ]
  },
  {
   "attachments": {},
   "cell_type": "markdown",
   "metadata": {},
   "source": [
    "Transforming the lowercase to uppercase and checking the type"
   ]
  },
  {
   "cell_type": "code",
   "execution_count": 289,
   "metadata": {},
   "outputs": [
    {
     "data": {
      "text/plain": [
       "pandas.core.frame.DataFrame"
      ]
     },
     "execution_count": 289,
     "metadata": {},
     "output_type": "execute_result"
    }
   ],
   "source": [
    "allParishesScania = allParishesScania.apply(lambda x: x.astype(str).str.upper())\n",
    "allParishesScania.head()\n",
    "type(allParishesScania)"
   ]
  },
  {
   "attachments": {},
   "cell_type": "markdown",
   "metadata": {},
   "source": [
    "Defining a function for extracting the names of the parishes in the data frame"
   ]
  },
  {
   "cell_type": "code",
   "execution_count": 290,
   "metadata": {},
   "outputs": [
    {
     "data": {
      "text/plain": [
       "398"
      ]
     },
     "execution_count": 290,
     "metadata": {},
     "output_type": "execute_result"
    }
   ],
   "source": [
    "def get_Names(data: pd.DataFrame, heading:str) -> list:\n",
    "    return data[heading].tolist()   \n",
    "\n",
    "len(get_Names(allParishesScania, 'Parish Name')) "
   ]
  },
  {
   "attachments": {},
   "cell_type": "markdown",
   "metadata": {},
   "source": [
    "Filtering the data frame by region and then get the names of the parishes:"
   ]
  },
  {
   "cell_type": "code",
   "execution_count": 291,
   "metadata": {},
   "outputs": [],
   "source": [
    "southeastParishes = allParishesScania.loc[allParishesScania['Region'] == 'SOUTHEAST']\n",
    "southeastParishes_names = get_Names(southeastParishes, 'Parish Name')"
   ]
  },
  {
   "cell_type": "code",
   "execution_count": 292,
   "metadata": {},
   "outputs": [
    {
     "data": {
      "text/plain": [
       "'BRÖSARP'"
      ]
     },
     "execution_count": 292,
     "metadata": {},
     "output_type": "execute_result"
    }
   ],
   "source": [
    "southeastParishes_names[1]"
   ]
  },
  {
   "attachments": {},
   "cell_type": "markdown",
   "metadata": {},
   "source": [
    "Reading the census file:"
   ]
  },
  {
   "cell_type": "code",
   "execution_count": 246,
   "metadata": {},
   "outputs": [
    {
     "data": {
      "text/plain": [
       "(102360, 50)"
      ]
     },
     "execution_count": 246,
     "metadata": {},
     "output_type": "execute_result"
    }
   ],
   "source": [
    "census_path = '/Users/polislizarralde/Desktop/CensusScania/FILE01_FALD.csv'\n",
    "censusSweden = pd.read_csv(census_path, sep=';')\n",
    "censusSweden.shape"
   ]
  },
  {
   "attachments": {},
   "cell_type": "markdown",
   "metadata": {},
   "source": [
    "Checking the memory usage"
   ]
  },
  {
   "cell_type": "code",
   "execution_count": 247,
   "metadata": {},
   "outputs": [
    {
     "name": "stdout",
     "output_type": "stream",
     "text": [
      "<class 'pandas.core.frame.DataFrame'>\n",
      "RangeIndex: 102360 entries, 0 to 102359\n",
      "Data columns (total 50 columns):\n",
      " #   Column       Non-Null Count   Dtype  \n",
      "---  ------       --------------   -----  \n",
      " 0   LANGEN       102360 non-null  int64  \n",
      " 1   LANGENNMN    102360 non-null  object \n",
      " 2   GEOID        102360 non-null  int64  \n",
      " 3   GEOIDNMN     102360 non-null  object \n",
      " 4   GEOIDTYP     102360 non-null  int64  \n",
      " 5   AR           102360 non-null  int64  \n",
      " 6   FORMNR       102360 non-null  int64  \n",
      " 7   KON          102360 non-null  int64  \n",
      " 8   FORMID       102360 non-null  int64  \n",
      " 9   ALD00        102360 non-null  int64  \n",
      " 10  ALD01        102360 non-null  int64  \n",
      " 11  ALD03        102360 non-null  int64  \n",
      " 12  ALD03_1      102360 non-null  int64  \n",
      " 13  ALD05        102360 non-null  int64  \n",
      " 14  ALD05_2      102360 non-null  int64  \n",
      " 15  ALD10        102360 non-null  int64  \n",
      " 16  ALD15        102360 non-null  int64  \n",
      " 17  ALD15_1      102360 non-null  int64  \n",
      " 18  ALD15_2      102360 non-null  int64  \n",
      " 19  ALD20        102360 non-null  int64  \n",
      " 20  ALD25        102360 non-null  int64  \n",
      " 21  ALD30        102360 non-null  int64  \n",
      " 22  ALD35        102360 non-null  int64  \n",
      " 23  ALD40        102360 non-null  int64  \n",
      " 24  ALD45        102360 non-null  int64  \n",
      " 25  ALD50        102360 non-null  int64  \n",
      " 26  ALD55        102360 non-null  int64  \n",
      " 27  ALD60        102360 non-null  int64  \n",
      " 28  ALD60_1      102360 non-null  int64  \n",
      " 29  ALD60_2      102360 non-null  int64  \n",
      " 30  ALD65        102360 non-null  int64  \n",
      " 31  ALD70        102360 non-null  int64  \n",
      " 32  ALD75        102360 non-null  int64  \n",
      " 33  ALD80        102360 non-null  int64  \n",
      " 34  ALD85        102360 non-null  int64  \n",
      " 35  ALD90        102360 non-null  int64  \n",
      " 36  ALD90_N      102360 non-null  int64  \n",
      " 37  ALD95        102360 non-null  int64  \n",
      " 38  ALD101_N     102360 non-null  int64  \n",
      " 39  ALD100       102360 non-null  int64  \n",
      " 40  ALD101       102360 non-null  int64  \n",
      " 41  ALD102       102360 non-null  int64  \n",
      " 42  ALD103       102360 non-null  int64  \n",
      " 43  ALD104       102360 non-null  int64  \n",
      " 44  ALD105_N     102360 non-null  int64  \n",
      " 45  BEF_SUM      102360 non-null  int64  \n",
      " 46  BEF_TOT      102360 non-null  int64  \n",
      " 47  BEF_GENSUM   102360 non-null  int64  \n",
      " 48  BEF_GENTOT   102360 non-null  int64  \n",
      " 49  Unnamed: 49  0 non-null       float64\n",
      "dtypes: float64(1), int64(47), object(2)\n",
      "memory usage: 54.4 MB\n"
     ]
    }
   ],
   "source": [
    "censusSweden.info(memory_usage='deep')"
   ]
  },
  {
   "attachments": {},
   "cell_type": "markdown",
   "metadata": {},
   "source": [
    "Checking the names of all columns in the data"
   ]
  },
  {
   "cell_type": "code",
   "execution_count": 248,
   "metadata": {},
   "outputs": [
    {
     "data": {
      "text/plain": [
       "Index(['LANGEN', 'LANGENNMN', 'GEOID', 'GEOIDNMN', 'GEOIDTYP', 'AR', 'FORMNR',\n",
       "       'KON', 'FORMID', 'ALD00', 'ALD01', 'ALD03', 'ALD03_1', 'ALD05',\n",
       "       'ALD05_2', 'ALD10', 'ALD15', 'ALD15_1', 'ALD15_2', 'ALD20', 'ALD25',\n",
       "       'ALD30', 'ALD35', 'ALD40', 'ALD45', 'ALD50', 'ALD55', 'ALD60',\n",
       "       'ALD60_1', 'ALD60_2', 'ALD65', 'ALD70', 'ALD75', 'ALD80', 'ALD85',\n",
       "       'ALD90', 'ALD90_N', 'ALD95', 'ALD101_N', 'ALD100', 'ALD101', 'ALD102',\n",
       "       'ALD103', 'ALD104', 'ALD105_N', 'BEF_SUM', 'BEF_TOT', 'BEF_GENSUM',\n",
       "       'BEF_GENTOT', 'Unnamed: 49'],\n",
       "      dtype='object')"
      ]
     },
     "execution_count": 248,
     "metadata": {},
     "output_type": "execute_result"
    }
   ],
   "source": [
    "censusSweden.columns"
   ]
  },
  {
   "attachments": {},
   "cell_type": "markdown",
   "metadata": {},
   "source": [
    "Calling the data only with specific columns"
   ]
  },
  {
   "cell_type": "code",
   "execution_count": 249,
   "metadata": {},
   "outputs": [],
   "source": [
    "censusSweden = pd.read_csv(census_path, sep=';', usecols=[\n",
    "                           'LANGEN', 'LANGENNMN', 'GEOID', 'GEOIDNMN', 'GEOIDTYP', 'AR', 'FORMNR', 'KON', 'FORMID', 'BEF_SUM', 'BEF_TOT', 'BEF_GENSUM', 'BEF_GENTOT'])\n"
   ]
  },
  {
   "attachments": {},
   "cell_type": "markdown",
   "metadata": {},
   "source": [
    "Processing the census data such that corresponds only to Scania"
   ]
  },
  {
   "cell_type": "code",
   "execution_count": 250,
   "metadata": {},
   "outputs": [
    {
     "data": {
      "text/plain": [
       "(8748, 13)"
      ]
     },
     "execution_count": 250,
     "metadata": {},
     "output_type": "execute_result"
    }
   ],
   "source": [
    "censusScania = censusSweden.loc[((censusSweden['LANGENNMN'] == 'KRISTIANSTADS LÄN') | (\n",
    "    censusSweden['LANGENNMN'] == 'MALMÖHUS LÄN')) & (censusSweden['KON'] == 1)]\n",
    "censusScania.shape"
   ]
  },
  {
   "attachments": {},
   "cell_type": "markdown",
   "metadata": {},
   "source": [
    "Process the data from Scania only to keep the first population size registered for each parish.\n",
    "This was done following two approaches: the first one by grouping the data by parish name and then selecting the minimum year. The second approach is exhaustively exploring the given DataFrame and keeping the required information in a dictionary. The information required in our case corresponds to the position associated with each parish name and the minimum year, according to the original DataFrame. "
   ]
  },
  {
   "attachments": {},
   "cell_type": "markdown",
   "metadata": {},
   "source": [
    "1. First approach:"
   ]
  },
  {
   "cell_type": "code",
   "execution_count": 251,
   "metadata": {},
   "outputs": [],
   "source": [
    "#Group a Pandas DataFrame by a column\n",
    "parish_grp = censusScania.groupby(['GEOIDNMN'])\n",
    "#Get a group by an element of the column\n",
    "example = parish_grp.get_group('SANKT MARIA (YSTAD SF)')\n",
    "#Select the row with minimum value in Pandas dataframe\n",
    "example[example.AR == example.AR.min()]\n",
    "\n",
    "#Get the unique values of a column\n",
    "parish_grp['GEOIDNMN'].unique()\n",
    "#Get the unique values of a column as a list\n",
    "parish_grp_name = parish_grp['GEOIDNMN'].unique().tolist()\n",
    "#Get the unique values of a column as a list of strings\n",
    "parish_names = [parish_name[0] for parish_name in parish_grp_name]\n"
   ]
  },
  {
   "cell_type": "code",
   "execution_count": 271,
   "metadata": {},
   "outputs": [
    {
     "name": "stdout",
     "output_type": "stream",
     "text": [
      "(495, 13)\n"
     ]
    }
   ],
   "source": [
    "parish_grp = censusScania.groupby(['GEOIDNMN'])\n",
    "parish_grp_name = parish_grp['GEOIDNMN'].unique().tolist()\n",
    "parish_names = [parish_name[0] for parish_name in parish_grp_name]\n",
    "\n",
    "popSizeScania = pd.DataFrame() \n",
    "\n",
    "for i in range(len(parish_grp)):\n",
    "    grp_i = parish_grp.get_group(parish_names[i])\n",
    "    grp_i[grp_i.AR == grp_i.AR.min()]\n",
    "    popSizeScania = pd.concat([popSizeScania, (grp_i[grp_i.AR == grp_i.AR.min()])], axis=0)\n",
    "\n",
    "print(popSizeScania.shape)  "
   ]
  },
  {
   "cell_type": "code",
   "execution_count": 272,
   "metadata": {},
   "outputs": [
    {
     "data": {
      "text/html": [
       "<div>\n",
       "<style scoped>\n",
       "    .dataframe tbody tr th:only-of-type {\n",
       "        vertical-align: middle;\n",
       "    }\n",
       "\n",
       "    .dataframe tbody tr th {\n",
       "        vertical-align: top;\n",
       "    }\n",
       "\n",
       "    .dataframe thead th {\n",
       "        text-align: right;\n",
       "    }\n",
       "</style>\n",
       "<table border=\"1\" class=\"dataframe\">\n",
       "  <thead>\n",
       "    <tr style=\"text-align: right;\">\n",
       "      <th></th>\n",
       "      <th>LANGEN</th>\n",
       "      <th>LANGENNMN</th>\n",
       "      <th>GEOID</th>\n",
       "      <th>GEOIDNMN</th>\n",
       "      <th>GEOIDTYP</th>\n",
       "      <th>AR</th>\n",
       "      <th>FORMNR</th>\n",
       "      <th>KON</th>\n",
       "      <th>FORMID</th>\n",
       "      <th>BEF_SUM</th>\n",
       "      <th>BEF_TOT</th>\n",
       "      <th>BEF_GENSUM</th>\n",
       "      <th>BEF_GENTOT</th>\n",
       "    </tr>\n",
       "  </thead>\n",
       "  <tbody>\n",
       "    <tr>\n",
       "      <th>56846</th>\n",
       "      <td>12</td>\n",
       "      <td>MALMÖHUS LÄN</td>\n",
       "      <td>72430</td>\n",
       "      <td>ALLERUM</td>\n",
       "      <td>0</td>\n",
       "      <td>1783</td>\n",
       "      <td>200</td>\n",
       "      <td>1</td>\n",
       "      <td>140161</td>\n",
       "      <td>754</td>\n",
       "      <td>1498</td>\n",
       "      <td>746</td>\n",
       "      <td>1497</td>\n",
       "    </tr>\n",
       "    <tr>\n",
       "      <th>48610</th>\n",
       "      <td>12</td>\n",
       "      <td>MALMÖHUS LÄN</td>\n",
       "      <td>69119</td>\n",
       "      <td>ALSEDA PASTORAT</td>\n",
       "      <td>1</td>\n",
       "      <td>1795</td>\n",
       "      <td>200</td>\n",
       "      <td>1</td>\n",
       "      <td>119630</td>\n",
       "      <td>134</td>\n",
       "      <td>252</td>\n",
       "      <td>134</td>\n",
       "      <td>252</td>\n",
       "    </tr>\n",
       "    <tr>\n",
       "      <th>51476</th>\n",
       "      <td>12</td>\n",
       "      <td>MALMÖHUS LÄN</td>\n",
       "      <td>70720</td>\n",
       "      <td>ANDERSLÖV</td>\n",
       "      <td>0</td>\n",
       "      <td>1749</td>\n",
       "      <td>100</td>\n",
       "      <td>1</td>\n",
       "      <td>126836</td>\n",
       "      <td>300</td>\n",
       "      <td>629</td>\n",
       "      <td>300</td>\n",
       "      <td>629</td>\n",
       "    </tr>\n",
       "    <tr>\n",
       "      <th>41074</th>\n",
       "      <td>11</td>\n",
       "      <td>KRISTIANSTADS LÄN</td>\n",
       "      <td>72790</td>\n",
       "      <td>ANDRARUM</td>\n",
       "      <td>0</td>\n",
       "      <td>1749</td>\n",
       "      <td>100</td>\n",
       "      <td>1</td>\n",
       "      <td>101044</td>\n",
       "      <td>695</td>\n",
       "      <td>1454</td>\n",
       "      <td>695</td>\n",
       "      <td>1454</td>\n",
       "    </tr>\n",
       "    <tr>\n",
       "      <th>56026</th>\n",
       "      <td>12</td>\n",
       "      <td>MALMÖHUS LÄN</td>\n",
       "      <td>72130</td>\n",
       "      <td>ANNELÖV</td>\n",
       "      <td>0</td>\n",
       "      <td>1775</td>\n",
       "      <td>200</td>\n",
       "      <td>1</td>\n",
       "      <td>138203</td>\n",
       "      <td>195</td>\n",
       "      <td>394</td>\n",
       "      <td>195</td>\n",
       "      <td>393</td>\n",
       "    </tr>\n",
       "    <tr>\n",
       "      <th>...</th>\n",
       "      <td>...</td>\n",
       "      <td>...</td>\n",
       "      <td>...</td>\n",
       "      <td>...</td>\n",
       "      <td>...</td>\n",
       "      <td>...</td>\n",
       "      <td>...</td>\n",
       "      <td>...</td>\n",
       "      <td>...</td>\n",
       "      <td>...</td>\n",
       "      <td>...</td>\n",
       "      <td>...</td>\n",
       "      <td>...</td>\n",
       "    </tr>\n",
       "    <tr>\n",
       "      <th>54826</th>\n",
       "      <td>12</td>\n",
       "      <td>MALMÖHUS LÄN</td>\n",
       "      <td>71720</td>\n",
       "      <td>ÖSTRABY</td>\n",
       "      <td>0</td>\n",
       "      <td>1749</td>\n",
       "      <td>100</td>\n",
       "      <td>1</td>\n",
       "      <td>135240</td>\n",
       "      <td>355</td>\n",
       "      <td>781</td>\n",
       "      <td>355</td>\n",
       "      <td>781</td>\n",
       "    </tr>\n",
       "    <tr>\n",
       "      <th>54480</th>\n",
       "      <td>12</td>\n",
       "      <td>MALMÖHUS LÄN</td>\n",
       "      <td>71630</td>\n",
       "      <td>ÖVED</td>\n",
       "      <td>0</td>\n",
       "      <td>1749</td>\n",
       "      <td>100</td>\n",
       "      <td>1</td>\n",
       "      <td>134353</td>\n",
       "      <td>223</td>\n",
       "      <td>456</td>\n",
       "      <td>223</td>\n",
       "      <td>456</td>\n",
       "    </tr>\n",
       "    <tr>\n",
       "      <th>42098</th>\n",
       "      <td>11</td>\n",
       "      <td>KRISTIANSTADS LÄN</td>\n",
       "      <td>73100</td>\n",
       "      <td>ÖVRABY</td>\n",
       "      <td>0</td>\n",
       "      <td>1775</td>\n",
       "      <td>200</td>\n",
       "      <td>1</td>\n",
       "      <td>103666</td>\n",
       "      <td>142</td>\n",
       "      <td>299</td>\n",
       "      <td>142</td>\n",
       "      <td>299</td>\n",
       "    </tr>\n",
       "    <tr>\n",
       "      <th>42110</th>\n",
       "      <td>11</td>\n",
       "      <td>KRISTIANSTADS LÄN</td>\n",
       "      <td>73101</td>\n",
       "      <td>ÖVRABY, DEL (KRISTIANSTAD)</td>\n",
       "      <td>9</td>\n",
       "      <td>1805</td>\n",
       "      <td>310</td>\n",
       "      <td>1</td>\n",
       "      <td>103702</td>\n",
       "      <td>150</td>\n",
       "      <td>300</td>\n",
       "      <td>150</td>\n",
       "      <td>300</td>\n",
       "    </tr>\n",
       "    <tr>\n",
       "      <th>58100</th>\n",
       "      <td>12</td>\n",
       "      <td>MALMÖHUS LÄN</td>\n",
       "      <td>73102</td>\n",
       "      <td>ÖVRABY, DEL (MALMÖHUS)</td>\n",
       "      <td>9</td>\n",
       "      <td>1810</td>\n",
       "      <td>310</td>\n",
       "      <td>1</td>\n",
       "      <td>143372</td>\n",
       "      <td>30</td>\n",
       "      <td>63</td>\n",
       "      <td>30</td>\n",
       "      <td>63</td>\n",
       "    </tr>\n",
       "  </tbody>\n",
       "</table>\n",
       "<p>495 rows × 13 columns</p>\n",
       "</div>"
      ],
      "text/plain": [
       "       LANGEN          LANGENNMN  GEOID                    GEOIDNMN  GEOIDTYP  \\\n",
       "56846      12       MALMÖHUS LÄN  72430                     ALLERUM         0   \n",
       "48610      12       MALMÖHUS LÄN  69119             ALSEDA PASTORAT         1   \n",
       "51476      12       MALMÖHUS LÄN  70720                   ANDERSLÖV         0   \n",
       "41074      11  KRISTIANSTADS LÄN  72790                    ANDRARUM         0   \n",
       "56026      12       MALMÖHUS LÄN  72130                     ANNELÖV         0   \n",
       "...       ...                ...    ...                         ...       ...   \n",
       "54826      12       MALMÖHUS LÄN  71720                     ÖSTRABY         0   \n",
       "54480      12       MALMÖHUS LÄN  71630                        ÖVED         0   \n",
       "42098      11  KRISTIANSTADS LÄN  73100                      ÖVRABY         0   \n",
       "42110      11  KRISTIANSTADS LÄN  73101  ÖVRABY, DEL (KRISTIANSTAD)         9   \n",
       "58100      12       MALMÖHUS LÄN  73102      ÖVRABY, DEL (MALMÖHUS)         9   \n",
       "\n",
       "         AR  FORMNR  KON  FORMID  BEF_SUM  BEF_TOT  BEF_GENSUM  BEF_GENTOT  \n",
       "56846  1783     200    1  140161      754     1498         746        1497  \n",
       "48610  1795     200    1  119630      134      252         134         252  \n",
       "51476  1749     100    1  126836      300      629         300         629  \n",
       "41074  1749     100    1  101044      695     1454         695        1454  \n",
       "56026  1775     200    1  138203      195      394         195         393  \n",
       "...     ...     ...  ...     ...      ...      ...         ...         ...  \n",
       "54826  1749     100    1  135240      355      781         355         781  \n",
       "54480  1749     100    1  134353      223      456         223         456  \n",
       "42098  1775     200    1  103666      142      299         142         299  \n",
       "42110  1805     310    1  103702      150      300         150         300  \n",
       "58100  1810     310    1  143372       30       63          30          63  \n",
       "\n",
       "[495 rows x 13 columns]"
      ]
     },
     "execution_count": 272,
     "metadata": {},
     "output_type": "execute_result"
    }
   ],
   "source": [
    "popSizeScania"
   ]
  },
  {
   "attachments": {},
   "cell_type": "markdown",
   "metadata": {},
   "source": [
    "2. Second approach"
   ]
  },
  {
   "cell_type": "code",
   "execution_count": 270,
   "metadata": {},
   "outputs": [
    {
     "name": "stdout",
     "output_type": "stream",
     "text": [
      "(495, 13)\n"
     ]
    }
   ],
   "source": [
    "aux_dict = {}\n",
    "popSizeScania = pd.DataFrame() \n",
    "\n",
    "for i in range(len(censusScania)):\n",
    "    name_i = censusScania['GEOIDNMN'].iloc[i]\n",
    "    ar_i = censusScania['AR'].iloc[i]\n",
    "    if name_i in aux_dict:\n",
    "        if ar_i < aux_dict[name_i]['min']:\n",
    "            aux_dict[name_i] = {'min': ar_i, 'position': i}\n",
    "    else:\n",
    "        aux_dict[name_i] = {'min': ar_i, 'position': i}\n",
    "final_positions = [value['position'] for key, value in aux_dict.items()]\n",
    "popSizeScania = censusScania.iloc[final_positions]   \n",
    "print(popSizeScania.shape)            \n",
    "    "
   ]
  },
  {
   "cell_type": "code",
   "execution_count": 293,
   "metadata": {},
   "outputs": [
    {
     "data": {
      "text/plain": [
       "['ANDRARUM',\n",
       " 'BRÖSARP',\n",
       " 'ELJARÖD',\n",
       " 'FÅGELTOFTA',\n",
       " 'RAVLUNDA',\n",
       " 'RÖRUM',\n",
       " 'SANKT OLOF',\n",
       " 'SÖDRA MELLBY',\n",
       " 'VITABY',\n",
       " 'BALDRINGE',\n",
       " 'BJÄRESJÖ',\n",
       " 'BORRIE',\n",
       " 'BROMMA',\n",
       " 'HEDESKOGA',\n",
       " 'HÖGESTA',\n",
       " 'STORA HERRESTA',\n",
       " 'SÖVESTAD',\n",
       " 'TRANÅS',\n",
       " 'YSTAD SANKT PETRI',\n",
       " 'YSTAD SANKT MARIA',\n",
       " 'ÖJA',\n",
       " 'BENESTAD',\n",
       " 'BOLLERUP',\n",
       " 'GLEMMINGE',\n",
       " 'HAMMENHÖG',\n",
       " 'HANNAS',\n",
       " 'HÖRUP',\n",
       " 'INGELSTORP',\n",
       " 'KVERRESTAD',\n",
       " 'LÖDERUP',\n",
       " 'ONSLUNDA',\n",
       " 'SMEDSTORP',\n",
       " 'SPJUTSTORP',\n",
       " 'STORA KÖPINGE',\n",
       " 'TOSTERUP',\n",
       " 'TRYDE',\n",
       " 'ULLSTORP',\n",
       " 'VALLEBERGA',\n",
       " 'ÖSTRA HERRESTA',\n",
       " 'ÖSTRA HOBY',\n",
       " 'ÖSTRA INGELSTAD',\n",
       " 'ÖVRABY',\n",
       " 'BOLSHÖG',\n",
       " 'BORRBY',\n",
       " 'GLADSAX',\n",
       " 'JERRESTAD',\n",
       " 'SIMRIS',\n",
       " 'SIMRISHAMN',\n",
       " 'STIBY',\n",
       " 'VALLBY',\n",
       " 'ÖSTRA NÖBBELÖV',\n",
       " 'ÖSTRA TOMMARP',\n",
       " 'ÖSTRA VEMMERLÖV',\n",
       " 'BALKÅKRA',\n",
       " 'KATSLÖSA',\n",
       " 'SKÅRBY',\n",
       " 'SKÖRUP',\n",
       " 'SNÅRESTAD',\n",
       " 'VILLIE',\n",
       " 'VÄSTRA NÖBBELÖV']"
      ]
     },
     "execution_count": 293,
     "metadata": {},
     "output_type": "execute_result"
    }
   ],
   "source": [
    "southeastParishes_names"
   ]
  },
  {
   "cell_type": "code",
   "execution_count": 294,
   "metadata": {},
   "outputs": [],
   "source": [
    "def check_name(data: pd.DataFrame, column: pd.Series, name: str):\n",
    "    filt_name = column.str.contains(name, na=False)\n",
    "    return data.loc[filt_name]\n",
    "\n",
    "#check_name(popSizeScania, popSizeScania['GEOIDNMN'], southeastParishes_names)\n"
   ]
  },
  {
   "cell_type": "code",
   "execution_count": 295,
   "metadata": {},
   "outputs": [
    {
     "name": "stdout",
     "output_type": "stream",
     "text": [
      "['SANKT OLOF']\n",
      "['SANKT OLOF', 'YSTAD SANKT PETRI']\n",
      "['SANKT OLOF', 'YSTAD SANKT PETRI', 'YSTAD SANKT MARIA']\n",
      "['SANKT OLOF', 'YSTAD SANKT PETRI', 'YSTAD SANKT MARIA', 'JERRESTAD']\n",
      "['SANKT OLOF', 'YSTAD SANKT PETRI', 'YSTAD SANKT MARIA', 'JERRESTAD', 'SKÖRUP']\n"
     ]
    }
   ],
   "source": [
    "southeastParishesNoPop = []\n",
    "\n",
    "for name in southeastParishes_names:\n",
    "    filter_data = check_name(popSizeScania, popSizeScania['GEOIDNMN'], name)\n",
    "    if len(filter_data) == 0 :\n",
    "        southeastParishesNoPop = southeastParishesNoPop + [name]\n",
    "    else:\n",
    "        continue\n",
    "    print(southeastParishesNoPop)\n",
    "    "
   ]
  },
  {
   "cell_type": "code",
   "execution_count": 287,
   "metadata": {},
   "outputs": [
    {
     "data": {
      "text/html": [
       "<div>\n",
       "<style scoped>\n",
       "    .dataframe tbody tr th:only-of-type {\n",
       "        vertical-align: middle;\n",
       "    }\n",
       "\n",
       "    .dataframe tbody tr th {\n",
       "        vertical-align: top;\n",
       "    }\n",
       "\n",
       "    .dataframe thead th {\n",
       "        text-align: right;\n",
       "    }\n",
       "</style>\n",
       "<table border=\"1\" class=\"dataframe\">\n",
       "  <thead>\n",
       "    <tr style=\"text-align: right;\">\n",
       "      <th></th>\n",
       "      <th>LANGEN</th>\n",
       "      <th>LANGENNMN</th>\n",
       "      <th>GEOID</th>\n",
       "      <th>GEOIDNMN</th>\n",
       "      <th>GEOIDTYP</th>\n",
       "      <th>AR</th>\n",
       "      <th>FORMNR</th>\n",
       "      <th>KON</th>\n",
       "      <th>FORMID</th>\n",
       "      <th>BEF_SUM</th>\n",
       "      <th>BEF_TOT</th>\n",
       "      <th>BEF_GENSUM</th>\n",
       "      <th>BEF_GENTOT</th>\n",
       "    </tr>\n",
       "  </thead>\n",
       "  <tbody>\n",
       "  </tbody>\n",
       "</table>\n",
       "</div>"
      ],
      "text/plain": [
       "Empty DataFrame\n",
       "Columns: [LANGEN, LANGENNMN, GEOID, GEOIDNMN, GEOIDTYP, AR, FORMNR, KON, FORMID, BEF_SUM, BEF_TOT, BEF_GENSUM, BEF_GENTOT]\n",
       "Index: []"
      ]
     },
     "execution_count": 287,
     "metadata": {},
     "output_type": "execute_result"
    }
   ],
   "source": [
    "check_name(popSizeScania, popSizeScania['GEOIDNMN'], 'YSTAD')\n",
    "check_name(popSizeScania, popSizeScania['GEOIDNMN'], 'OLOFS')\n"
   ]
  },
  {
   "cell_type": "code",
   "execution_count": 213,
   "metadata": {},
   "outputs": [
    {
     "data": {
      "text/plain": [
       "pandas.core.series.Series"
      ]
     },
     "execution_count": 213,
     "metadata": {},
     "output_type": "execute_result"
    }
   ],
   "source": [
    "type(censusScania['GEOIDNMN'])"
   ]
  },
  {
   "cell_type": "code",
   "execution_count": 220,
   "metadata": {},
   "outputs": [
    {
     "data": {
      "text/html": [
       "<div>\n",
       "<style scoped>\n",
       "    .dataframe tbody tr th:only-of-type {\n",
       "        vertical-align: middle;\n",
       "    }\n",
       "\n",
       "    .dataframe tbody tr th {\n",
       "        vertical-align: top;\n",
       "    }\n",
       "\n",
       "    .dataframe thead th {\n",
       "        text-align: right;\n",
       "    }\n",
       "</style>\n",
       "<table border=\"1\" class=\"dataframe\">\n",
       "  <thead>\n",
       "    <tr style=\"text-align: right;\">\n",
       "      <th></th>\n",
       "      <th>LANGEN</th>\n",
       "      <th>LANGENNMN</th>\n",
       "      <th>GEOID</th>\n",
       "      <th>GEOIDNMN</th>\n",
       "      <th>GEOIDTYP</th>\n",
       "      <th>AR</th>\n",
       "      <th>FORMNR</th>\n",
       "      <th>KON</th>\n",
       "      <th>FORMID</th>\n",
       "      <th>BEF_SUM</th>\n",
       "      <th>BEF_TOT</th>\n",
       "      <th>BEF_GENSUM</th>\n",
       "      <th>BEF_GENTOT</th>\n",
       "    </tr>\n",
       "  </thead>\n",
       "  <tbody>\n",
       "    <tr>\n",
       "      <th>40902</th>\n",
       "      <td>11</td>\n",
       "      <td>KRISTIANSTADS LÄN</td>\n",
       "      <td>71342</td>\n",
       "      <td>NORRA RÖRUM, DEL (KRISTIANSTAD)</td>\n",
       "      <td>9</td>\n",
       "      <td>1855</td>\n",
       "      <td>610</td>\n",
       "      <td>1</td>\n",
       "      <td>100573</td>\n",
       "      <td>169</td>\n",
       "      <td>346</td>\n",
       "      <td>169</td>\n",
       "      <td>346</td>\n",
       "    </tr>\n",
       "    <tr>\n",
       "      <th>53446</th>\n",
       "      <td>12</td>\n",
       "      <td>MALMÖHUS LÄN</td>\n",
       "      <td>71340</td>\n",
       "      <td>NORRA RÖRUM</td>\n",
       "      <td>0</td>\n",
       "      <td>1785</td>\n",
       "      <td>200</td>\n",
       "      <td>1</td>\n",
       "      <td>131832</td>\n",
       "      <td>376</td>\n",
       "      <td>783</td>\n",
       "      <td>376</td>\n",
       "      <td>783</td>\n",
       "    </tr>\n",
       "    <tr>\n",
       "      <th>53440</th>\n",
       "      <td>12</td>\n",
       "      <td>MALMÖHUS LÄN</td>\n",
       "      <td>71349</td>\n",
       "      <td>NORRA RÖRUM PASTORAT</td>\n",
       "      <td>1</td>\n",
       "      <td>1773</td>\n",
       "      <td>100</td>\n",
       "      <td>1</td>\n",
       "      <td>131817</td>\n",
       "      <td>587</td>\n",
       "      <td>1228</td>\n",
       "      <td>587</td>\n",
       "      <td>1228</td>\n",
       "    </tr>\n",
       "    <tr>\n",
       "      <th>53472</th>\n",
       "      <td>12</td>\n",
       "      <td>MALMÖHUS LÄN</td>\n",
       "      <td>71341</td>\n",
       "      <td>NORRA RÖRUM, DEL (MALMÖHUS)</td>\n",
       "      <td>9</td>\n",
       "      <td>1855</td>\n",
       "      <td>610</td>\n",
       "      <td>1</td>\n",
       "      <td>131914</td>\n",
       "      <td>475</td>\n",
       "      <td>978</td>\n",
       "      <td>475</td>\n",
       "      <td>978</td>\n",
       "    </tr>\n",
       "  </tbody>\n",
       "</table>\n",
       "</div>"
      ],
      "text/plain": [
       "       LANGEN          LANGENNMN  GEOID                         GEOIDNMN  \\\n",
       "40902      11  KRISTIANSTADS LÄN  71342  NORRA RÖRUM, DEL (KRISTIANSTAD)   \n",
       "53446      12       MALMÖHUS LÄN  71340                      NORRA RÖRUM   \n",
       "53440      12       MALMÖHUS LÄN  71349             NORRA RÖRUM PASTORAT   \n",
       "53472      12       MALMÖHUS LÄN  71341      NORRA RÖRUM, DEL (MALMÖHUS)   \n",
       "\n",
       "       GEOIDTYP    AR  FORMNR  KON  FORMID  BEF_SUM  BEF_TOT  BEF_GENSUM  \\\n",
       "40902         9  1855     610    1  100573      169      346         169   \n",
       "53446         0  1785     200    1  131832      376      783         376   \n",
       "53440         1  1773     100    1  131817      587     1228         587   \n",
       "53472         9  1855     610    1  131914      475      978         475   \n",
       "\n",
       "       BEF_GENTOT  \n",
       "40902         346  \n",
       "53446         783  \n",
       "53440        1228  \n",
       "53472         978  "
      ]
     },
     "execution_count": 220,
     "metadata": {},
     "output_type": "execute_result"
    }
   ],
   "source": [
    "filt2 = popSizeScania['GEOIDNMN'].str.contains('NORRA RÖRUM', na=False)\n",
    "popSizeScania.loc[filt2]"
   ]
  },
  {
   "cell_type": "code",
   "execution_count": 218,
   "metadata": {},
   "outputs": [
    {
     "name": "stdout",
     "output_type": "stream",
     "text": [
      "GEOIDNMN    NORRA RÖRUM, DEL (KRISTIANSTAD)\n",
      "AR                                     1855\n",
      "Name: 40902, dtype: object\n"
     ]
    }
   ],
   "source": [
    "print(popSizeScania[['GEOIDNMN','AR']].iloc[2])"
   ]
  }
 ],
 "metadata": {
  "kernelspec": {
   "display_name": "Python 3",
   "language": "python",
   "name": "python3"
  },
  "language_info": {
   "codemirror_mode": {
    "name": "ipython",
    "version": 3
   },
   "file_extension": ".py",
   "mimetype": "text/x-python",
   "name": "python",
   "nbconvert_exporter": "python",
   "pygments_lexer": "ipython3",
   "version": "3.11.2"
  },
  "orig_nbformat": 4,
  "vscode": {
   "interpreter": {
    "hash": "b0fa6594d8f4cbf19f97940f81e996739fb7646882a419484c72d19e05852a7e"
   }
  }
 },
 "nbformat": 4,
 "nbformat_minor": 2
}
