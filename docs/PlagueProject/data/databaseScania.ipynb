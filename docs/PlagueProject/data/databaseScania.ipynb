{
 "cells": [
  {
   "cell_type": "code",
   "execution_count": 1,
   "metadata": {},
   "outputs": [],
   "source": [
    "#Python 3.11.2\n",
    "#Import packages\n",
    "import pandas as pd\n",
    "import numpy as np\n",
    "import pylab as pl\n",
    "import random\n",
    "import matplotlib.pyplot as plt\n",
    "from collections import defaultdict\n",
    "import json # for pretty printing\n",
    "import geopandas as gpd"
   ]
  },
  {
   "cell_type": "markdown",
   "metadata": {},
   "source": [
    "We have three different data sources. \n",
    "\n",
    "1. The data collected by Bodil corresponds to the plague period.\n",
    "2. The information from the TABVERK database includes the population size for parishes in the posterior years of the plague.\n",
    "3. The geographical information (polygons) for some parishes. This information doesn't correspond to the plague period.\n",
    "\n",
    "Our goal is to create a unique database for our project: Plague spread across Scania, Sweden, from 1710 to 1715."
   ]
  },
  {
   "attachments": {},
   "cell_type": "markdown",
   "metadata": {},
   "source": [
    "First we read the different data sources (.xlsx, .csv, and .shp files)"
   ]
  },
  {
   "cell_type": "code",
   "execution_count": 15,
   "metadata": {},
   "outputs": [],
   "source": [
    "allParishesScania_path = '/Users/polislizarralde/PythonPlayground/docs/PlagueProject/data/allParishesScania.xlsx'\n",
    "allParishesScania = pd.read_excel(allParishesScania_path)"
   ]
  },
  {
   "attachments": {},
   "cell_type": "markdown",
   "metadata": {},
   "source": [
    "Transforming the lowercase to uppercase and checking the type"
   ]
  },
  {
   "cell_type": "code",
   "execution_count": 5,
   "metadata": {},
   "outputs": [
    {
     "data": {
      "text/plain": [
       "pandas.core.frame.DataFrame"
      ]
     },
     "execution_count": 5,
     "metadata": {},
     "output_type": "execute_result"
    }
   ],
   "source": [
    "allParishesScania = allParishesScania.apply(lambda x: x.astype(str).str.upper())\n",
    "allParishesScania.head()\n",
    "type(allParishesScania)"
   ]
  },
  {
   "attachments": {},
   "cell_type": "markdown",
   "metadata": {},
   "source": [
    "Defining a function for extracting the names of the parishes in the data frame"
   ]
  },
  {
   "cell_type": "code",
   "execution_count": 16,
   "metadata": {},
   "outputs": [
    {
     "data": {
      "text/plain": [
       "398"
      ]
     },
     "execution_count": 16,
     "metadata": {},
     "output_type": "execute_result"
    }
   ],
   "source": [
    "def get_Names(data: pd.DataFrame, heading:str) -> list:\n",
    "    return data[heading].tolist()   \n",
    "\n",
    "len(get_Names(allParishesScania, 'Parish Name')) "
   ]
  },
  {
   "attachments": {},
   "cell_type": "markdown",
   "metadata": {},
   "source": [
    "Filtering the data frame by region and then get the names of the parishes:"
   ]
  },
  {
   "cell_type": "code",
   "execution_count": 18,
   "metadata": {},
   "outputs": [],
   "source": [
    "southeastParishes = allParishesScania.loc[allParishesScania['Region'] == 'SOUTHEAST']\n",
    "southeastParishes_names = get_Names(southeastParishes, 'Parish Name')"
   ]
  },
  {
   "attachments": {},
   "cell_type": "markdown",
   "metadata": {},
   "source": [
    "Reading the census file:"
   ]
  },
  {
   "cell_type": "code",
   "execution_count": 19,
   "metadata": {},
   "outputs": [
    {
     "data": {
      "text/plain": [
       "(102360, 50)"
      ]
     },
     "execution_count": 19,
     "metadata": {},
     "output_type": "execute_result"
    }
   ],
   "source": [
    "census_path = '/Users/polislizarralde/Desktop/CensusScania/FILE01_FALD.csv'\n",
    "censusSweden = pd.read_csv(census_path, sep=';')\n",
    "censusSweden.shape"
   ]
  },
  {
   "attachments": {},
   "cell_type": "markdown",
   "metadata": {},
   "source": [
    "Checking the memory usage"
   ]
  },
  {
   "cell_type": "code",
   "execution_count": 12,
   "metadata": {},
   "outputs": [
    {
     "name": "stdout",
     "output_type": "stream",
     "text": [
      "<class 'pandas.core.frame.DataFrame'>\n",
      "RangeIndex: 102360 entries, 0 to 102359\n",
      "Data columns (total 50 columns):\n",
      " #   Column       Non-Null Count   Dtype  \n",
      "---  ------       --------------   -----  \n",
      " 0   LANGEN       102360 non-null  int64  \n",
      " 1   LANGENNMN    102360 non-null  object \n",
      " 2   GEOID        102360 non-null  int64  \n",
      " 3   GEOIDNMN     102360 non-null  object \n",
      " 4   GEOIDTYP     102360 non-null  int64  \n",
      " 5   AR           102360 non-null  int64  \n",
      " 6   FORMNR       102360 non-null  int64  \n",
      " 7   KON          102360 non-null  int64  \n",
      " 8   FORMID       102360 non-null  int64  \n",
      " 9   ALD00        102360 non-null  int64  \n",
      " 10  ALD01        102360 non-null  int64  \n",
      " 11  ALD03        102360 non-null  int64  \n",
      " 12  ALD03_1      102360 non-null  int64  \n",
      " 13  ALD05        102360 non-null  int64  \n",
      " 14  ALD05_2      102360 non-null  int64  \n",
      " 15  ALD10        102360 non-null  int64  \n",
      " 16  ALD15        102360 non-null  int64  \n",
      " 17  ALD15_1      102360 non-null  int64  \n",
      " 18  ALD15_2      102360 non-null  int64  \n",
      " 19  ALD20        102360 non-null  int64  \n",
      " 20  ALD25        102360 non-null  int64  \n",
      " 21  ALD30        102360 non-null  int64  \n",
      " 22  ALD35        102360 non-null  int64  \n",
      " 23  ALD40        102360 non-null  int64  \n",
      " 24  ALD45        102360 non-null  int64  \n",
      " 25  ALD50        102360 non-null  int64  \n",
      " 26  ALD55        102360 non-null  int64  \n",
      " 27  ALD60        102360 non-null  int64  \n",
      " 28  ALD60_1      102360 non-null  int64  \n",
      " 29  ALD60_2      102360 non-null  int64  \n",
      " 30  ALD65        102360 non-null  int64  \n",
      " 31  ALD70        102360 non-null  int64  \n",
      " 32  ALD75        102360 non-null  int64  \n",
      " 33  ALD80        102360 non-null  int64  \n",
      " 34  ALD85        102360 non-null  int64  \n",
      " 35  ALD90        102360 non-null  int64  \n",
      " 36  ALD90_N      102360 non-null  int64  \n",
      " 37  ALD95        102360 non-null  int64  \n",
      " 38  ALD101_N     102360 non-null  int64  \n",
      " 39  ALD100       102360 non-null  int64  \n",
      " 40  ALD101       102360 non-null  int64  \n",
      " 41  ALD102       102360 non-null  int64  \n",
      " 42  ALD103       102360 non-null  int64  \n",
      " 43  ALD104       102360 non-null  int64  \n",
      " 44  ALD105_N     102360 non-null  int64  \n",
      " 45  BEF_SUM      102360 non-null  int64  \n",
      " 46  BEF_TOT      102360 non-null  int64  \n",
      " 47  BEF_GENSUM   102360 non-null  int64  \n",
      " 48  BEF_GENTOT   102360 non-null  int64  \n",
      " 49  Unnamed: 49  0 non-null       float64\n",
      "dtypes: float64(1), int64(47), object(2)\n",
      "memory usage: 54.4 MB\n"
     ]
    }
   ],
   "source": [
    "censusSweden.info(memory_usage='deep')"
   ]
  },
  {
   "attachments": {},
   "cell_type": "markdown",
   "metadata": {},
   "source": [
    "encriptar aes con python"
   ]
  },
  {
   "cell_type": "code",
   "execution_count": 13,
   "metadata": {},
   "outputs": [
    {
     "data": {
      "text/plain": [
       "Index(['LANGEN', 'LANGENNMN', 'GEOID', 'GEOIDNMN', 'GEOIDTYP', 'AR', 'FORMNR',\n",
       "       'KON', 'FORMID', 'ALD00', 'ALD01', 'ALD03', 'ALD03_1', 'ALD05',\n",
       "       'ALD05_2', 'ALD10', 'ALD15', 'ALD15_1', 'ALD15_2', 'ALD20', 'ALD25',\n",
       "       'ALD30', 'ALD35', 'ALD40', 'ALD45', 'ALD50', 'ALD55', 'ALD60',\n",
       "       'ALD60_1', 'ALD60_2', 'ALD65', 'ALD70', 'ALD75', 'ALD80', 'ALD85',\n",
       "       'ALD90', 'ALD90_N', 'ALD95', 'ALD101_N', 'ALD100', 'ALD101', 'ALD102',\n",
       "       'ALD103', 'ALD104', 'ALD105_N', 'BEF_SUM', 'BEF_TOT', 'BEF_GENSUM',\n",
       "       'BEF_GENTOT', 'Unnamed: 49'],\n",
       "      dtype='object')"
      ]
     },
     "execution_count": 13,
     "metadata": {},
     "output_type": "execute_result"
    }
   ],
   "source": [
    "censusSweden.columns"
   ]
  },
  {
   "cell_type": "code",
   "execution_count": null,
   "metadata": {},
   "outputs": [],
   "source": [
    "censusSweden = pd.read_csv(census_path, sep=';', usecols=[\n",
    "                           'LANGEN', 'LANGENNMN', 'GEOID', 'GEOIDNMN', 'GEOIDTYP', 'AR', 'FORMNR', 'KON', 'FORMID', 'BEF_SUM', 'BEF_TOT', 'BEF_GENSUM', 'BEF_GENTOT'])\n"
   ]
  }
 ],
 "metadata": {
  "kernelspec": {
   "display_name": "Python 3",
   "language": "python",
   "name": "python3"
  },
  "language_info": {
   "codemirror_mode": {
    "name": "ipython",
    "version": 3
   },
   "file_extension": ".py",
   "mimetype": "text/x-python",
   "name": "python",
   "nbconvert_exporter": "python",
   "pygments_lexer": "ipython3",
   "version": "3.11.2"
  },
  "orig_nbformat": 4
 },
 "nbformat": 4,
 "nbformat_minor": 2
}
