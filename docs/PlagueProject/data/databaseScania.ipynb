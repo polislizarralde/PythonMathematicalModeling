{
 "cells": [
  {
   "cell_type": "code",
   "execution_count": 38,
   "metadata": {},
   "outputs": [],
   "source": [
    "#Python 3.11.2\n",
    "#Import packages\n",
    "import pandas as pd\n",
    "import numpy as np\n",
    "import pylab as pl\n",
    "import random\n",
    "import matplotlib.pyplot as plt\n",
    "from collections import defaultdict\n",
    "import json # for pretty printing\n",
    "import geopandas as gpd"
   ]
  },
  {
   "cell_type": "markdown",
   "metadata": {},
   "source": [
    "We have three different data sources. \n",
    "\n",
    "1. The data collected by Bodil corresponds to the plague period.\n",
    "2. The information from the TABVERK database includes the population size for parishes in the posterior years of the plague.\n",
    "3. The geographical information (polygons) for some parishes. This information doesn't correspond to the plague period.\n",
    "\n",
    "Our goal is to create a unique database for our project: Plague spread across Scania, Sweden, from 1710 to 1715."
   ]
  },
  {
   "attachments": {},
   "cell_type": "markdown",
   "metadata": {},
   "source": [
    "First we read the different data sources (.xlsx, .csv, and .shp files)"
   ]
  },
  {
   "cell_type": "code",
   "execution_count": 39,
   "metadata": {},
   "outputs": [],
   "source": [
    "#Bodil's data Appendix 6 plague parishes\n",
    "plagueParishesScania = pd.read_csv('/Users/polislizarralde/PythonMathematicalModeling/docs/PlagueProject/data/Appendix6Bodil.csv', sep=',', encoding='utf-8')\n",
    "#All parishes in Scania during the plague period\n",
    "allParishesScania_path = '/Users/polislizarralde/PythonMathematicalModeling/docs/PlagueProject/data/allParishesScania.xlsx'\n",
    "allParishesScania = pd.read_excel(allParishesScania_path)"
   ]
  },
  {
   "attachments": {},
   "cell_type": "markdown",
   "metadata": {},
   "source": [
    "Transforming the lowercase to uppercase and checking the type"
   ]
  },
  {
   "cell_type": "code",
   "execution_count": 40,
   "metadata": {},
   "outputs": [
    {
     "data": {
      "text/plain": [
       "pandas.core.frame.DataFrame"
      ]
     },
     "execution_count": 40,
     "metadata": {},
     "output_type": "execute_result"
    }
   ],
   "source": [
    "allParishesScania = allParishesScania.apply(lambda x: x.astype(str).str.upper())\n",
    "plagueParishesScania = plagueParishesScania.apply(lambda x: x.astype(str).str.upper())\n",
    "type(plagueParishesScania)\n",
    "type(allParishesScania)"
   ]
  },
  {
   "attachments": {},
   "cell_type": "markdown",
   "metadata": {},
   "source": [
    "Visualizing the DataFrames"
   ]
  },
  {
   "cell_type": "code",
   "execution_count": 41,
   "metadata": {},
   "outputs": [
    {
     "data": {
      "text/html": [
       "<div>\n",
       "<style scoped>\n",
       "    .dataframe tbody tr th:only-of-type {\n",
       "        vertical-align: middle;\n",
       "    }\n",
       "\n",
       "    .dataframe tbody tr th {\n",
       "        vertical-align: top;\n",
       "    }\n",
       "\n",
       "    .dataframe thead th {\n",
       "        text-align: right;\n",
       "    }\n",
       "</style>\n",
       "<table border=\"1\" class=\"dataframe\">\n",
       "  <thead>\n",
       "    <tr style=\"text-align: right;\">\n",
       "      <th></th>\n",
       "      <th>SkåneRegion</th>\n",
       "      <th>District(Härad)</th>\n",
       "      <th>ParishName</th>\n",
       "    </tr>\n",
       "  </thead>\n",
       "  <tbody>\n",
       "    <tr>\n",
       "      <th>0</th>\n",
       "      <td>SOUTHEAST</td>\n",
       "      <td>ALBO</td>\n",
       "      <td>ANDRARUM</td>\n",
       "    </tr>\n",
       "    <tr>\n",
       "      <th>1</th>\n",
       "      <td>SOUTHEAST</td>\n",
       "      <td>ALBO</td>\n",
       "      <td>BRÖSARP</td>\n",
       "    </tr>\n",
       "    <tr>\n",
       "      <th>2</th>\n",
       "      <td>SOUTHEAST</td>\n",
       "      <td>ALBO</td>\n",
       "      <td>ELJARÖD</td>\n",
       "    </tr>\n",
       "    <tr>\n",
       "      <th>3</th>\n",
       "      <td>SOUTHEAST</td>\n",
       "      <td>ALBO</td>\n",
       "      <td>FÅGELTOFTA</td>\n",
       "    </tr>\n",
       "    <tr>\n",
       "      <th>4</th>\n",
       "      <td>SOUTHEAST</td>\n",
       "      <td>ALBO</td>\n",
       "      <td>RAVLUNDA</td>\n",
       "    </tr>\n",
       "  </tbody>\n",
       "</table>\n",
       "</div>"
      ],
      "text/plain": [
       "  SkåneRegion District(Härad)  ParishName\n",
       "0   SOUTHEAST            ALBO    ANDRARUM\n",
       "1   SOUTHEAST            ALBO     BRÖSARP\n",
       "2   SOUTHEAST            ALBO     ELJARÖD\n",
       "3   SOUTHEAST            ALBO  FÅGELTOFTA\n",
       "4   SOUTHEAST            ALBO    RAVLUNDA"
      ]
     },
     "execution_count": 41,
     "metadata": {},
     "output_type": "execute_result"
    }
   ],
   "source": [
    "allParishesScania.head()"
   ]
  },
  {
   "cell_type": "code",
   "execution_count": 42,
   "metadata": {},
   "outputs": [
    {
     "data": {
      "text/html": [
       "<div>\n",
       "<style scoped>\n",
       "    .dataframe tbody tr th:only-of-type {\n",
       "        vertical-align: middle;\n",
       "    }\n",
       "\n",
       "    .dataframe tbody tr th {\n",
       "        vertical-align: top;\n",
       "    }\n",
       "\n",
       "    .dataframe thead th {\n",
       "        text-align: right;\n",
       "    }\n",
       "</style>\n",
       "<table border=\"1\" class=\"dataframe\">\n",
       "  <thead>\n",
       "    <tr style=\"text-align: right;\">\n",
       "      <th></th>\n",
       "      <th>BeginPlaguePeriod</th>\n",
       "      <th>EndPlaguePeriod</th>\n",
       "      <th>ParishName</th>\n",
       "      <th>VictimsNumber</th>\n",
       "      <th>SkåneRegion</th>\n",
       "    </tr>\n",
       "  </thead>\n",
       "  <tbody>\n",
       "    <tr>\n",
       "      <th>0</th>\n",
       "      <td>NOV 1710</td>\n",
       "      <td>APR 1711</td>\n",
       "      <td>NÄSUM</td>\n",
       "      <td>671</td>\n",
       "      <td>NORTHEAST</td>\n",
       "    </tr>\n",
       "    <tr>\n",
       "      <th>1</th>\n",
       "      <td>FEB 1712</td>\n",
       "      <td>UNDEFINED</td>\n",
       "      <td>NÄSUM</td>\n",
       "      <td>?</td>\n",
       "      <td>NORTHEAST</td>\n",
       "    </tr>\n",
       "    <tr>\n",
       "      <th>2</th>\n",
       "      <td>NOV 1710</td>\n",
       "      <td>AUG 1711</td>\n",
       "      <td>IVÖ</td>\n",
       "      <td>123</td>\n",
       "      <td>NORTHEAST</td>\n",
       "    </tr>\n",
       "    <tr>\n",
       "      <th>3</th>\n",
       "      <td>DEC 1710</td>\n",
       "      <td>SEP 1711</td>\n",
       "      <td>KIABY</td>\n",
       "      <td>296</td>\n",
       "      <td>NORTHEAST</td>\n",
       "    </tr>\n",
       "    <tr>\n",
       "      <th>4</th>\n",
       "      <td>DEC 1710</td>\n",
       "      <td>SEP 1711</td>\n",
       "      <td>OPPMANNA</td>\n",
       "      <td>400</td>\n",
       "      <td>NORTHEAST</td>\n",
       "    </tr>\n",
       "  </tbody>\n",
       "</table>\n",
       "</div>"
      ],
      "text/plain": [
       "  BeginPlaguePeriod EndPlaguePeriod ParishName VictimsNumber SkåneRegion\n",
       "0          NOV 1710        APR 1711      NÄSUM           671   NORTHEAST\n",
       "1          FEB 1712       UNDEFINED      NÄSUM             ?   NORTHEAST\n",
       "2          NOV 1710        AUG 1711        IVÖ           123   NORTHEAST\n",
       "3          DEC 1710        SEP 1711      KIABY           296   NORTHEAST\n",
       "4          DEC 1710        SEP 1711   OPPMANNA           400   NORTHEAST"
      ]
     },
     "execution_count": 42,
     "metadata": {},
     "output_type": "execute_result"
    }
   ],
   "source": [
    "plagueParishesScania.head()"
   ]
  },
  {
   "attachments": {},
   "cell_type": "markdown",
   "metadata": {},
   "source": [
    "Merging the two datasets (allParishesScania and plagueParishesScania)"
   ]
  },
  {
   "cell_type": "code",
   "execution_count": 50,
   "metadata": {},
   "outputs": [
    {
     "data": {
      "text/html": [
       "<div>\n",
       "<style scoped>\n",
       "    .dataframe tbody tr th:only-of-type {\n",
       "        vertical-align: middle;\n",
       "    }\n",
       "\n",
       "    .dataframe tbody tr th {\n",
       "        vertical-align: top;\n",
       "    }\n",
       "\n",
       "    .dataframe thead th {\n",
       "        text-align: right;\n",
       "    }\n",
       "</style>\n",
       "<table border=\"1\" class=\"dataframe\">\n",
       "  <thead>\n",
       "    <tr style=\"text-align: right;\">\n",
       "      <th></th>\n",
       "      <th>SkåneRegion</th>\n",
       "      <th>District(Härad)</th>\n",
       "      <th>ParishName</th>\n",
       "      <th>BeginPlaguePeriod</th>\n",
       "      <th>EndPlaguePeriod</th>\n",
       "      <th>VictimsNumber</th>\n",
       "    </tr>\n",
       "  </thead>\n",
       "  <tbody>\n",
       "    <tr>\n",
       "      <th>0</th>\n",
       "      <td>SOUTHEAST</td>\n",
       "      <td>ALBO</td>\n",
       "      <td>ANDRARUM</td>\n",
       "      <td>NaN</td>\n",
       "      <td>NaN</td>\n",
       "      <td>NaN</td>\n",
       "    </tr>\n",
       "    <tr>\n",
       "      <th>1</th>\n",
       "      <td>SOUTHEAST</td>\n",
       "      <td>ALBO</td>\n",
       "      <td>BRÖSARP</td>\n",
       "      <td>NaN</td>\n",
       "      <td>NaN</td>\n",
       "      <td>NaN</td>\n",
       "    </tr>\n",
       "    <tr>\n",
       "      <th>2</th>\n",
       "      <td>SOUTHEAST</td>\n",
       "      <td>ALBO</td>\n",
       "      <td>ELJARÖD</td>\n",
       "      <td>JAN 1713</td>\n",
       "      <td>UNDEFINED</td>\n",
       "      <td>3</td>\n",
       "    </tr>\n",
       "    <tr>\n",
       "      <th>3</th>\n",
       "      <td>SOUTHEAST</td>\n",
       "      <td>ALBO</td>\n",
       "      <td>FÅGELTOFTA</td>\n",
       "      <td>NaN</td>\n",
       "      <td>NaN</td>\n",
       "      <td>NaN</td>\n",
       "    </tr>\n",
       "    <tr>\n",
       "      <th>4</th>\n",
       "      <td>SOUTHEAST</td>\n",
       "      <td>ALBO</td>\n",
       "      <td>RAVLUNDA</td>\n",
       "      <td>NaN</td>\n",
       "      <td>NaN</td>\n",
       "      <td>NaN</td>\n",
       "    </tr>\n",
       "  </tbody>\n",
       "</table>\n",
       "</div>"
      ],
      "text/plain": [
       "  SkåneRegion District(Härad)  ParishName BeginPlaguePeriod EndPlaguePeriod  \\\n",
       "0   SOUTHEAST            ALBO    ANDRARUM               NaN             NaN   \n",
       "1   SOUTHEAST            ALBO     BRÖSARP               NaN             NaN   \n",
       "2   SOUTHEAST            ALBO     ELJARÖD          JAN 1713       UNDEFINED   \n",
       "3   SOUTHEAST            ALBO  FÅGELTOFTA               NaN             NaN   \n",
       "4   SOUTHEAST            ALBO    RAVLUNDA               NaN             NaN   \n",
       "\n",
       "  VictimsNumber  \n",
       "0           NaN  \n",
       "1           NaN  \n",
       "2             3  \n",
       "3           NaN  \n",
       "4           NaN  "
      ]
     },
     "execution_count": 50,
     "metadata": {},
     "output_type": "execute_result"
    }
   ],
   "source": [
    "parishesScania = pd.merge(allParishesScania, plagueParishesScania, how='left', on=['ParishName','SkåneRegion'])\n",
    "parishesScania.head()"
   ]
  },
  {
   "attachments": {},
   "cell_type": "markdown",
   "metadata": {},
   "source": [
    "Checking that the new data frame keep all the outbreaks for parish"
   ]
  },
  {
   "cell_type": "code",
   "execution_count": 57,
   "metadata": {},
   "outputs": [
    {
     "data": {
      "text/html": [
       "<div>\n",
       "<style scoped>\n",
       "    .dataframe tbody tr th:only-of-type {\n",
       "        vertical-align: middle;\n",
       "    }\n",
       "\n",
       "    .dataframe tbody tr th {\n",
       "        vertical-align: top;\n",
       "    }\n",
       "\n",
       "    .dataframe thead th {\n",
       "        text-align: right;\n",
       "    }\n",
       "</style>\n",
       "<table border=\"1\" class=\"dataframe\">\n",
       "  <thead>\n",
       "    <tr style=\"text-align: right;\">\n",
       "      <th></th>\n",
       "      <th>SkåneRegion</th>\n",
       "      <th>District(Härad)</th>\n",
       "      <th>ParishName</th>\n",
       "      <th>BeginPlaguePeriod</th>\n",
       "      <th>EndPlaguePeriod</th>\n",
       "      <th>VictimsNumber</th>\n",
       "    </tr>\n",
       "  </thead>\n",
       "  <tbody>\n",
       "    <tr>\n",
       "      <th>393</th>\n",
       "      <td>NORTHEAST</td>\n",
       "      <td>VILLANDS</td>\n",
       "      <td>NÄSUM</td>\n",
       "      <td>NOV 1710</td>\n",
       "      <td>APR 1711</td>\n",
       "      <td>671</td>\n",
       "    </tr>\n",
       "    <tr>\n",
       "      <th>394</th>\n",
       "      <td>NORTHEAST</td>\n",
       "      <td>VILLANDS</td>\n",
       "      <td>NÄSUM</td>\n",
       "      <td>FEB 1712</td>\n",
       "      <td>UNDEFINED</td>\n",
       "      <td>?</td>\n",
       "    </tr>\n",
       "  </tbody>\n",
       "</table>\n",
       "</div>"
      ],
      "text/plain": [
       "    SkåneRegion District(Härad) ParishName BeginPlaguePeriod EndPlaguePeriod  \\\n",
       "393   NORTHEAST        VILLANDS      NÄSUM          NOV 1710        APR 1711   \n",
       "394   NORTHEAST        VILLANDS      NÄSUM          FEB 1712       UNDEFINED   \n",
       "\n",
       "    VictimsNumber  \n",
       "393           671  \n",
       "394             ?  "
      ]
     },
     "execution_count": 57,
     "metadata": {},
     "output_type": "execute_result"
    }
   ],
   "source": [
    "parishesScania.loc[parishesScania['ParishName'] == 'NÄSUM']"
   ]
  },
  {
   "attachments": {},
   "cell_type": "markdown",
   "metadata": {},
   "source": [
    "Defining a function for extracting the names of the parishes in the data frame"
   ]
  },
  {
   "cell_type": "code",
   "execution_count": 51,
   "metadata": {},
   "outputs": [],
   "source": [
    "def get_Names(data: pd.DataFrame, heading:str) -> list:\n",
    "    return data[heading].tolist()   "
   ]
  },
  {
   "attachments": {},
   "cell_type": "markdown",
   "metadata": {},
   "source": [
    "Filtering the data frame by region and then get the names of the parishes:"
   ]
  },
  {
   "cell_type": "code",
   "execution_count": 79,
   "metadata": {},
   "outputs": [
    {
     "data": {
      "text/plain": [
       "408"
      ]
     },
     "execution_count": 79,
     "metadata": {},
     "output_type": "execute_result"
    }
   ],
   "source": [
    "parishesScania_names = get_Names(parishesScania, 'ParishName')\n",
    "len(parishesScania_names)"
   ]
  },
  {
   "cell_type": "code",
   "execution_count": 291,
   "metadata": {},
   "outputs": [],
   "source": [
    "southeastParishes = allParishesScania.loc[allParishesScania['Region'] == 'SOUTHEAST']\n",
    "southeastParishes_names = get_Names(southeastParishes, 'Parish Name')"
   ]
  },
  {
   "cell_type": "code",
   "execution_count": 292,
   "metadata": {},
   "outputs": [
    {
     "data": {
      "text/plain": [
       "'BRÖSARP'"
      ]
     },
     "execution_count": 292,
     "metadata": {},
     "output_type": "execute_result"
    }
   ],
   "source": [
    "southeastParishes_names[1]"
   ]
  },
  {
   "attachments": {},
   "cell_type": "markdown",
   "metadata": {},
   "source": [
    "Reading the census file:"
   ]
  },
  {
   "cell_type": "code",
   "execution_count": 58,
   "metadata": {},
   "outputs": [
    {
     "data": {
      "text/plain": [
       "(102360, 50)"
      ]
     },
     "execution_count": 58,
     "metadata": {},
     "output_type": "execute_result"
    }
   ],
   "source": [
    "census_path = '/Users/polislizarralde/Desktop/CensusScania/FILE01_FALD.csv'\n",
    "censusSweden = pd.read_csv(census_path, sep=';')\n",
    "censusSweden.shape"
   ]
  },
  {
   "attachments": {},
   "cell_type": "markdown",
   "metadata": {},
   "source": [
    "Checking the memory usage"
   ]
  },
  {
   "cell_type": "code",
   "execution_count": 247,
   "metadata": {},
   "outputs": [
    {
     "name": "stdout",
     "output_type": "stream",
     "text": [
      "<class 'pandas.core.frame.DataFrame'>\n",
      "RangeIndex: 102360 entries, 0 to 102359\n",
      "Data columns (total 50 columns):\n",
      " #   Column       Non-Null Count   Dtype  \n",
      "---  ------       --------------   -----  \n",
      " 0   LANGEN       102360 non-null  int64  \n",
      " 1   LANGENNMN    102360 non-null  object \n",
      " 2   GEOID        102360 non-null  int64  \n",
      " 3   GEOIDNMN     102360 non-null  object \n",
      " 4   GEOIDTYP     102360 non-null  int64  \n",
      " 5   AR           102360 non-null  int64  \n",
      " 6   FORMNR       102360 non-null  int64  \n",
      " 7   KON          102360 non-null  int64  \n",
      " 8   FORMID       102360 non-null  int64  \n",
      " 9   ALD00        102360 non-null  int64  \n",
      " 10  ALD01        102360 non-null  int64  \n",
      " 11  ALD03        102360 non-null  int64  \n",
      " 12  ALD03_1      102360 non-null  int64  \n",
      " 13  ALD05        102360 non-null  int64  \n",
      " 14  ALD05_2      102360 non-null  int64  \n",
      " 15  ALD10        102360 non-null  int64  \n",
      " 16  ALD15        102360 non-null  int64  \n",
      " 17  ALD15_1      102360 non-null  int64  \n",
      " 18  ALD15_2      102360 non-null  int64  \n",
      " 19  ALD20        102360 non-null  int64  \n",
      " 20  ALD25        102360 non-null  int64  \n",
      " 21  ALD30        102360 non-null  int64  \n",
      " 22  ALD35        102360 non-null  int64  \n",
      " 23  ALD40        102360 non-null  int64  \n",
      " 24  ALD45        102360 non-null  int64  \n",
      " 25  ALD50        102360 non-null  int64  \n",
      " 26  ALD55        102360 non-null  int64  \n",
      " 27  ALD60        102360 non-null  int64  \n",
      " 28  ALD60_1      102360 non-null  int64  \n",
      " 29  ALD60_2      102360 non-null  int64  \n",
      " 30  ALD65        102360 non-null  int64  \n",
      " 31  ALD70        102360 non-null  int64  \n",
      " 32  ALD75        102360 non-null  int64  \n",
      " 33  ALD80        102360 non-null  int64  \n",
      " 34  ALD85        102360 non-null  int64  \n",
      " 35  ALD90        102360 non-null  int64  \n",
      " 36  ALD90_N      102360 non-null  int64  \n",
      " 37  ALD95        102360 non-null  int64  \n",
      " 38  ALD101_N     102360 non-null  int64  \n",
      " 39  ALD100       102360 non-null  int64  \n",
      " 40  ALD101       102360 non-null  int64  \n",
      " 41  ALD102       102360 non-null  int64  \n",
      " 42  ALD103       102360 non-null  int64  \n",
      " 43  ALD104       102360 non-null  int64  \n",
      " 44  ALD105_N     102360 non-null  int64  \n",
      " 45  BEF_SUM      102360 non-null  int64  \n",
      " 46  BEF_TOT      102360 non-null  int64  \n",
      " 47  BEF_GENSUM   102360 non-null  int64  \n",
      " 48  BEF_GENTOT   102360 non-null  int64  \n",
      " 49  Unnamed: 49  0 non-null       float64\n",
      "dtypes: float64(1), int64(47), object(2)\n",
      "memory usage: 54.4 MB\n"
     ]
    }
   ],
   "source": [
    "censusSweden.info(memory_usage='deep')"
   ]
  },
  {
   "attachments": {},
   "cell_type": "markdown",
   "metadata": {},
   "source": [
    "Checking the names of all columns in the data"
   ]
  },
  {
   "cell_type": "code",
   "execution_count": 84,
   "metadata": {},
   "outputs": [],
   "source": [
    "columns = censusSweden.columns"
   ]
  },
  {
   "attachments": {},
   "cell_type": "markdown",
   "metadata": {},
   "source": [
    "Calling the data only with specific columns"
   ]
  },
  {
   "cell_type": "code",
   "execution_count": 64,
   "metadata": {},
   "outputs": [],
   "source": [
    "censusSweden = pd.read_csv(census_path, sep=';', usecols=[\n",
    "                           'LANGENNMN'  # Standard name of the county for the geographical area in plain text\n",
    "                           # Standard name of the geographical area in plain text, i.e. not a source name.\n",
    "                           , 'GEOIDNMN', 'GEOIDTYP'  # Type of breakdown of the geographical area  0 =Assembly, 1 = Pastorate, 2 = Other type, 3 = Several parishes, 9 = Part of a parish\n",
    "                           , 'AR'  # Year\n",
    "                           , 'KON'  # 1 = Man  2 = Female. I choose 1 but it could be 2 for the total population\n",
    "                           , 'BEF_TOT'  # Total population at source\n",
    "                           , 'BEF_GENTOT'  # Total population, generated\n",
    "                           ])"
   ]
  },
  {
   "attachments": {},
   "cell_type": "markdown",
   "metadata": {},
   "source": [
    "Processing the census data such that corresponds only to Scania"
   ]
  },
  {
   "cell_type": "code",
   "execution_count": 65,
   "metadata": {},
   "outputs": [
    {
     "data": {
      "text/html": [
       "<div>\n",
       "<style scoped>\n",
       "    .dataframe tbody tr th:only-of-type {\n",
       "        vertical-align: middle;\n",
       "    }\n",
       "\n",
       "    .dataframe tbody tr th {\n",
       "        vertical-align: top;\n",
       "    }\n",
       "\n",
       "    .dataframe thead th {\n",
       "        text-align: right;\n",
       "    }\n",
       "</style>\n",
       "<table border=\"1\" class=\"dataframe\">\n",
       "  <thead>\n",
       "    <tr style=\"text-align: right;\">\n",
       "      <th></th>\n",
       "      <th>LANGENNMN</th>\n",
       "      <th>GEOIDNMN</th>\n",
       "      <th>GEOIDTYP</th>\n",
       "      <th>AR</th>\n",
       "      <th>KON</th>\n",
       "      <th>BEF_TOT</th>\n",
       "      <th>BEF_GENTOT</th>\n",
       "    </tr>\n",
       "  </thead>\n",
       "  <tbody>\n",
       "    <tr>\n",
       "      <th>40804</th>\n",
       "      <td>KRISTIANSTADS LÄN</td>\n",
       "      <td>ONSLUNDA</td>\n",
       "      <td>0</td>\n",
       "      <td>1750</td>\n",
       "      <td>1</td>\n",
       "      <td>403</td>\n",
       "      <td>403</td>\n",
       "    </tr>\n",
       "    <tr>\n",
       "      <th>40806</th>\n",
       "      <td>KRISTIANSTADS LÄN</td>\n",
       "      <td>ONSLUNDA</td>\n",
       "      <td>0</td>\n",
       "      <td>1751</td>\n",
       "      <td>1</td>\n",
       "      <td>404</td>\n",
       "      <td>404</td>\n",
       "    </tr>\n",
       "    <tr>\n",
       "      <th>40808</th>\n",
       "      <td>KRISTIANSTADS LÄN</td>\n",
       "      <td>ONSLUNDA</td>\n",
       "      <td>0</td>\n",
       "      <td>1752</td>\n",
       "      <td>1</td>\n",
       "      <td>412</td>\n",
       "      <td>412</td>\n",
       "    </tr>\n",
       "  </tbody>\n",
       "</table>\n",
       "</div>"
      ],
      "text/plain": [
       "               LANGENNMN  GEOIDNMN  GEOIDTYP    AR  KON  BEF_TOT  BEF_GENTOT\n",
       "40804  KRISTIANSTADS LÄN  ONSLUNDA         0  1750    1      403         403\n",
       "40806  KRISTIANSTADS LÄN  ONSLUNDA         0  1751    1      404         404\n",
       "40808  KRISTIANSTADS LÄN  ONSLUNDA         0  1752    1      412         412"
      ]
     },
     "execution_count": 65,
     "metadata": {},
     "output_type": "execute_result"
    }
   ],
   "source": [
    "censusScania = censusSweden.loc[((censusSweden['LANGENNMN'] == 'KRISTIANSTADS LÄN') | (\n",
    "    censusSweden['LANGENNMN'] == 'MALMÖHUS LÄN')) & (censusSweden['KON'] == 1)]\n",
    "censusScania.shape\n",
    "censusScania.head(3)"
   ]
  },
  {
   "attachments": {},
   "cell_type": "markdown",
   "metadata": {},
   "source": [
    "Process the data from Scania only to keep the first population size registered for each parish.\n",
    "This was done following two approaches: the first one by grouping the data by parish name and then selecting the minimum year. The second approach is exhaustively exploring the given DataFrame and keeping the required information in a dictionary. The information required in our case corresponds to the position associated with each parish name and the minimum year, according to the original DataFrame. "
   ]
  },
  {
   "attachments": {},
   "cell_type": "markdown",
   "metadata": {},
   "source": [
    "1. First approach:"
   ]
  },
  {
   "cell_type": "code",
   "execution_count": 68,
   "metadata": {},
   "outputs": [],
   "source": [
    "#Group a Pandas DataFrame by a column\n",
    "parish_grp = censusScania.groupby(['GEOIDNMN'])\n",
    "#Get a group by an element of the column\n",
    "example = parish_grp.get_group('SANKT MARIA (YSTAD SF)')\n",
    "#Select the row with minimum value in Pandas dataframe\n",
    "example[example.AR == example.AR.min()]\n",
    "\n",
    "#Get the unique values of a column\n",
    "parish_grp['GEOIDNMN'].unique()\n",
    "#Get the unique values of a column as a list\n",
    "parish_grp_name = parish_grp['GEOIDNMN'].unique().tolist()\n",
    "#Get the unique values of a column as a list of strings\n",
    "parish_names = [parish_name[0] for parish_name in parish_grp_name]\n"
   ]
  },
  {
   "cell_type": "code",
   "execution_count": 69,
   "metadata": {},
   "outputs": [
    {
     "name": "stdout",
     "output_type": "stream",
     "text": [
      "(495, 7)\n"
     ]
    }
   ],
   "source": [
    "parish_grp = censusScania.groupby(['GEOIDNMN'])\n",
    "parish_grp_name = parish_grp['GEOIDNMN'].unique().tolist()\n",
    "parish_names = [parish_name[0] for parish_name in parish_grp_name]\n",
    "\n",
    "popSizeScania = pd.DataFrame() \n",
    "\n",
    "for i in range(len(parish_grp)):\n",
    "    grp_i = parish_grp.get_group(parish_names[i])\n",
    "    grp_i[grp_i.AR == grp_i.AR.min()]\n",
    "    popSizeScania = pd.concat([popSizeScania, (grp_i[grp_i.AR == grp_i.AR.min()])], axis=0)\n",
    "\n",
    "print(popSizeScania.shape)  "
   ]
  },
  {
   "cell_type": "code",
   "execution_count": 74,
   "metadata": {},
   "outputs": [
    {
     "data": {
      "text/html": [
       "<div>\n",
       "<style scoped>\n",
       "    .dataframe tbody tr th:only-of-type {\n",
       "        vertical-align: middle;\n",
       "    }\n",
       "\n",
       "    .dataframe tbody tr th {\n",
       "        vertical-align: top;\n",
       "    }\n",
       "\n",
       "    .dataframe thead th {\n",
       "        text-align: right;\n",
       "    }\n",
       "</style>\n",
       "<table border=\"1\" class=\"dataframe\">\n",
       "  <thead>\n",
       "    <tr style=\"text-align: right;\">\n",
       "      <th></th>\n",
       "      <th>LANGENNMN</th>\n",
       "      <th>GEOIDNMN</th>\n",
       "      <th>GEOIDTYP</th>\n",
       "      <th>AR</th>\n",
       "      <th>KON</th>\n",
       "      <th>BEF_TOT</th>\n",
       "      <th>BEF_GENTOT</th>\n",
       "    </tr>\n",
       "  </thead>\n",
       "  <tbody>\n",
       "    <tr>\n",
       "      <th>40804</th>\n",
       "      <td>KRISTIANSTADS LÄN</td>\n",
       "      <td>ONSLUNDA</td>\n",
       "      <td>0</td>\n",
       "      <td>1750</td>\n",
       "      <td>1</td>\n",
       "      <td>403</td>\n",
       "      <td>403</td>\n",
       "    </tr>\n",
       "    <tr>\n",
       "      <th>40856</th>\n",
       "      <td>KRISTIANSTADS LÄN</td>\n",
       "      <td>HÄGLINGE</td>\n",
       "      <td>0</td>\n",
       "      <td>1805</td>\n",
       "      <td>1</td>\n",
       "      <td>713</td>\n",
       "      <td>713</td>\n",
       "    </tr>\n",
       "    <tr>\n",
       "      <th>40878</th>\n",
       "      <td>KRISTIANSTADS LÄN</td>\n",
       "      <td>NORRA RÖRUM, DEL (KRISTIANSTAD)</td>\n",
       "      <td>9</td>\n",
       "      <td>1795</td>\n",
       "      <td>1</td>\n",
       "      <td>231</td>\n",
       "      <td>232</td>\n",
       "    </tr>\n",
       "  </tbody>\n",
       "</table>\n",
       "</div>"
      ],
      "text/plain": [
       "               LANGENNMN                         GEOIDNMN  GEOIDTYP    AR  \\\n",
       "40804  KRISTIANSTADS LÄN                         ONSLUNDA         0  1750   \n",
       "40856  KRISTIANSTADS LÄN                         HÄGLINGE         0  1805   \n",
       "40878  KRISTIANSTADS LÄN  NORRA RÖRUM, DEL (KRISTIANSTAD)         9  1795   \n",
       "\n",
       "       KON  BEF_TOT  BEF_GENTOT  \n",
       "40804    1      403         403  \n",
       "40856    1      713         713  \n",
       "40878    1      231         232  "
      ]
     },
     "execution_count": 74,
     "metadata": {},
     "output_type": "execute_result"
    }
   ],
   "source": [
    "popSizeScania.head(3)"
   ]
  },
  {
   "attachments": {},
   "cell_type": "markdown",
   "metadata": {},
   "source": [
    "2. Second approach"
   ]
  },
  {
   "cell_type": "code",
   "execution_count": 73,
   "metadata": {},
   "outputs": [
    {
     "name": "stdout",
     "output_type": "stream",
     "text": [
      "(495, 7)\n"
     ]
    }
   ],
   "source": [
    "aux_dict = {}\n",
    "popSizeScania = pd.DataFrame() \n",
    "\n",
    "for i in range(len(censusScania)):\n",
    "    name_i = censusScania['GEOIDNMN'].iloc[i]\n",
    "    ar_i = censusScania['AR'].iloc[i]\n",
    "    if name_i in aux_dict:\n",
    "        if ar_i < aux_dict[name_i]['min']:\n",
    "            aux_dict[name_i] = {'min': ar_i, 'position': i}\n",
    "    else:\n",
    "        aux_dict[name_i] = {'min': ar_i, 'position': i}\n",
    "final_positions = [value['position'] for key, value in aux_dict.items()]\n",
    "popSizeScania = censusScania.iloc[final_positions]   \n",
    "print(popSizeScania.shape)            \n",
    "    "
   ]
  },
  {
   "cell_type": "code",
   "execution_count": 75,
   "metadata": {},
   "outputs": [
    {
     "data": {
      "text/html": [
       "<div>\n",
       "<style scoped>\n",
       "    .dataframe tbody tr th:only-of-type {\n",
       "        vertical-align: middle;\n",
       "    }\n",
       "\n",
       "    .dataframe tbody tr th {\n",
       "        vertical-align: top;\n",
       "    }\n",
       "\n",
       "    .dataframe thead th {\n",
       "        text-align: right;\n",
       "    }\n",
       "</style>\n",
       "<table border=\"1\" class=\"dataframe\">\n",
       "  <thead>\n",
       "    <tr style=\"text-align: right;\">\n",
       "      <th></th>\n",
       "      <th>LANGENNMN</th>\n",
       "      <th>GEOIDNMN</th>\n",
       "      <th>GEOIDTYP</th>\n",
       "      <th>AR</th>\n",
       "      <th>KON</th>\n",
       "      <th>BEF_TOT</th>\n",
       "      <th>BEF_GENTOT</th>\n",
       "    </tr>\n",
       "  </thead>\n",
       "  <tbody>\n",
       "    <tr>\n",
       "      <th>40804</th>\n",
       "      <td>KRISTIANSTADS LÄN</td>\n",
       "      <td>ONSLUNDA</td>\n",
       "      <td>0</td>\n",
       "      <td>1750</td>\n",
       "      <td>1</td>\n",
       "      <td>403</td>\n",
       "      <td>403</td>\n",
       "    </tr>\n",
       "    <tr>\n",
       "      <th>40856</th>\n",
       "      <td>KRISTIANSTADS LÄN</td>\n",
       "      <td>HÄGLINGE</td>\n",
       "      <td>0</td>\n",
       "      <td>1805</td>\n",
       "      <td>1</td>\n",
       "      <td>713</td>\n",
       "      <td>713</td>\n",
       "    </tr>\n",
       "    <tr>\n",
       "      <th>40878</th>\n",
       "      <td>KRISTIANSTADS LÄN</td>\n",
       "      <td>NORRA RÖRUM, DEL (KRISTIANSTAD)</td>\n",
       "      <td>9</td>\n",
       "      <td>1795</td>\n",
       "      <td>1</td>\n",
       "      <td>231</td>\n",
       "      <td>232</td>\n",
       "    </tr>\n",
       "  </tbody>\n",
       "</table>\n",
       "</div>"
      ],
      "text/plain": [
       "               LANGENNMN                         GEOIDNMN  GEOIDTYP    AR  \\\n",
       "40804  KRISTIANSTADS LÄN                         ONSLUNDA         0  1750   \n",
       "40856  KRISTIANSTADS LÄN                         HÄGLINGE         0  1805   \n",
       "40878  KRISTIANSTADS LÄN  NORRA RÖRUM, DEL (KRISTIANSTAD)         9  1795   \n",
       "\n",
       "       KON  BEF_TOT  BEF_GENTOT  \n",
       "40804    1      403         403  \n",
       "40856    1      713         713  \n",
       "40878    1      231         232  "
      ]
     },
     "execution_count": 75,
     "metadata": {},
     "output_type": "execute_result"
    }
   ],
   "source": [
    "popSizeScania.head(3)"
   ]
  },
  {
   "cell_type": "code",
   "execution_count": 98,
   "metadata": {},
   "outputs": [],
   "source": [
    "popSizeScania_names = get_Names(popSizeScania, 'GEOIDNMN')"
   ]
  },
  {
   "attachments": {},
   "cell_type": "markdown",
   "metadata": {},
   "source": [
    "Reading the geographical information by parish"
   ]
  },
  {
   "cell_type": "code",
   "execution_count": 94,
   "metadata": {},
   "outputs": [],
   "source": [
    "parishScania_path = '/Users/polislizarralde/PythonMathematicalModeling/docs/PlagueProject/MapScaniaSweden/Parishes1720_1890.shp'\n",
    "parishScaniaMap = gpd.read_file(parishScania_path)"
   ]
  },
  {
   "cell_type": "code",
   "execution_count": 108,
   "metadata": {},
   "outputs": [
    {
     "data": {
      "text/plain": [
       "Index(['G_NAME', 'GET_END_YE', 'GET_START_', 'G_UNIT_TYP', 'G_UNIT', 'G_SEQ',\n",
       "       'geometry'],\n",
       "      dtype='object')"
      ]
     },
     "execution_count": 108,
     "metadata": {},
     "output_type": "execute_result"
    }
   ],
   "source": [
    "parishScaniaMap.columns"
   ]
  },
  {
   "cell_type": "code",
   "execution_count": 111,
   "metadata": {},
   "outputs": [
    {
     "data": {
      "text/html": [
       "<div>\n",
       "<style scoped>\n",
       "    .dataframe tbody tr th:only-of-type {\n",
       "        vertical-align: middle;\n",
       "    }\n",
       "\n",
       "    .dataframe tbody tr th {\n",
       "        vertical-align: top;\n",
       "    }\n",
       "\n",
       "    .dataframe thead th {\n",
       "        text-align: right;\n",
       "    }\n",
       "</style>\n",
       "<table border=\"1\" class=\"dataframe\">\n",
       "  <thead>\n",
       "    <tr style=\"text-align: right;\">\n",
       "      <th></th>\n",
       "      <th>G_NAME</th>\n",
       "      <th>GET_END_YE</th>\n",
       "      <th>GET_START_</th>\n",
       "      <th>G_UNIT_TYP</th>\n",
       "      <th>G_UNIT</th>\n",
       "      <th>G_SEQ</th>\n",
       "      <th>geometry</th>\n",
       "    </tr>\n",
       "  </thead>\n",
       "  <tbody>\n",
       "    <tr>\n",
       "      <th>0</th>\n",
       "      <td>HOVS FÖRSAMLING L LÄN</td>\n",
       "      <td>9999</td>\n",
       "      <td>NaN</td>\n",
       "      <td>SWE_KYRK</td>\n",
       "      <td>10744015.0</td>\n",
       "      <td>51568.0</td>\n",
       "      <td>POLYGON ((4159374.280 3280178.361, 4158183.768...</td>\n",
       "    </tr>\n",
       "    <tr>\n",
       "      <th>1</th>\n",
       "      <td>TOREKOVS FÖRSAMLING</td>\n",
       "      <td>9999</td>\n",
       "      <td>NaN</td>\n",
       "      <td>SWE_KYRK</td>\n",
       "      <td>10744027.0</td>\n",
       "      <td>94148.0</td>\n",
       "      <td>POLYGON ((4158250.036 3280475.526, 4158374.467...</td>\n",
       "    </tr>\n",
       "    <tr>\n",
       "      <th>2</th>\n",
       "      <td>KRISTIANSTADS HELIGA TREFALDIGHETS FÖRSAMLING</td>\n",
       "      <td>9999</td>\n",
       "      <td>NaN</td>\n",
       "      <td>SWE_KYRK</td>\n",
       "      <td>10744052.0</td>\n",
       "      <td>98647.0</td>\n",
       "      <td>POLYGON ((4249757.034 3241445.338, 4249645.614...</td>\n",
       "    </tr>\n",
       "    <tr>\n",
       "      <th>3</th>\n",
       "      <td>NORRA ÅSUMS FÖRSAMLING</td>\n",
       "      <td>9999</td>\n",
       "      <td>NaN</td>\n",
       "      <td>SWE_KYRK</td>\n",
       "      <td>10744064.0</td>\n",
       "      <td>96757.0</td>\n",
       "      <td>POLYGON ((4249757.034 3241445.338, 4249865.346...</td>\n",
       "    </tr>\n",
       "    <tr>\n",
       "      <th>4</th>\n",
       "      <td>ÄSPHULTS FÖRSAMLING</td>\n",
       "      <td>9999</td>\n",
       "      <td>NaN</td>\n",
       "      <td>SWE_KYRK</td>\n",
       "      <td>10744076.0</td>\n",
       "      <td>93166.0</td>\n",
       "      <td>POLYGON ((4227839.808 3230701.940, 4228155.888...</td>\n",
       "    </tr>\n",
       "    <tr>\n",
       "      <th>5</th>\n",
       "      <td>DJURRÖDS FÖRSAMLING</td>\n",
       "      <td>9999</td>\n",
       "      <td>NaN</td>\n",
       "      <td>SWE_KYRK</td>\n",
       "      <td>10744088.0</td>\n",
       "      <td>96902.0</td>\n",
       "      <td>POLYGON ((4235034.141 3239316.925, 4235277.475...</td>\n",
       "    </tr>\n",
       "    <tr>\n",
       "      <th>6</th>\n",
       "      <td>TRÄNE FÖRSAMLING</td>\n",
       "      <td>9999</td>\n",
       "      <td>NaN</td>\n",
       "      <td>SWE_KYRK</td>\n",
       "      <td>10744090.0</td>\n",
       "      <td>95622.0</td>\n",
       "      <td>POLYGON ((4241776.825 3239062.212, 4241952.361...</td>\n",
       "    </tr>\n",
       "    <tr>\n",
       "      <th>7</th>\n",
       "      <td>SKEPPARSLÖVS FÖRSAMLING</td>\n",
       "      <td>9999</td>\n",
       "      <td>NaN</td>\n",
       "      <td>SWE_KYRK</td>\n",
       "      <td>10744106.0</td>\n",
       "      <td>45567.0</td>\n",
       "      <td>POLYGON ((4241776.825 3239062.212, 4241471.416...</td>\n",
       "    </tr>\n",
       "    <tr>\n",
       "      <th>8</th>\n",
       "      <td>VÄ FÖRSAMLING</td>\n",
       "      <td>9999</td>\n",
       "      <td>NaN</td>\n",
       "      <td>SWE_KYRK</td>\n",
       "      <td>10744118.0</td>\n",
       "      <td>94721.0</td>\n",
       "      <td>POLYGON ((4246916.116 3231887.997, 4247067.301...</td>\n",
       "    </tr>\n",
       "    <tr>\n",
       "      <th>9</th>\n",
       "      <td>KÖPINGE FÖRSAMLING</td>\n",
       "      <td>9999</td>\n",
       "      <td>NaN</td>\n",
       "      <td>SWE_KYRK</td>\n",
       "      <td>10744120.0</td>\n",
       "      <td>95568.0</td>\n",
       "      <td>POLYGON ((4255464.917 3230813.998, 4255408.599...</td>\n",
       "    </tr>\n",
       "  </tbody>\n",
       "</table>\n",
       "</div>"
      ],
      "text/plain": [
       "                                          G_NAME  GET_END_YE  GET_START_  \\\n",
       "0                          HOVS FÖRSAMLING L LÄN        9999         NaN   \n",
       "1                            TOREKOVS FÖRSAMLING        9999         NaN   \n",
       "2  KRISTIANSTADS HELIGA TREFALDIGHETS FÖRSAMLING        9999         NaN   \n",
       "3                         NORRA ÅSUMS FÖRSAMLING        9999         NaN   \n",
       "4                            ÄSPHULTS FÖRSAMLING        9999         NaN   \n",
       "5                            DJURRÖDS FÖRSAMLING        9999         NaN   \n",
       "6                               TRÄNE FÖRSAMLING        9999         NaN   \n",
       "7                        SKEPPARSLÖVS FÖRSAMLING        9999         NaN   \n",
       "8                                  VÄ FÖRSAMLING        9999         NaN   \n",
       "9                             KÖPINGE FÖRSAMLING        9999         NaN   \n",
       "\n",
       "  G_UNIT_TYP      G_UNIT    G_SEQ  \\\n",
       "0   SWE_KYRK  10744015.0  51568.0   \n",
       "1   SWE_KYRK  10744027.0  94148.0   \n",
       "2   SWE_KYRK  10744052.0  98647.0   \n",
       "3   SWE_KYRK  10744064.0  96757.0   \n",
       "4   SWE_KYRK  10744076.0  93166.0   \n",
       "5   SWE_KYRK  10744088.0  96902.0   \n",
       "6   SWE_KYRK  10744090.0  95622.0   \n",
       "7   SWE_KYRK  10744106.0  45567.0   \n",
       "8   SWE_KYRK  10744118.0  94721.0   \n",
       "9   SWE_KYRK  10744120.0  95568.0   \n",
       "\n",
       "                                            geometry  \n",
       "0  POLYGON ((4159374.280 3280178.361, 4158183.768...  \n",
       "1  POLYGON ((4158250.036 3280475.526, 4158374.467...  \n",
       "2  POLYGON ((4249757.034 3241445.338, 4249645.614...  \n",
       "3  POLYGON ((4249757.034 3241445.338, 4249865.346...  \n",
       "4  POLYGON ((4227839.808 3230701.940, 4228155.888...  \n",
       "5  POLYGON ((4235034.141 3239316.925, 4235277.475...  \n",
       "6  POLYGON ((4241776.825 3239062.212, 4241952.361...  \n",
       "7  POLYGON ((4241776.825 3239062.212, 4241471.416...  \n",
       "8  POLYGON ((4246916.116 3231887.997, 4247067.301...  \n",
       "9  POLYGON ((4255464.917 3230813.998, 4255408.599...  "
      ]
     },
     "execution_count": 111,
     "metadata": {},
     "output_type": "execute_result"
    }
   ],
   "source": [
    "parishScaniaMap = gpd.read_file(parishScania_path, usecols=[\n",
    "                           'G_NAME'  \n",
    "                           , 'GET_END_YE'\n",
    "                           , 'GET_START_'\n",
    "                           , 'geometry'  \n",
    "                           ])\n",
    "parishScaniaMap.head(10)"
   ]
  },
  {
   "cell_type": "code",
   "execution_count": 125,
   "metadata": {},
   "outputs": [],
   "source": [
    "parishScaniaMap = parishScaniaMap.apply(lambda x: x.replace({'FÖRSAMLING': '', 'L LÄN' : '', 'S LÄN' : ''}, regex=True))"
   ]
  },
  {
   "cell_type": "code",
   "execution_count": null,
   "metadata": {},
   "outputs": [],
   "source": [
    "def "
   ]
  },
  {
   "cell_type": "code",
   "execution_count": 126,
   "metadata": {},
   "outputs": [
    {
     "data": {
      "text/html": [
       "<div>\n",
       "<style scoped>\n",
       "    .dataframe tbody tr th:only-of-type {\n",
       "        vertical-align: middle;\n",
       "    }\n",
       "\n",
       "    .dataframe tbody tr th {\n",
       "        vertical-align: top;\n",
       "    }\n",
       "\n",
       "    .dataframe thead th {\n",
       "        text-align: right;\n",
       "    }\n",
       "</style>\n",
       "<table border=\"1\" class=\"dataframe\">\n",
       "  <thead>\n",
       "    <tr style=\"text-align: right;\">\n",
       "      <th></th>\n",
       "      <th>G_NAME</th>\n",
       "      <th>GET_END_YE</th>\n",
       "      <th>GET_START_</th>\n",
       "      <th>G_UNIT_TYP</th>\n",
       "      <th>G_UNIT</th>\n",
       "      <th>G_SEQ</th>\n",
       "      <th>geometry</th>\n",
       "    </tr>\n",
       "  </thead>\n",
       "  <tbody>\n",
       "    <tr>\n",
       "      <th>0</th>\n",
       "      <td>HOVS</td>\n",
       "      <td>9999</td>\n",
       "      <td>NaN</td>\n",
       "      <td>SWE_KYRK</td>\n",
       "      <td>10744015.0</td>\n",
       "      <td>51568.0</td>\n",
       "      <td>POLYGON ((4159374.280 3280178.361, 4158183.768...</td>\n",
       "    </tr>\n",
       "    <tr>\n",
       "      <th>1</th>\n",
       "      <td>TOREKOVS</td>\n",
       "      <td>9999</td>\n",
       "      <td>NaN</td>\n",
       "      <td>SWE_KYRK</td>\n",
       "      <td>10744027.0</td>\n",
       "      <td>94148.0</td>\n",
       "      <td>POLYGON ((4158250.036 3280475.526, 4158374.467...</td>\n",
       "    </tr>\n",
       "    <tr>\n",
       "      <th>2</th>\n",
       "      <td>KRISTIANSTADS HELIGA TREFALDIGHETS</td>\n",
       "      <td>9999</td>\n",
       "      <td>NaN</td>\n",
       "      <td>SWE_KYRK</td>\n",
       "      <td>10744052.0</td>\n",
       "      <td>98647.0</td>\n",
       "      <td>POLYGON ((4249757.034 3241445.338, 4249645.614...</td>\n",
       "    </tr>\n",
       "    <tr>\n",
       "      <th>3</th>\n",
       "      <td>NORRA ÅSUMS</td>\n",
       "      <td>9999</td>\n",
       "      <td>NaN</td>\n",
       "      <td>SWE_KYRK</td>\n",
       "      <td>10744064.0</td>\n",
       "      <td>96757.0</td>\n",
       "      <td>POLYGON ((4249757.034 3241445.338, 4249865.346...</td>\n",
       "    </tr>\n",
       "    <tr>\n",
       "      <th>4</th>\n",
       "      <td>ÄSPHULTS</td>\n",
       "      <td>9999</td>\n",
       "      <td>NaN</td>\n",
       "      <td>SWE_KYRK</td>\n",
       "      <td>10744076.0</td>\n",
       "      <td>93166.0</td>\n",
       "      <td>POLYGON ((4227839.808 3230701.940, 4228155.888...</td>\n",
       "    </tr>\n",
       "    <tr>\n",
       "      <th>5</th>\n",
       "      <td>DJURRÖDS</td>\n",
       "      <td>9999</td>\n",
       "      <td>NaN</td>\n",
       "      <td>SWE_KYRK</td>\n",
       "      <td>10744088.0</td>\n",
       "      <td>96902.0</td>\n",
       "      <td>POLYGON ((4235034.141 3239316.925, 4235277.475...</td>\n",
       "    </tr>\n",
       "    <tr>\n",
       "      <th>6</th>\n",
       "      <td>TRÄNE</td>\n",
       "      <td>9999</td>\n",
       "      <td>NaN</td>\n",
       "      <td>SWE_KYRK</td>\n",
       "      <td>10744090.0</td>\n",
       "      <td>95622.0</td>\n",
       "      <td>POLYGON ((4241776.825 3239062.212, 4241952.361...</td>\n",
       "    </tr>\n",
       "    <tr>\n",
       "      <th>7</th>\n",
       "      <td>SKEPPARSLÖVS</td>\n",
       "      <td>9999</td>\n",
       "      <td>NaN</td>\n",
       "      <td>SWE_KYRK</td>\n",
       "      <td>10744106.0</td>\n",
       "      <td>45567.0</td>\n",
       "      <td>POLYGON ((4241776.825 3239062.212, 4241471.416...</td>\n",
       "    </tr>\n",
       "    <tr>\n",
       "      <th>8</th>\n",
       "      <td>VÄ</td>\n",
       "      <td>9999</td>\n",
       "      <td>NaN</td>\n",
       "      <td>SWE_KYRK</td>\n",
       "      <td>10744118.0</td>\n",
       "      <td>94721.0</td>\n",
       "      <td>POLYGON ((4246916.116 3231887.997, 4247067.301...</td>\n",
       "    </tr>\n",
       "    <tr>\n",
       "      <th>9</th>\n",
       "      <td>KÖPINGE</td>\n",
       "      <td>9999</td>\n",
       "      <td>NaN</td>\n",
       "      <td>SWE_KYRK</td>\n",
       "      <td>10744120.0</td>\n",
       "      <td>95568.0</td>\n",
       "      <td>POLYGON ((4255464.917 3230813.998, 4255408.599...</td>\n",
       "    </tr>\n",
       "  </tbody>\n",
       "</table>\n",
       "</div>"
      ],
      "text/plain": [
       "                                G_NAME  GET_END_YE  GET_START_ G_UNIT_TYP  \\\n",
       "0                               HOVS          9999         NaN   SWE_KYRK   \n",
       "1                            TOREKOVS         9999         NaN   SWE_KYRK   \n",
       "2  KRISTIANSTADS HELIGA TREFALDIGHETS         9999         NaN   SWE_KYRK   \n",
       "3                         NORRA ÅSUMS         9999         NaN   SWE_KYRK   \n",
       "4                            ÄSPHULTS         9999         NaN   SWE_KYRK   \n",
       "5                            DJURRÖDS         9999         NaN   SWE_KYRK   \n",
       "6                               TRÄNE         9999         NaN   SWE_KYRK   \n",
       "7                        SKEPPARSLÖVS         9999         NaN   SWE_KYRK   \n",
       "8                                  VÄ         9999         NaN   SWE_KYRK   \n",
       "9                             KÖPINGE         9999         NaN   SWE_KYRK   \n",
       "\n",
       "       G_UNIT    G_SEQ                                           geometry  \n",
       "0  10744015.0  51568.0  POLYGON ((4159374.280 3280178.361, 4158183.768...  \n",
       "1  10744027.0  94148.0  POLYGON ((4158250.036 3280475.526, 4158374.467...  \n",
       "2  10744052.0  98647.0  POLYGON ((4249757.034 3241445.338, 4249645.614...  \n",
       "3  10744064.0  96757.0  POLYGON ((4249757.034 3241445.338, 4249865.346...  \n",
       "4  10744076.0  93166.0  POLYGON ((4227839.808 3230701.940, 4228155.888...  \n",
       "5  10744088.0  96902.0  POLYGON ((4235034.141 3239316.925, 4235277.475...  \n",
       "6  10744090.0  95622.0  POLYGON ((4241776.825 3239062.212, 4241952.361...  \n",
       "7  10744106.0  45567.0  POLYGON ((4241776.825 3239062.212, 4241471.416...  \n",
       "8  10744118.0  94721.0  POLYGON ((4246916.116 3231887.997, 4247067.301...  \n",
       "9  10744120.0  95568.0  POLYGON ((4255464.917 3230813.998, 4255408.599...  "
      ]
     },
     "execution_count": 126,
     "metadata": {},
     "output_type": "execute_result"
    }
   ],
   "source": [
    "parishScaniaMap.head(10)"
   ]
  },
  {
   "cell_type": "code",
   "execution_count": 127,
   "metadata": {},
   "outputs": [],
   "source": [
    "parishScaniaMap_names = get_Names(parishScaniaMap, 'G_NAME')"
   ]
  },
  {
   "cell_type": "code",
   "execution_count": 128,
   "metadata": {},
   "outputs": [],
   "source": [
    "def check_name(data: pd.DataFrame, column: pd.Series, name: str):\n",
    "    filt_name = column.str.contains(name, na=False)\n",
    "    return data.loc[filt_name]"
   ]
  },
  {
   "cell_type": "code",
   "execution_count": 129,
   "metadata": {},
   "outputs": [],
   "source": [
    "def filter_data_by_name(data: pd.DataFrame, column: pd.Series, input_names: list[str]):\n",
    "    output_names = []\n",
    "    for name in input_names:\n",
    "        filter_data = check_name(data, column, name)\n",
    "        if len(filter_data) == 0 :\n",
    "            output_names  = output_names  + [name]\n",
    "        else:\n",
    "            continue\n",
    "    return output_names\n"
   ]
  },
  {
   "cell_type": "code",
   "execution_count": 92,
   "metadata": {},
   "outputs": [
    {
     "name": "stdout",
     "output_type": "stream",
     "text": [
      "56\n"
     ]
    }
   ],
   "source": [
    "print(len(filter_data_by_name(popSizeScania, popSizeScania['GEOIDNMN'], parishesScania_names)))"
   ]
  },
  {
   "cell_type": "code",
   "execution_count": null,
   "metadata": {},
   "outputs": [],
   "source": []
  },
  {
   "cell_type": "code",
   "execution_count": null,
   "metadata": {},
   "outputs": [
    {
     "name": "stdout",
     "output_type": "stream",
     "text": [
      "['SANKT OLOF']\n",
      "['SANKT OLOF', 'YSTAD SANKT PETRI']\n",
      "['SANKT OLOF', 'YSTAD SANKT PETRI', 'YSTAD SANKT MARIA']\n",
      "['SANKT OLOF', 'YSTAD SANKT PETRI', 'YSTAD SANKT MARIA', 'JERRESTAD']\n",
      "['SANKT OLOF', 'YSTAD SANKT PETRI', 'YSTAD SANKT MARIA', 'JERRESTAD', 'SKÖRUP']\n"
     ]
    }
   ],
   "source": [
    "southeastParishesNoPop = []\n",
    "\n",
    "for name in southeastParishes_names:\n",
    "    filter_data = check_name(popSizeScania, popSizeScania['GEOIDNMN'], name)\n",
    "    if len(filter_data) == 0 :\n",
    "        southeastParishesNoPop = southeastParishesNoPop + [name]\n",
    "    else:\n",
    "        continue\n",
    "    print(southeastParishesNoPop)\n",
    "    "
   ]
  },
  {
   "cell_type": "code",
   "execution_count": 130,
   "metadata": {},
   "outputs": [
    {
     "name": "stderr",
     "output_type": "stream",
     "text": [
      "/var/folders/d7/7wsj4qr14nz8ps73mjd1y9hm0000gp/T/ipykernel_26915/2772433272.py:2: UserWarning: This pattern is interpreted as a regular expression, and has match groups. To actually get the groups, use str.extract.\n",
      "  filt_name = column.str.contains(name, na=False)\n"
     ]
    },
    {
     "data": {
      "text/plain": [
       "['NORRA RÖRUM, DEL (KRISTIANSTAD)',\n",
       " 'RÖSTÅNGA, DEL (KRISTIANSTAD)',\n",
       " 'RAVLUNDA PASTORAT',\n",
       " 'SÖDRA MELLBY PASTORAT',\n",
       " 'GLADSAX PASTORAT',\n",
       " 'SANKT OLOV',\n",
       " 'STORA KÖPINGE,DEL (KRISTIANSTAD)',\n",
       " 'ÖVRABY, DEL (KRISTIANSTAD)',\n",
       " 'ÖSTRA HERRESTAD PASTORAT',\n",
       " 'TRYDE, DEL (KRISTIANSTAD)',\n",
       " 'NORRA VRAM, DEL (KRISTIANDSTAD)',\n",
       " 'VÄSTRA BROBY, DEL (KRISTIANDSTAD)',\n",
       " 'STRÖVELSTORP, DEL (KRISTIANSTAD)',\n",
       " 'GRÅMANSTORP',\n",
       " 'ÖSSJÖ PASTORAT',\n",
       " 'VÄSTRA KARUP PASTORAT',\n",
       " 'FÖRSLÖV PASTORAT',\n",
       " 'MUNKA-LJUNGBY',\n",
       " 'BARKÅKRA PASTORAT',\n",
       " 'VINSLÖV PASTORAT',\n",
       " 'NORRA MELLBY PASTORAT',\n",
       " 'TJÖRNARP, DEL AV (FROSTA HÄRAD, MALMÖHUS LÄN)',\n",
       " 'BRÖNNESTAD PASTORAT',\n",
       " 'FINJA PASTORAT',\n",
       " 'RÖKE PASTORAT',\n",
       " 'VANKIVA PASTORAT',\n",
       " 'NORRA ÅKARP PASTORAT',\n",
       " 'VISSELTOFTA PASTORAT',\n",
       " 'SÖRBY PASTORAT',\n",
       " 'FÄRLÖV PASTORAT',\n",
       " 'KRISTIANSTAD STAD',\n",
       " 'KRISTIANSTADS GARNISONSFÖRS.',\n",
       " 'KRISTIANSTADS SLOTTSFÖRSAMLING',\n",
       " 'ÅHUS PASTORAT',\n",
       " 'OPPMANNA PASTORAT',\n",
       " 'FJÄLKESTAD PASTORAT',\n",
       " 'RÅBELÖV',\n",
       " 'IVÖ PASTORAT',\n",
       " 'SVENSKÖP, DEL (KRISTIANSTAD)',\n",
       " 'ÄSPHULT PASTORAT',\n",
       " 'SANKT PETRI (MALMÖ SF)',\n",
       " 'CAROLI (MALMÖ SF)',\n",
       " 'MALMÖ SLOTTSFÖRSAMLING',\n",
       " 'MALMÖ GARNISONSFÖRS.',\n",
       " 'BUNKEFLO PASTORAT',\n",
       " 'VÄSTRA SKRÄVLINGE MED SOFIELUND',\n",
       " 'GÄSSIE',\n",
       " 'GESSIE PASTORAT',\n",
       " 'MELLAN-GREVIE',\n",
       " 'MELLAN-GREVIE PASTORAT',\n",
       " 'INGELSTAD PASTORAT',\n",
       " 'FOSIE PASTORAT',\n",
       " 'VÄSTRA KÄRRSTORP PASTORAT',\n",
       " 'VELLINGE PASTORAT',\n",
       " 'TRELLEBORG LANDS PASTORAT',\n",
       " 'RÄNG PASTORAT',\n",
       " 'HÅSLÖV PASTORAT',\n",
       " 'STORA SLAGARP PASTORAT',\n",
       " 'VÄSTRA ALSTAD PASTORAT',\n",
       " 'BÖSARP PASTORAT',\n",
       " 'VÄSTRA TOMMARP PASTORAT',\n",
       " 'ALSEDA PASTORAT',\n",
       " 'HAMMARLÖV PASTORAT',\n",
       " 'GYLLE PASTORAT',\n",
       " 'DALKÖPINGE PASTORAT',\n",
       " 'SKANÖR-FALSTERBO',\n",
       " 'SILFÅKRA PASTORAT',\n",
       " 'HÄLLESTAD PASTORAT',\n",
       " 'HARDEBERGA PASTORAT',\n",
       " 'IGELÖSA PASTORAT',\n",
       " 'VÄSTRA ODARSLÖV',\n",
       " 'HOBY PASTORAT',\n",
       " 'SANKT PETERS KLOSTER PASTORAT',\n",
       " 'BORGEBY PASTORAT',\n",
       " 'BJÄLLERUP PASTORAT',\n",
       " 'FJELIE PASTORAT',\n",
       " 'LUNDS DOMKYRKOFÖRSAMLING',\n",
       " 'LUND PASTORAT',\n",
       " 'STORA UPPÅKRA',\n",
       " 'MALMÖ HOSPITAL',\n",
       " 'BRÅGARP (STAFFANSTORP)',\n",
       " 'GRÖNBY PASTORAT',\n",
       " 'SOLBERGA PASTORAT',\n",
       " 'HASSLE-BÖSARP',\n",
       " 'ÖSTRA TORP PASTORAT',\n",
       " 'ÄSPÖ PASTORAT',\n",
       " 'BÖRRINGE / GUSTAV',\n",
       " 'LEMMESTRÖ',\n",
       " 'HEMMESDYNGE PASTORAT',\n",
       " 'SANKT MARIA (YSTAD SF)',\n",
       " 'SANKT MARIE OCH GARNISIONSFÖRS.',\n",
       " 'SANKT PETER (YSTAD SF)',\n",
       " 'HÖGESTAD PASTORAT',\n",
       " 'FULLTOFTA PASTORAT',\n",
       " 'ÖSTRA ÄSPINGE',\n",
       " 'HÖÖR PASTORAT',\n",
       " 'NORRA RÖRUM PASTORAT',\n",
       " 'NORRA RÖRUM, DEL (MALMÖHUS)',\n",
       " 'GUDMUNDTORP PASTORAT',\n",
       " 'BORLUNDA PASTORAT',\n",
       " 'ÖSTRA STRÖ PASTORAT',\n",
       " 'GÅRDSTÅNGA PASTORAT',\n",
       " 'SKARTOFTA',\n",
       " 'TORRLÖSA PASTORAT',\n",
       " 'GULLARP',\n",
       " 'RÖSTÅNGA, DEL (MALMÖHUS)',\n",
       " 'VÄSTRA KARABY PASTORAT',\n",
       " 'VÄSTRA SALLERUP',\n",
       " 'VÄSTRA SALLERUP PASTORAT',\n",
       " 'BARSEBÄCK PASTORAT',\n",
       " 'HÖG PASTORAT',\n",
       " 'ÖRTOFTA PASTORAT',\n",
       " 'STORA HARRIE PASTORAT',\n",
       " 'LANDSKRONA GARNISIONSFÖRS.',\n",
       " 'LANDSKRONA SLOTTSFÖRSAMLING',\n",
       " 'VADENSJÖ PASTORAT',\n",
       " 'ÖRJA PASTORAT',\n",
       " 'HÄRSLÖV PASTORAT',\n",
       " 'BILLEBERGA PASTORAT',\n",
       " 'NORRA SVALÖV',\n",
       " 'KÄLLS-NÖBBELÖV',\n",
       " 'KÄLLS-NÖBBELÖV PASTORAT',\n",
       " 'VÄSBY PASTORAT',\n",
       " 'HELSINGBORGS STADS',\n",
       " 'HELSINGBORGS GARNISONSFÖRS.',\n",
       " 'VÄLLUV PASTORAT',\n",
       " 'STORA KÖPINGE, DEL (MALMÖHUS)',\n",
       " 'ÖVRABY, DEL (MALMÖHUS)',\n",
       " 'TRYDE, DEL (EVERÖD, MALMÖHUS)',\n",
       " 'NORRA VRAM, DEL (MALMÖHUS LÄN)',\n",
       " 'BROBY, DEL (HYLLINGE, MALMÖHUS)',\n",
       " 'STRÖVELSTORP, DEL (MALMÖHUS)']"
      ]
     },
     "execution_count": 130,
     "metadata": {},
     "output_type": "execute_result"
    }
   ],
   "source": [
    "filter_data_by_name(parishScaniaMap, parishScaniaMap['G_NAME'], popSizeScania_names)"
   ]
  },
  {
   "cell_type": "code",
   "execution_count": null,
   "metadata": {},
   "outputs": [
    {
     "name": "stdout",
     "output_type": "stream",
     "text": [
      "['SANKT OLOF']\n",
      "['SANKT OLOF', 'YSTAD SANKT PETRI']\n",
      "['SANKT OLOF', 'YSTAD SANKT PETRI', 'YSTAD SANKT MARIA']\n",
      "['SANKT OLOF', 'YSTAD SANKT PETRI', 'YSTAD SANKT MARIA', 'JERRESTAD']\n",
      "['SANKT OLOF', 'YSTAD SANKT PETRI', 'YSTAD SANKT MARIA', 'JERRESTAD', 'SKÖRUP']\n"
     ]
    }
   ],
   "source": [
    "southeastParishesNoPop = []\n",
    "\n",
    "for name in southeastParishes_names:\n",
    "    filter_data = check_name(popSizeScania, popSizeScania['GEOIDNMN'], name)\n",
    "    if len(filter_data) == 0 :\n",
    "        southeastParishesNoPop = southeastParishesNoPop + [name]\n",
    "    else:\n",
    "        continue\n",
    "    print(southeastParishesNoPop)\n",
    "    "
   ]
  },
  {
   "cell_type": "code",
   "execution_count": null,
   "metadata": {},
   "outputs": [
    {
     "name": "stdout",
     "output_type": "stream",
     "text": [
      "['SANKT OLOF']\n",
      "['SANKT OLOF', 'YSTAD SANKT PETRI']\n",
      "['SANKT OLOF', 'YSTAD SANKT PETRI', 'YSTAD SANKT MARIA']\n",
      "['SANKT OLOF', 'YSTAD SANKT PETRI', 'YSTAD SANKT MARIA', 'JERRESTAD']\n",
      "['SANKT OLOF', 'YSTAD SANKT PETRI', 'YSTAD SANKT MARIA', 'JERRESTAD', 'SKÖRUP']\n"
     ]
    }
   ],
   "source": [
    "southeastParishesNoPop = []\n",
    "\n",
    "for name in southeastParishes_names:\n",
    "    filter_data = check_name(popSizeScania, popSizeScania['GEOIDNMN'], name)\n",
    "    if len(filter_data) == 0 :\n",
    "        southeastParishesNoPop = southeastParishesNoPop + [name]\n",
    "    else:\n",
    "        continue\n",
    "    print(southeastParishesNoPop)\n",
    "    "
   ]
  },
  {
   "cell_type": "code",
   "execution_count": null,
   "metadata": {},
   "outputs": [
    {
     "name": "stdout",
     "output_type": "stream",
     "text": [
      "['SANKT OLOF']\n",
      "['SANKT OLOF', 'YSTAD SANKT PETRI']\n",
      "['SANKT OLOF', 'YSTAD SANKT PETRI', 'YSTAD SANKT MARIA']\n",
      "['SANKT OLOF', 'YSTAD SANKT PETRI', 'YSTAD SANKT MARIA', 'JERRESTAD']\n",
      "['SANKT OLOF', 'YSTAD SANKT PETRI', 'YSTAD SANKT MARIA', 'JERRESTAD', 'SKÖRUP']\n"
     ]
    }
   ],
   "source": [
    "southeastParishesNoPop = []\n",
    "\n",
    "for name in southeastParishes_names:\n",
    "    filter_data = check_name(popSizeScania, popSizeScania['GEOIDNMN'], name)\n",
    "    if len(filter_data) == 0 :\n",
    "        southeastParishesNoPop = southeastParishesNoPop + [name]\n",
    "    else:\n",
    "        continue\n",
    "    print(southeastParishesNoPop)\n",
    "    "
   ]
  },
  {
   "cell_type": "code",
   "execution_count": null,
   "metadata": {},
   "outputs": [
    {
     "name": "stdout",
     "output_type": "stream",
     "text": [
      "['SANKT OLOF']\n",
      "['SANKT OLOF', 'YSTAD SANKT PETRI']\n",
      "['SANKT OLOF', 'YSTAD SANKT PETRI', 'YSTAD SANKT MARIA']\n",
      "['SANKT OLOF', 'YSTAD SANKT PETRI', 'YSTAD SANKT MARIA', 'JERRESTAD']\n",
      "['SANKT OLOF', 'YSTAD SANKT PETRI', 'YSTAD SANKT MARIA', 'JERRESTAD', 'SKÖRUP']\n"
     ]
    }
   ],
   "source": [
    "southeastParishesNoPop = []\n",
    "\n",
    "for name in southeastParishes_names:\n",
    "    filter_data = check_name(popSizeScania, popSizeScania['GEOIDNMN'], name)\n",
    "    if len(filter_data) == 0 :\n",
    "        southeastParishesNoPop = southeastParishesNoPop + [name]\n",
    "    else:\n",
    "        continue\n",
    "    print(southeastParishesNoPop)\n",
    "    "
   ]
  },
  {
   "cell_type": "code",
   "execution_count": null,
   "metadata": {},
   "outputs": [
    {
     "name": "stdout",
     "output_type": "stream",
     "text": [
      "['SANKT OLOF']\n",
      "['SANKT OLOF', 'YSTAD SANKT PETRI']\n",
      "['SANKT OLOF', 'YSTAD SANKT PETRI', 'YSTAD SANKT MARIA']\n",
      "['SANKT OLOF', 'YSTAD SANKT PETRI', 'YSTAD SANKT MARIA', 'JERRESTAD']\n",
      "['SANKT OLOF', 'YSTAD SANKT PETRI', 'YSTAD SANKT MARIA', 'JERRESTAD', 'SKÖRUP']\n"
     ]
    }
   ],
   "source": [
    "southeastParishesNoPop = []\n",
    "\n",
    "for name in southeastParishes_names:\n",
    "    filter_data = check_name(popSizeScania, popSizeScania['GEOIDNMN'], name)\n",
    "    if len(filter_data) == 0 :\n",
    "        southeastParishesNoPop = southeastParishesNoPop + [name]\n",
    "    else:\n",
    "        continue\n",
    "    print(southeastParishesNoPop)\n",
    "    "
   ]
  },
  {
   "cell_type": "code",
   "execution_count": null,
   "metadata": {},
   "outputs": [
    {
     "name": "stdout",
     "output_type": "stream",
     "text": [
      "['SANKT OLOF']\n",
      "['SANKT OLOF', 'YSTAD SANKT PETRI']\n",
      "['SANKT OLOF', 'YSTAD SANKT PETRI', 'YSTAD SANKT MARIA']\n",
      "['SANKT OLOF', 'YSTAD SANKT PETRI', 'YSTAD SANKT MARIA', 'JERRESTAD']\n",
      "['SANKT OLOF', 'YSTAD SANKT PETRI', 'YSTAD SANKT MARIA', 'JERRESTAD', 'SKÖRUP']\n"
     ]
    }
   ],
   "source": [
    "southeastParishesNoPop = []\n",
    "\n",
    "for name in southeastParishes_names:\n",
    "    filter_data = check_name(popSizeScania, popSizeScania['GEOIDNMN'], name)\n",
    "    if len(filter_data) == 0 :\n",
    "        southeastParishesNoPop = southeastParishesNoPop + [name]\n",
    "    else:\n",
    "        continue\n",
    "    print(southeastParishesNoPop)\n",
    "    "
   ]
  },
  {
   "cell_type": "code",
   "execution_count": null,
   "metadata": {},
   "outputs": [
    {
     "name": "stdout",
     "output_type": "stream",
     "text": [
      "['SANKT OLOF']\n",
      "['SANKT OLOF', 'YSTAD SANKT PETRI']\n",
      "['SANKT OLOF', 'YSTAD SANKT PETRI', 'YSTAD SANKT MARIA']\n",
      "['SANKT OLOF', 'YSTAD SANKT PETRI', 'YSTAD SANKT MARIA', 'JERRESTAD']\n",
      "['SANKT OLOF', 'YSTAD SANKT PETRI', 'YSTAD SANKT MARIA', 'JERRESTAD', 'SKÖRUP']\n"
     ]
    }
   ],
   "source": [
    "southeastParishesNoPop = []\n",
    "\n",
    "for name in southeastParishes_names:\n",
    "    filter_data = check_name(popSizeScania, popSizeScania['GEOIDNMN'], name)\n",
    "    if len(filter_data) == 0 :\n",
    "        southeastParishesNoPop = southeastParishesNoPop + [name]\n",
    "    else:\n",
    "        continue\n",
    "    print(southeastParishesNoPop)\n",
    "    "
   ]
  },
  {
   "attachments": {},
   "cell_type": "markdown",
   "metadata": {},
   "source": [
    "Check regular expressions code in Mathematica for eliminATING SOME STRINGS"
   ]
  },
  {
   "cell_type": "code",
   "execution_count": 83,
   "metadata": {},
   "outputs": [],
   "source": [
    "\n",
    "parishesScaniaNoPop = []\n",
    "\n",
    "for name in parishesScania_names:\n",
    "    filter_data = check_name(popSizeScania, popSizeScania['GEOIDNMN'], name)\n",
    "    if len(filter_data) == 0 :\n",
    "        parishesScaniaNoPop  = parishesScaniaNoPop  + [name]\n",
    "    else:\n",
    "        continue\n",
    "\n",
    "    "
   ]
  },
  {
   "cell_type": "code",
   "execution_count": 287,
   "metadata": {},
   "outputs": [
    {
     "data": {
      "text/html": [
       "<div>\n",
       "<style scoped>\n",
       "    .dataframe tbody tr th:only-of-type {\n",
       "        vertical-align: middle;\n",
       "    }\n",
       "\n",
       "    .dataframe tbody tr th {\n",
       "        vertical-align: top;\n",
       "    }\n",
       "\n",
       "    .dataframe thead th {\n",
       "        text-align: right;\n",
       "    }\n",
       "</style>\n",
       "<table border=\"1\" class=\"dataframe\">\n",
       "  <thead>\n",
       "    <tr style=\"text-align: right;\">\n",
       "      <th></th>\n",
       "      <th>LANGEN</th>\n",
       "      <th>LANGENNMN</th>\n",
       "      <th>GEOID</th>\n",
       "      <th>GEOIDNMN</th>\n",
       "      <th>GEOIDTYP</th>\n",
       "      <th>AR</th>\n",
       "      <th>FORMNR</th>\n",
       "      <th>KON</th>\n",
       "      <th>FORMID</th>\n",
       "      <th>BEF_SUM</th>\n",
       "      <th>BEF_TOT</th>\n",
       "      <th>BEF_GENSUM</th>\n",
       "      <th>BEF_GENTOT</th>\n",
       "    </tr>\n",
       "  </thead>\n",
       "  <tbody>\n",
       "  </tbody>\n",
       "</table>\n",
       "</div>"
      ],
      "text/plain": [
       "Empty DataFrame\n",
       "Columns: [LANGEN, LANGENNMN, GEOID, GEOIDNMN, GEOIDTYP, AR, FORMNR, KON, FORMID, BEF_SUM, BEF_TOT, BEF_GENSUM, BEF_GENTOT]\n",
       "Index: []"
      ]
     },
     "execution_count": 287,
     "metadata": {},
     "output_type": "execute_result"
    }
   ],
   "source": [
    "check_name(popSizeScania, popSizeScania['GEOIDNMN'], 'YSTAD')\n",
    "check_name(popSizeScania, popSizeScania['GEOIDNMN'], 'OLOFS')\n"
   ]
  },
  {
   "cell_type": "code",
   "execution_count": 213,
   "metadata": {},
   "outputs": [
    {
     "data": {
      "text/plain": [
       "pandas.core.series.Series"
      ]
     },
     "execution_count": 213,
     "metadata": {},
     "output_type": "execute_result"
    }
   ],
   "source": [
    "type(censusScania['GEOIDNMN'])"
   ]
  },
  {
   "cell_type": "code",
   "execution_count": 220,
   "metadata": {},
   "outputs": [
    {
     "data": {
      "text/html": [
       "<div>\n",
       "<style scoped>\n",
       "    .dataframe tbody tr th:only-of-type {\n",
       "        vertical-align: middle;\n",
       "    }\n",
       "\n",
       "    .dataframe tbody tr th {\n",
       "        vertical-align: top;\n",
       "    }\n",
       "\n",
       "    .dataframe thead th {\n",
       "        text-align: right;\n",
       "    }\n",
       "</style>\n",
       "<table border=\"1\" class=\"dataframe\">\n",
       "  <thead>\n",
       "    <tr style=\"text-align: right;\">\n",
       "      <th></th>\n",
       "      <th>LANGEN</th>\n",
       "      <th>LANGENNMN</th>\n",
       "      <th>GEOID</th>\n",
       "      <th>GEOIDNMN</th>\n",
       "      <th>GEOIDTYP</th>\n",
       "      <th>AR</th>\n",
       "      <th>FORMNR</th>\n",
       "      <th>KON</th>\n",
       "      <th>FORMID</th>\n",
       "      <th>BEF_SUM</th>\n",
       "      <th>BEF_TOT</th>\n",
       "      <th>BEF_GENSUM</th>\n",
       "      <th>BEF_GENTOT</th>\n",
       "    </tr>\n",
       "  </thead>\n",
       "  <tbody>\n",
       "    <tr>\n",
       "      <th>40902</th>\n",
       "      <td>11</td>\n",
       "      <td>KRISTIANSTADS LÄN</td>\n",
       "      <td>71342</td>\n",
       "      <td>NORRA RÖRUM, DEL (KRISTIANSTAD)</td>\n",
       "      <td>9</td>\n",
       "      <td>1855</td>\n",
       "      <td>610</td>\n",
       "      <td>1</td>\n",
       "      <td>100573</td>\n",
       "      <td>169</td>\n",
       "      <td>346</td>\n",
       "      <td>169</td>\n",
       "      <td>346</td>\n",
       "    </tr>\n",
       "    <tr>\n",
       "      <th>53446</th>\n",
       "      <td>12</td>\n",
       "      <td>MALMÖHUS LÄN</td>\n",
       "      <td>71340</td>\n",
       "      <td>NORRA RÖRUM</td>\n",
       "      <td>0</td>\n",
       "      <td>1785</td>\n",
       "      <td>200</td>\n",
       "      <td>1</td>\n",
       "      <td>131832</td>\n",
       "      <td>376</td>\n",
       "      <td>783</td>\n",
       "      <td>376</td>\n",
       "      <td>783</td>\n",
       "    </tr>\n",
       "    <tr>\n",
       "      <th>53440</th>\n",
       "      <td>12</td>\n",
       "      <td>MALMÖHUS LÄN</td>\n",
       "      <td>71349</td>\n",
       "      <td>NORRA RÖRUM PASTORAT</td>\n",
       "      <td>1</td>\n",
       "      <td>1773</td>\n",
       "      <td>100</td>\n",
       "      <td>1</td>\n",
       "      <td>131817</td>\n",
       "      <td>587</td>\n",
       "      <td>1228</td>\n",
       "      <td>587</td>\n",
       "      <td>1228</td>\n",
       "    </tr>\n",
       "    <tr>\n",
       "      <th>53472</th>\n",
       "      <td>12</td>\n",
       "      <td>MALMÖHUS LÄN</td>\n",
       "      <td>71341</td>\n",
       "      <td>NORRA RÖRUM, DEL (MALMÖHUS)</td>\n",
       "      <td>9</td>\n",
       "      <td>1855</td>\n",
       "      <td>610</td>\n",
       "      <td>1</td>\n",
       "      <td>131914</td>\n",
       "      <td>475</td>\n",
       "      <td>978</td>\n",
       "      <td>475</td>\n",
       "      <td>978</td>\n",
       "    </tr>\n",
       "  </tbody>\n",
       "</table>\n",
       "</div>"
      ],
      "text/plain": [
       "       LANGEN          LANGENNMN  GEOID                         GEOIDNMN  \\\n",
       "40902      11  KRISTIANSTADS LÄN  71342  NORRA RÖRUM, DEL (KRISTIANSTAD)   \n",
       "53446      12       MALMÖHUS LÄN  71340                      NORRA RÖRUM   \n",
       "53440      12       MALMÖHUS LÄN  71349             NORRA RÖRUM PASTORAT   \n",
       "53472      12       MALMÖHUS LÄN  71341      NORRA RÖRUM, DEL (MALMÖHUS)   \n",
       "\n",
       "       GEOIDTYP    AR  FORMNR  KON  FORMID  BEF_SUM  BEF_TOT  BEF_GENSUM  \\\n",
       "40902         9  1855     610    1  100573      169      346         169   \n",
       "53446         0  1785     200    1  131832      376      783         376   \n",
       "53440         1  1773     100    1  131817      587     1228         587   \n",
       "53472         9  1855     610    1  131914      475      978         475   \n",
       "\n",
       "       BEF_GENTOT  \n",
       "40902         346  \n",
       "53446         783  \n",
       "53440        1228  \n",
       "53472         978  "
      ]
     },
     "execution_count": 220,
     "metadata": {},
     "output_type": "execute_result"
    }
   ],
   "source": [
    "filt2 = popSizeScania['GEOIDNMN'].str.contains('NORRA RÖRUM', na=False)\n",
    "popSizeScania.loc[filt2]"
   ]
  },
  {
   "cell_type": "code",
   "execution_count": 218,
   "metadata": {},
   "outputs": [
    {
     "name": "stdout",
     "output_type": "stream",
     "text": [
      "GEOIDNMN    NORRA RÖRUM, DEL (KRISTIANSTAD)\n",
      "AR                                     1855\n",
      "Name: 40902, dtype: object\n"
     ]
    }
   ],
   "source": [
    "print(popSizeScania[['GEOIDNMN','AR']].iloc[2])"
   ]
  }
 ],
 "metadata": {
  "kernelspec": {
   "display_name": "Python 3",
   "language": "python",
   "name": "python3"
  },
  "language_info": {
   "codemirror_mode": {
    "name": "ipython",
    "version": 3
   },
   "file_extension": ".py",
   "mimetype": "text/x-python",
   "name": "python",
   "nbconvert_exporter": "python",
   "pygments_lexer": "ipython3",
   "version": "3.11.2"
  },
  "orig_nbformat": 4,
  "vscode": {
   "interpreter": {
    "hash": "b0fa6594d8f4cbf19f97940f81e996739fb7646882a419484c72d19e05852a7e"
   }
  }
 },
 "nbformat": 4,
 "nbformat_minor": 2
}
