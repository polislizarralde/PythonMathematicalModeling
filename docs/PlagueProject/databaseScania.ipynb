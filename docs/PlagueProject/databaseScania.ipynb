{
 "cells": [
  {
   "cell_type": "code",
   "execution_count": 86,
   "metadata": {},
   "outputs": [],
   "source": [
    "#Python 3.11.2\n",
    "#Import packages\n",
    "import pandas as pd\n",
    "import numpy as np\n",
    "import pylab as pl\n",
    "import random\n",
    "import matplotlib.pyplot as plt\n",
    "from collections import defaultdict\n",
    "import json # for pretty printing\n",
    "import geopandas as gpd\n",
    "import os"
   ]
  },
  {
   "attachments": {},
   "cell_type": "markdown",
   "metadata": {},
   "source": [
    "We have three different data sources. \n",
    "\n",
    "1. The data collected by Bodil corresponds to the plague period.\n",
    "2. The information from the TABVERK database includes the population size for parishes in the posterior years of the plague.\n",
    "3. The geographical information (polygons) for some parishes. This information doesn't correspond to the plague period.\n",
    "\n",
    "Our goal is to create a unique database for our project: Plague spread across Scania, Sweden, from 1710 to 1715."
   ]
  },
  {
   "cell_type": "code",
   "execution_count": 87,
   "metadata": {},
   "outputs": [],
   "source": [
    "# For public files paths\n",
    "data_folder = \"data\"\n",
    "appendix6_path = os.path.join(data_folder, \"Appendix6Bodil.csv\")\n",
    "\n",
    "# For private files paths\n",
    "data_private_folder = \"data/private\"\n",
    "allParishes_path = os.path.join(data_private_folder, \"allParishesScania.xlsx\")"
   ]
  },
  {
   "attachments": {},
   "cell_type": "markdown",
   "metadata": {},
   "source": [
    "First we read the different data sources (.xlsx, .csv, and .shp files)"
   ]
  },
  {
   "cell_type": "code",
   "execution_count": 88,
   "metadata": {},
   "outputs": [],
   "source": [
    "# Bodil's data Appendix 6 plague parishes\n",
    "plagueParishesScania = pd.read_csv(appendix6_path, sep=\",\", encoding=\"utf-8\")\n",
    "# All parishes in Scania during the plague period\n",
    "allParishesScania = pd.read_excel(allParishes_path)"
   ]
  },
  {
   "attachments": {},
   "cell_type": "markdown",
   "metadata": {},
   "source": [
    "Transforming the lowercase to uppercase and checking the type"
   ]
  },
  {
   "cell_type": "code",
   "execution_count": 89,
   "metadata": {},
   "outputs": [
    {
     "data": {
      "text/plain": [
       "pandas.core.frame.DataFrame"
      ]
     },
     "execution_count": 89,
     "metadata": {},
     "output_type": "execute_result"
    }
   ],
   "source": [
    "allParishesScania = allParishesScania.apply(\n",
    "    lambda x: x.astype(str).str.upper())\n",
    "plagueParishesScania = plagueParishesScania.apply(\n",
    "    lambda x: x.astype(str).str.upper())\n",
    "type(plagueParishesScania)\n",
    "type(allParishesScania)"
   ]
  },
  {
   "attachments": {},
   "cell_type": "markdown",
   "metadata": {},
   "source": [
    "Visualizing the DataFrames"
   ]
  },
  {
   "cell_type": "code",
   "execution_count": 90,
   "metadata": {},
   "outputs": [
    {
     "data": {
      "text/html": [
       "<div>\n",
       "<style scoped>\n",
       "    .dataframe tbody tr th:only-of-type {\n",
       "        vertical-align: middle;\n",
       "    }\n",
       "\n",
       "    .dataframe tbody tr th {\n",
       "        vertical-align: top;\n",
       "    }\n",
       "\n",
       "    .dataframe thead th {\n",
       "        text-align: right;\n",
       "    }\n",
       "</style>\n",
       "<table border=\"1\" class=\"dataframe\">\n",
       "  <thead>\n",
       "    <tr style=\"text-align: right;\">\n",
       "      <th></th>\n",
       "      <th>Region</th>\n",
       "      <th>District(Härad)</th>\n",
       "      <th>ParishName</th>\n",
       "    </tr>\n",
       "  </thead>\n",
       "  <tbody>\n",
       "    <tr>\n",
       "      <th>0</th>\n",
       "      <td>SOUTHEAST</td>\n",
       "      <td>ALBO</td>\n",
       "      <td>ANDRARUM</td>\n",
       "    </tr>\n",
       "    <tr>\n",
       "      <th>1</th>\n",
       "      <td>SOUTHEAST</td>\n",
       "      <td>ALBO</td>\n",
       "      <td>BRÖSARP</td>\n",
       "    </tr>\n",
       "    <tr>\n",
       "      <th>2</th>\n",
       "      <td>SOUTHEAST</td>\n",
       "      <td>ALBO</td>\n",
       "      <td>ELJARÖD</td>\n",
       "    </tr>\n",
       "  </tbody>\n",
       "</table>\n",
       "</div>"
      ],
      "text/plain": [
       "      Region District(Härad) ParishName\n",
       "0  SOUTHEAST            ALBO   ANDRARUM\n",
       "1  SOUTHEAST            ALBO    BRÖSARP\n",
       "2  SOUTHEAST            ALBO    ELJARÖD"
      ]
     },
     "execution_count": 90,
     "metadata": {},
     "output_type": "execute_result"
    }
   ],
   "source": [
    "allParishesScania.head(3)"
   ]
  },
  {
   "cell_type": "code",
   "execution_count": 91,
   "metadata": {},
   "outputs": [
    {
     "data": {
      "text/html": [
       "<div>\n",
       "<style scoped>\n",
       "    .dataframe tbody tr th:only-of-type {\n",
       "        vertical-align: middle;\n",
       "    }\n",
       "\n",
       "    .dataframe tbody tr th {\n",
       "        vertical-align: top;\n",
       "    }\n",
       "\n",
       "    .dataframe thead th {\n",
       "        text-align: right;\n",
       "    }\n",
       "</style>\n",
       "<table border=\"1\" class=\"dataframe\">\n",
       "  <thead>\n",
       "    <tr style=\"text-align: right;\">\n",
       "      <th></th>\n",
       "      <th>BeginPlaguePeriod</th>\n",
       "      <th>EndPlaguePeriod</th>\n",
       "      <th>ParishName</th>\n",
       "      <th>VictimsNumber</th>\n",
       "      <th>Region</th>\n",
       "    </tr>\n",
       "  </thead>\n",
       "  <tbody>\n",
       "    <tr>\n",
       "      <th>0</th>\n",
       "      <td>NOV 1710</td>\n",
       "      <td>APR 1711</td>\n",
       "      <td>NÄSUM</td>\n",
       "      <td>671</td>\n",
       "      <td>NORTHEAST</td>\n",
       "    </tr>\n",
       "    <tr>\n",
       "      <th>1</th>\n",
       "      <td>FEB 1712</td>\n",
       "      <td>UNDEFINED</td>\n",
       "      <td>NÄSUM</td>\n",
       "      <td>?</td>\n",
       "      <td>NORTHEAST</td>\n",
       "    </tr>\n",
       "    <tr>\n",
       "      <th>2</th>\n",
       "      <td>NOV 1710</td>\n",
       "      <td>AUG 1711</td>\n",
       "      <td>IVÖ</td>\n",
       "      <td>123</td>\n",
       "      <td>NORTHEAST</td>\n",
       "    </tr>\n",
       "  </tbody>\n",
       "</table>\n",
       "</div>"
      ],
      "text/plain": [
       "  BeginPlaguePeriod EndPlaguePeriod ParishName VictimsNumber     Region\n",
       "0          NOV 1710        APR 1711      NÄSUM           671  NORTHEAST\n",
       "1          FEB 1712       UNDEFINED      NÄSUM             ?  NORTHEAST\n",
       "2          NOV 1710        AUG 1711        IVÖ           123  NORTHEAST"
      ]
     },
     "execution_count": 91,
     "metadata": {},
     "output_type": "execute_result"
    }
   ],
   "source": [
    "plagueParishesScania.head(3)"
   ]
  },
  {
   "attachments": {},
   "cell_type": "markdown",
   "metadata": {},
   "source": [
    "Merging the two datasets (allParishesScania and plagueParishesScania)"
   ]
  },
  {
   "cell_type": "code",
   "execution_count": 92,
   "metadata": {},
   "outputs": [],
   "source": [
    "parishesScania = pd.merge(\n",
    "    allParishesScania, plagueParishesScania, how='left', on=['ParishName', 'Region'])"
   ]
  },
  {
   "attachments": {},
   "cell_type": "markdown",
   "metadata": {},
   "source": [
    "Checking that the new data frame keep all the outbreaks for parish"
   ]
  },
  {
   "cell_type": "code",
   "execution_count": 93,
   "metadata": {},
   "outputs": [
    {
     "data": {
      "text/html": [
       "<div>\n",
       "<style scoped>\n",
       "    .dataframe tbody tr th:only-of-type {\n",
       "        vertical-align: middle;\n",
       "    }\n",
       "\n",
       "    .dataframe tbody tr th {\n",
       "        vertical-align: top;\n",
       "    }\n",
       "\n",
       "    .dataframe thead th {\n",
       "        text-align: right;\n",
       "    }\n",
       "</style>\n",
       "<table border=\"1\" class=\"dataframe\">\n",
       "  <thead>\n",
       "    <tr style=\"text-align: right;\">\n",
       "      <th></th>\n",
       "      <th>Region</th>\n",
       "      <th>District(Härad)</th>\n",
       "      <th>ParishName</th>\n",
       "      <th>BeginPlaguePeriod</th>\n",
       "      <th>EndPlaguePeriod</th>\n",
       "      <th>VictimsNumber</th>\n",
       "    </tr>\n",
       "  </thead>\n",
       "  <tbody>\n",
       "    <tr>\n",
       "      <th>393</th>\n",
       "      <td>NORTHEAST</td>\n",
       "      <td>VILLANDS</td>\n",
       "      <td>NÄSUM</td>\n",
       "      <td>NOV 1710</td>\n",
       "      <td>APR 1711</td>\n",
       "      <td>671</td>\n",
       "    </tr>\n",
       "    <tr>\n",
       "      <th>394</th>\n",
       "      <td>NORTHEAST</td>\n",
       "      <td>VILLANDS</td>\n",
       "      <td>NÄSUM</td>\n",
       "      <td>FEB 1712</td>\n",
       "      <td>UNDEFINED</td>\n",
       "      <td>?</td>\n",
       "    </tr>\n",
       "  </tbody>\n",
       "</table>\n",
       "</div>"
      ],
      "text/plain": [
       "        Region District(Härad) ParishName BeginPlaguePeriod EndPlaguePeriod   \n",
       "393  NORTHEAST        VILLANDS      NÄSUM          NOV 1710        APR 1711  \\\n",
       "394  NORTHEAST        VILLANDS      NÄSUM          FEB 1712       UNDEFINED   \n",
       "\n",
       "    VictimsNumber  \n",
       "393           671  \n",
       "394             ?  "
      ]
     },
     "execution_count": 93,
     "metadata": {},
     "output_type": "execute_result"
    }
   ],
   "source": [
    "parishesScania.loc[parishesScania['ParishName'] == 'NÄSUM']"
   ]
  },
  {
   "attachments": {},
   "cell_type": "markdown",
   "metadata": {},
   "source": [
    "Defining a function for extracting the names of the parishes in the data frame"
   ]
  },
  {
   "cell_type": "code",
   "execution_count": 94,
   "metadata": {},
   "outputs": [],
   "source": [
    "def get_Names(data: pd.DataFrame, heading:str) -> list:\n",
    "    return data[heading].tolist()   "
   ]
  },
  {
   "attachments": {},
   "cell_type": "markdown",
   "metadata": {},
   "source": [
    "Filtering the data frame by region and then get the names of the parishes:"
   ]
  },
  {
   "cell_type": "code",
   "execution_count": 95,
   "metadata": {},
   "outputs": [
    {
     "data": {
      "text/plain": [
       "408"
      ]
     },
     "execution_count": 95,
     "metadata": {},
     "output_type": "execute_result"
    }
   ],
   "source": [
    "parishesScania_names = get_Names(parishesScania, 'ParishName')\n",
    "len(parishesScania_names)"
   ]
  },
  {
   "cell_type": "code",
   "execution_count": 96,
   "metadata": {},
   "outputs": [],
   "source": [
    "southeastParishes = allParishesScania.loc[allParishesScania['Region'] == 'SOUTHEAST']\n",
    "southeastParishes_names = get_Names(southeastParishes, 'ParishName')"
   ]
  },
  {
   "attachments": {},
   "cell_type": "markdown",
   "metadata": {},
   "source": [
    "Reading the census file:"
   ]
  },
  {
   "cell_type": "code",
   "execution_count": 97,
   "metadata": {},
   "outputs": [
    {
     "data": {
      "text/plain": [
       "(102360, 50)"
      ]
     },
     "execution_count": 97,
     "metadata": {},
     "output_type": "execute_result"
    }
   ],
   "source": [
    "# Set the working directory for private files\n",
    "data_private_folder = \"data/private\"\n",
    "census_path = os.path.join(data_private_folder, 'FILE01_FALD.csv')\n",
    "censusSweden = pd.read_csv(census_path, sep=';')\n",
    "censusSweden.shape"
   ]
  },
  {
   "attachments": {},
   "cell_type": "markdown",
   "metadata": {},
   "source": [
    "Checking the memory usage"
   ]
  },
  {
   "cell_type": "code",
   "execution_count": null,
   "metadata": {},
   "outputs": [],
   "source": [
    "censusSweden.info(memory_usage='deep')"
   ]
  },
  {
   "attachments": {},
   "cell_type": "markdown",
   "metadata": {},
   "source": [
    "Checking the names of all columns in the data"
   ]
  },
  {
   "cell_type": "code",
   "execution_count": 98,
   "metadata": {},
   "outputs": [],
   "source": [
    "columns = censusSweden.columns"
   ]
  },
  {
   "attachments": {},
   "cell_type": "markdown",
   "metadata": {},
   "source": [
    "Calling the data only with specific columns"
   ]
  },
  {
   "cell_type": "code",
   "execution_count": 99,
   "metadata": {},
   "outputs": [],
   "source": [
    "censusSweden = pd.read_csv(census_path, sep=';', usecols=[\n",
    "                           'LANGENNMN'  # Standard name of the county for the geographical area in plain text\n",
    "                           , 'GEOIDNMN'  # Standard name of the geographical area in plain text, i.e. not a source name\n",
    "                           , 'GEOIDTYP'  # Type of breakdown of the geographical area  0 =Assembly, 1 = Pastorate, 2 = Other type, 3 = Several parishes, 9 = Part of a parish\n",
    "                           , 'AR'  # Year\n",
    "                           , 'KON'  # 1 = Man  2 = Female. I choose 1 but it could be 2 for the total population\n",
    "                           , 'BEF_TOT'  # Total population at source\n",
    "                           , 'BEF_GENTOT'  # Total population, generated\n",
    "                           ])\n"
   ]
  },
  {
   "attachments": {},
   "cell_type": "markdown",
   "metadata": {},
   "source": [
    "Processing the census data such that corresponds only to Scania and the first population size registred for each parish."
   ]
  },
  {
   "cell_type": "code",
   "execution_count": 120,
   "metadata": {},
   "outputs": [
    {
     "data": {
      "text/plain": [
       "(8748, 7)"
      ]
     },
     "execution_count": 120,
     "metadata": {},
     "output_type": "execute_result"
    }
   ],
   "source": [
    "censusScania = censusSweden.loc[((censusSweden['LANGENNMN'] == 'KRISTIANSTADS LÄN') | (\n",
    "    censusSweden['LANGENNMN'] == 'MALMÖHUS LÄN')) & (censusSweden['KON'] == 1)]\n",
    "censusScania.shape"
   ]
  },
  {
   "attachments": {},
   "cell_type": "markdown",
   "metadata": {},
   "source": [
    "Cleaning the data: First, we remove given strings and white spaces at the end of a word. To do so, we must provide the string list to delete. In this step, you can use regular expressions."
   ]
  },
  {
   "cell_type": "code",
   "execution_count": 133,
   "metadata": {},
   "outputs": [],
   "source": [
    "def delete_strings(data: pd.DataFrame, name_column: str, list_expr: list[str]) -> pd.DataFrame:\n",
    "    for expr in list_expr:\n",
    "        data = data.apply(lambda x: x.replace({expr: ''}, regex=True))\n",
    "    data[name_column] = data[name_column].str.strip()\n",
    "    return data"
   ]
  },
  {
   "cell_type": "code",
   "execution_count": 126,
   "metadata": {},
   "outputs": [
    {
     "data": {
      "text/plain": [
       "(8748, 7)"
      ]
     },
     "execution_count": 126,
     "metadata": {},
     "output_type": "execute_result"
    }
   ],
   "source": [
    "# Regex to delete the following strings:\n",
    "# ', DEL (KRISTIANSTAD)', ', DEL (MALMÖHUS)', ', DEL (MALMÖHUS LÄN)'\n",
    "# ', DEL AV (FROSTA HÄRAD, MALMÖHUS LÄN)', ', DEL (EVERÖD, MALMÖHUS)'\n",
    "# , DEL (HYLLINGE, MALMÖHUS)', ' (MALMÖ SF)', '(STAFFANSTORP)'\n",
    "# ' GARNISONSFÖRS.', ' OCH GARNISONSFÖRS.', ' STADS', ' STAD'\n",
    "\n",
    "regex = r'(,\\s*DEL( AV)?\\s+\\(([^)]+?)\\)|\\s+\\([^)]+\\)|\\s+GARNISONSFÖRS\\.| OCH GARNISONSFÖRS\\.| STADS?| STAD)'                    \n",
    "\n",
    "censusScania = delete_strings(censusScania, 'GEOIDNMN', [\n",
    "                               'PASTORAT'\n",
    "                               , 'HOSPITAL'\n",
    "                               , ' LANDS'\n",
    "                               , ' SLOTTSFÖRSAMLING'\n",
    "                               , ' DOMKYRKOFÖRSAMLING'\n",
    "                               , regex\n",
    "                               ])\n",
    "censusScania.shape"
   ]
  },
  {
   "attachments": {},
   "cell_type": "markdown",
   "metadata": {},
   "source": [
    "Process the data from Scania only to keep the first population size registered for each parish.\n",
    "This was done following two approaches: the first one by grouping the data by parish name and then selecting the minimum year. The second approach is exhaustively exploring the given DataFrame and keeping the required information in a dictionary. The information required in our case corresponds to the position associated with each parish name and the minimum year, according to the original DataFrame. "
   ]
  },
  {
   "attachments": {},
   "cell_type": "markdown",
   "metadata": {},
   "source": [
    "1. First approach:"
   ]
  },
  {
   "cell_type": "code",
   "execution_count": 127,
   "metadata": {},
   "outputs": [],
   "source": [
    "def process_dataframe(df, groupby_column, year_column):\n",
    "    # Group a Pandas DataFrame by a column\n",
    "    parish_grp = df.groupby([groupby_column])\n",
    "    # Get the unique values of a column as a list\n",
    "    parish_grp_name = parish_grp[groupby_column].unique().tolist()\n",
    "\n",
    "    result_df = pd.DataFrame()\n",
    "\n",
    "    for name in parish_grp_name:\n",
    "        grp_name = parish_grp.get_group(name[0])\n",
    "        result_df = pd.concat(\n",
    "            [result_df, (grp_name[grp_name[year_column] == grp_name[year_column].min()])], axis=0)\n",
    "\n",
    "    return result_df"
   ]
  },
  {
   "cell_type": "code",
   "execution_count": 134,
   "metadata": {},
   "outputs": [
    {
     "data": {
      "text/plain": [
       "(404, 7)"
      ]
     },
     "execution_count": 134,
     "metadata": {},
     "output_type": "execute_result"
    }
   ],
   "source": [
    "# Usage example with the 'censusScania' dataframe\n",
    "popSizeScania = process_dataframe(censusScania, 'GEOIDNMN', 'AR')\n",
    "popSizeScania.shape"
   ]
  },
  {
   "cell_type": "code",
   "execution_count": 135,
   "metadata": {},
   "outputs": [
    {
     "data": {
      "text/html": [
       "<div>\n",
       "<style scoped>\n",
       "    .dataframe tbody tr th:only-of-type {\n",
       "        vertical-align: middle;\n",
       "    }\n",
       "\n",
       "    .dataframe tbody tr th {\n",
       "        vertical-align: top;\n",
       "    }\n",
       "\n",
       "    .dataframe thead th {\n",
       "        text-align: right;\n",
       "    }\n",
       "</style>\n",
       "<table border=\"1\" class=\"dataframe\">\n",
       "  <thead>\n",
       "    <tr style=\"text-align: right;\">\n",
       "      <th></th>\n",
       "      <th>LANGENNMN</th>\n",
       "      <th>GEOIDNMN</th>\n",
       "      <th>GEOIDTYP</th>\n",
       "      <th>AR</th>\n",
       "      <th>KON</th>\n",
       "      <th>BEF_TOT</th>\n",
       "      <th>BEF_GENTOT</th>\n",
       "    </tr>\n",
       "  </thead>\n",
       "  <tbody>\n",
       "    <tr>\n",
       "      <th>57393</th>\n",
       "      <td>MALMÖHUS LÄN</td>\n",
       "      <td>HELSINGBORGS</td>\n",
       "      <td>0</td>\n",
       "      <td>1775</td>\n",
       "      <td>1</td>\n",
       "      <td>1290</td>\n",
       "      <td>1290</td>\n",
       "    </tr>\n",
       "    <tr>\n",
       "      <th>57426</th>\n",
       "      <td>MALMÖHUS LÄN</td>\n",
       "      <td>HELSINGBORGS</td>\n",
       "      <td>0</td>\n",
       "      <td>1775</td>\n",
       "      <td>1</td>\n",
       "      <td>453</td>\n",
       "      <td>453</td>\n",
       "    </tr>\n",
       "  </tbody>\n",
       "</table>\n",
       "</div>"
      ],
      "text/plain": [
       "          LANGENNMN      GEOIDNMN  GEOIDTYP    AR  KON  BEF_TOT  BEF_GENTOT\n",
       "57393  MALMÖHUS LÄN  HELSINGBORGS         0  1775    1     1290        1290\n",
       "57426  MALMÖHUS LÄN  HELSINGBORGS         0  1775    1      453         453"
      ]
     },
     "execution_count": 135,
     "metadata": {},
     "output_type": "execute_result"
    }
   ],
   "source": [
    "popSizeScania.groupby(['GEOIDNMN']).get_group('HELSINGBORGS')\n",
    "#popSizeScania.groupby(['GEOIDNMN']).size().to_csv('popSizeScania.csv', encoding='utf-8', index=True, header=True)"
   ]
  },
  {
   "attachments": {},
   "cell_type": "markdown",
   "metadata": {},
   "source": [
    "2. Second approach"
   ]
  },
  {
   "cell_type": "code",
   "execution_count": 18,
   "metadata": {},
   "outputs": [
    {
     "name": "stdout",
     "output_type": "stream",
     "text": [
      "(495, 7)\n"
     ]
    }
   ],
   "source": [
    "#%%timeit\n",
    "aux_dict = {}\n",
    "popSizeScania = pd.DataFrame() \n",
    "\n",
    "for i in range(len(censusScania)):\n",
    "    name_i = censusScania['GEOIDNMN'].iloc[i]\n",
    "    ar_i = censusScania['AR'].iloc[i]\n",
    "    if name_i in aux_dict:\n",
    "        if ar_i < aux_dict[name_i]['min']:\n",
    "            aux_dict[name_i] = {'min': ar_i, 'position': i}\n",
    "    else:\n",
    "        aux_dict[name_i] = {'min': ar_i, 'position': i}\n",
    "final_positions = [value['position'] for key, value in aux_dict.items()]\n",
    "popSizeScania = censusScania.iloc[final_positions]   \n",
    "print(popSizeScania.shape)            \n",
    "    "
   ]
  },
  {
   "cell_type": "code",
   "execution_count": 136,
   "metadata": {},
   "outputs": [],
   "source": [
    "def check_name(data: pd.DataFrame, heading: str, name: str):\n",
    "    filt_name = data[heading].str.contains(name, na=False)\n",
    "    return data.loc[filt_name]"
   ]
  },
  {
   "cell_type": "code",
   "execution_count": 138,
   "metadata": {},
   "outputs": [
    {
     "data": {
      "text/html": [
       "<div>\n",
       "<style scoped>\n",
       "    .dataframe tbody tr th:only-of-type {\n",
       "        vertical-align: middle;\n",
       "    }\n",
       "\n",
       "    .dataframe tbody tr th {\n",
       "        vertical-align: top;\n",
       "    }\n",
       "\n",
       "    .dataframe thead th {\n",
       "        text-align: right;\n",
       "    }\n",
       "</style>\n",
       "<table border=\"1\" class=\"dataframe\">\n",
       "  <thead>\n",
       "    <tr style=\"text-align: right;\">\n",
       "      <th></th>\n",
       "      <th>LANGENNMN</th>\n",
       "      <th>GEOIDNMN</th>\n",
       "      <th>GEOIDTYP</th>\n",
       "      <th>AR</th>\n",
       "      <th>KON</th>\n",
       "      <th>BEF_TOT</th>\n",
       "      <th>BEF_GENTOT</th>\n",
       "    </tr>\n",
       "  </thead>\n",
       "  <tbody>\n",
       "    <tr>\n",
       "      <th>44416</th>\n",
       "      <td>KRISTIANSTADS LÄN</td>\n",
       "      <td>TJÖRNARP</td>\n",
       "      <td>0</td>\n",
       "      <td>1775</td>\n",
       "      <td>1</td>\n",
       "      <td>456</td>\n",
       "      <td>456</td>\n",
       "    </tr>\n",
       "  </tbody>\n",
       "</table>\n",
       "</div>"
      ],
      "text/plain": [
       "               LANGENNMN  GEOIDNMN  GEOIDTYP    AR  KON  BEF_TOT  BEF_GENTOT\n",
       "44416  KRISTIANSTADS LÄN  TJÖRNARP         0  1775    1      456         456"
      ]
     },
     "execution_count": 138,
     "metadata": {},
     "output_type": "execute_result"
    }
   ],
   "source": [
    "popSizeScania_names = get_Names(popSizeScania, 'GEOIDNMN')\n",
    "check_name(popSizeScania, 'GEOIDNMN', 'TJÖRNARP')"
   ]
  },
  {
   "cell_type": "code",
   "execution_count": 139,
   "metadata": {},
   "outputs": [],
   "source": [
    "def filter_data_by_name(data: pd.DataFrame, column: pd.Series, input_names: list[str]):\n",
    "    output_names = []\n",
    "    for name in input_names:\n",
    "        filter_data = check_name(data, column, name)\n",
    "        if len(filter_data) == 0 :\n",
    "            output_names  = output_names  + [name]\n",
    "        else:\n",
    "            continue\n",
    "    return output_names"
   ]
  },
  {
   "attachments": {},
   "cell_type": "markdown",
   "metadata": {},
   "source": [
    "Reading the geographical information by parish"
   ]
  },
  {
   "cell_type": "code",
   "execution_count": 140,
   "metadata": {},
   "outputs": [],
   "source": [
    "# Get the current working directory\n",
    "data_folder = \"MapScaniaSweden\"\n",
    "parishScania_path = os.path.join(data_folder, \"Parishes1720_1890.shp\")\n",
    "\n",
    "parishScaniaMap = gpd.read_file(parishScania_path)\n",
    "selected_columns = ['G_NAME','GET_END_YE', 'geometry']\n",
    "parishScaniaMap = parishScaniaMap[selected_columns]"
   ]
  },
  {
   "cell_type": "code",
   "execution_count": null,
   "metadata": {},
   "outputs": [],
   "source": [
    "parishScaniaMap = delete_strings(\n",
    "    parishScaniaMap, ['FÖRSAMLING'\n",
    "                      , 'L LÄN'\n",
    "                      , 'S LÄN'\n",
    "                      , 'M LÄN'\n",
    "                      , 'HELIGA TREFALDIGHETS'\n",
    "                      , ' LANDSFÖRSAMLING'\n",
    "                      , ' STADS'\n",
    "                      , ' LANDS'\n",
    "                      ])"
   ]
  },
  {
   "cell_type": "code",
   "execution_count": null,
   "metadata": {},
   "outputs": [],
   "source": [
    "#%%timeit\n",
    "aux_dict = {}\n",
    "parishMap = gpd.GeoDataFrame() \n",
    "\n",
    "for i in range(len(parishScaniaMap)):\n",
    "    name_i = parishScaniaMap['G_NAME'].iloc[i]\n",
    "    ar_i = parishScaniaMap['GET_END_YE'].iloc[i]\n",
    "    if name_i in aux_dict:\n",
    "        if ar_i < aux_dict[name_i]['min']:\n",
    "            aux_dict[name_i] = {'min': ar_i, 'position': i}\n",
    "    else:\n",
    "        aux_dict[name_i] = {'min': ar_i, 'position': i}\n",
    "final_positions = [value['position'] for key, value in aux_dict.items()]\n",
    "parishMap = parishScaniaMap.iloc[final_positions]   \n",
    "print(parishMap.shape)            \n",
    "    "
   ]
  },
  {
   "cell_type": "code",
   "execution_count": null,
   "metadata": {},
   "outputs": [],
   "source": [
    "parishMap['G_NAME'][parishMap['G_NAME'] == 'TRELLEBORGS']"
   ]
  },
  {
   "cell_type": "code",
   "execution_count": null,
   "metadata": {},
   "outputs": [],
   "source": [
    "fig,ax = plt.subplots(figsize=(13,10))\n",
    "parishMap.plot(ax=ax, column = \"G_NAME\", edgecolor='black', legend=False)\n",
    "plt.xlabel('Meters')\n",
    "plt.ylabel('Meters')\n",
    "# legend = ax.get_legend()\n",
    "# legend.set_bbox_to_anchor((1, 0.2))\n",
    "plt.show()"
   ]
  },
  {
   "cell_type": "code",
   "execution_count": null,
   "metadata": {},
   "outputs": [],
   "source": [
    "parishMap_names = get_Names(parishMap, 'G_NAME')"
   ]
  },
  {
   "cell_type": "code",
   "execution_count": null,
   "metadata": {},
   "outputs": [],
   "source": [
    "print(len(filter_data_by_name(popSizeScania, popSizeScania['GEOIDNMN'], parishesScania_names)))"
   ]
  },
  {
   "cell_type": "code",
   "execution_count": null,
   "metadata": {},
   "outputs": [],
   "source": [
    "southeastParishesNoPop = []\n",
    "\n",
    "for name in southeastParishes_names:\n",
    "    filter_data = check_name(popSizeScania, popSizeScania['GEOIDNMN'], name)\n",
    "    if len(filter_data) == 0 :\n",
    "        southeastParishesNoPop = southeastParishesNoPop + [name]\n",
    "    else:\n",
    "        continue\n",
    "    print(southeastParishesNoPop)\n",
    "    "
   ]
  },
  {
   "cell_type": "code",
   "execution_count": null,
   "metadata": {},
   "outputs": [],
   "source": [
    "filter_data_by_name(parishScaniaMap, parishScaniaMap['G_NAME'], popSizeScania_names)"
   ]
  },
  {
   "cell_type": "code",
   "execution_count": null,
   "metadata": {},
   "outputs": [],
   "source": [
    "southeastParishesNoPop = []\n",
    "\n",
    "for name in southeastParishes_names:\n",
    "    filter_data = check_name(popSizeScania, popSizeScania['GEOIDNMN'], name)\n",
    "    if len(filter_data) == 0 :\n",
    "        southeastParishesNoPop = southeastParishesNoPop + [name]\n",
    "    else:\n",
    "        continue\n",
    "    print(southeastParishesNoPop)\n",
    "    "
   ]
  },
  {
   "cell_type": "code",
   "execution_count": null,
   "metadata": {},
   "outputs": [],
   "source": [
    "southeastParishesNoPop = []\n",
    "\n",
    "for name in southeastParishes_names:\n",
    "    filter_data = check_name(popSizeScania, popSizeScania['GEOIDNMN'], name)\n",
    "    if len(filter_data) == 0 :\n",
    "        southeastParishesNoPop = southeastParishesNoPop + [name]\n",
    "    else:\n",
    "        continue\n",
    "    #print(southeastParishesNoPop)\n",
    "    "
   ]
  },
  {
   "cell_type": "code",
   "execution_count": null,
   "metadata": {},
   "outputs": [],
   "source": [
    "southeastParishesNoPop = []\n",
    "\n",
    "for name in southeastParishes_names:\n",
    "    filter_data = check_name(popSizeScania, popSizeScania['GEOIDNMN'], name)\n",
    "    if len(filter_data) == 0 :\n",
    "        southeastParishesNoPop = southeastParishesNoPop + [name]\n",
    "    else:\n",
    "        continue\n",
    "    #print(southeastParishesNoPop)\n",
    "    "
   ]
  },
  {
   "cell_type": "code",
   "execution_count": null,
   "metadata": {},
   "outputs": [],
   "source": [
    "southeastParishesNoPop = []\n",
    "\n",
    "for name in southeastParishes_names:\n",
    "    filter_data = check_name(popSizeScania, popSizeScania['GEOIDNMN'], name)\n",
    "    if len(filter_data) == 0 :\n",
    "        southeastParishesNoPop = southeastParishesNoPop + [name]\n",
    "    else:\n",
    "        continue\n",
    "    #print(southeastParishesNoPop)\n",
    "    "
   ]
  },
  {
   "cell_type": "code",
   "execution_count": null,
   "metadata": {},
   "outputs": [],
   "source": [
    "southeastParishesNoPop = []\n",
    "\n",
    "for name in southeastParishes_names:\n",
    "    filter_data = check_name(popSizeScania, popSizeScania['GEOIDNMN'], name)\n",
    "    if len(filter_data) == 0 :\n",
    "        southeastParishesNoPop = southeastParishesNoPop + [name]\n",
    "    else:\n",
    "        continue\n",
    "    #print(southeastParishesNoPop)\n",
    "    "
   ]
  },
  {
   "cell_type": "code",
   "execution_count": null,
   "metadata": {},
   "outputs": [],
   "source": [
    "southeastParishesNoPop = []\n",
    "\n",
    "for name in southeastParishes_names:\n",
    "    filter_data = check_name(popSizeScania, popSizeScania['GEOIDNMN'], name)\n",
    "    if len(filter_data) == 0 :\n",
    "        southeastParishesNoPop = southeastParishesNoPop + [name]\n",
    "    else:\n",
    "        continue\n",
    "    #print(southeastParishesNoPop)\n",
    "    "
   ]
  },
  {
   "cell_type": "code",
   "execution_count": null,
   "metadata": {},
   "outputs": [],
   "source": [
    "southeastParishesNoPop = []\n",
    "\n",
    "for name in southeastParishes_names:\n",
    "    filter_data = check_name(popSizeScania, popSizeScania['GEOIDNMN'], name)\n",
    "    if len(filter_data) == 0 :\n",
    "        southeastParishesNoPop = southeastParishesNoPop + [name]\n",
    "    else:\n",
    "        continue\n",
    "    #print(southeastParishesNoPop)\n",
    "    "
   ]
  },
  {
   "attachments": {},
   "cell_type": "markdown",
   "metadata": {},
   "source": [
    "Check regular expressions code in Mathematica for eliminATING SOME STRINGS"
   ]
  },
  {
   "cell_type": "code",
   "execution_count": null,
   "metadata": {},
   "outputs": [],
   "source": [
    "\n",
    "parishesScaniaNoPop = []\n",
    "\n",
    "for name in parishesScania_names:\n",
    "    filter_data = check_name(popSizeScania, popSizeScania['GEOIDNMN'], name)\n",
    "    if len(filter_data) == 0 :\n",
    "        parishesScaniaNoPop  = parishesScaniaNoPop  + [name]\n",
    "    else:\n",
    "        continue\n",
    "\n",
    "    "
   ]
  },
  {
   "cell_type": "code",
   "execution_count": null,
   "metadata": {},
   "outputs": [],
   "source": [
    "check_name(popSizeScania, popSizeScania['GEOIDNMN'], 'YSTAD')\n",
    "check_name(popSizeScania, popSizeScania['GEOIDNMN'], 'OLOFS')\n"
   ]
  },
  {
   "cell_type": "code",
   "execution_count": null,
   "metadata": {},
   "outputs": [],
   "source": [
    "type(censusScania['GEOIDNMN'])"
   ]
  },
  {
   "cell_type": "code",
   "execution_count": null,
   "metadata": {},
   "outputs": [],
   "source": [
    "filt2 = popSizeScania['GEOIDNMN'].str.contains('NORRA RÖRUM', na=False)\n",
    "#popSizeScania.loc[filt2]"
   ]
  },
  {
   "cell_type": "code",
   "execution_count": null,
   "metadata": {},
   "outputs": [],
   "source": [
    "print(popSizeScania[['GEOIDNMN','AR']].iloc[2])"
   ]
  }
 ],
 "metadata": {
  "kernelspec": {
   "display_name": "Python 3",
   "language": "python",
   "name": "python3"
  },
  "language_info": {
   "codemirror_mode": {
    "name": "ipython",
    "version": 3
   },
   "file_extension": ".py",
   "mimetype": "text/x-python",
   "name": "python",
   "nbconvert_exporter": "python",
   "pygments_lexer": "ipython3",
   "version": "3.11.3"
  },
  "orig_nbformat": 4,
  "vscode": {
   "interpreter": {
    "hash": "b0fa6594d8f4cbf19f97940f81e996739fb7646882a419484c72d19e05852a7e"
   }
  }
 },
 "nbformat": 4,
 "nbformat_minor": 2
}
