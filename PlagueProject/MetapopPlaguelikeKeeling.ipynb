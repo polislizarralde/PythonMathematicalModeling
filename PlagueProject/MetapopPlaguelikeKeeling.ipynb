{
  "cells": [
    {
      "cell_type": "markdown",
      "metadata": {
        "id": "view-in-github",
        "colab_type": "text"
      },
      "source": [
        "<a href=\"https://colab.research.google.com/github/polislizarralde/PythonPlayground/blob/main/PlagueProject/MetapopPlaguelikeKeeling.ipynb\" target=\"_parent\"><img src=\"https://colab.research.google.com/assets/colab-badge.svg\" alt=\"Open In Colab\"/></a>"
      ]
    },
    {
      "cell_type": "code",
      "execution_count": null,
      "metadata": {
        "id": "KAXQSlHxxJ9P"
      },
      "outputs": [],
      "source": [
        "#Import packages\n",
        "import scipy.integrate as scipy\n",
        "import numpy as np\n",
        "import pylab as pl\n",
        "import pandas as pd\n",
        "import matplotlib.pyplot as plt"
      ]
    },
    {
      "cell_type": "code",
      "execution_count": null,
      "metadata": {
        "id": "8bbb0gHExJ9S"
      },
      "outputs": [],
      "source": [
        "n = 2    # Number of patches\n",
        "beta = 0.34    # Infection rate\n",
        "gamma = 0.32    # Recovery rate\n",
        "p = 0.005    # Probability of movement\n",
        "mu = 0.6    # Birth rate\n"
      ]
    },
    {
      "cell_type": "code",
      "execution_count": null,
      "metadata": {
        "id": "aM5Y5ppAxJ9T",
        "outputId": "87eec582-8b9f-43b8-e78a-6dad73d49177"
      },
      "outputs": [
        {
          "name": "stdout",
          "output_type": "stream",
          "text": [
            "0\n"
          ]
        }
      ],
      "source": [
        "# vector of population sizes with lenght n\n",
        "N = np.array([204  # Bromma\n",
        "              , 217  # Oja\n",
        "              , 1895  # S Maria Ystad 1749\n",
        "              , 554  # Valleberga\n",
        "              , 693  # S Kopinge\n",
        "              , 403  # Horups\n",
        "              , 582  # Bjäresjö 1780\n",
        "              , 716  # Villie 1749\n",
        "              , 418  # Snårestad 1775\n",
        "              , 519  # Skårby 1749\n",
        "              , 262  # Hammenhögs 1749\n",
        "              , 560  # Glemminge 1775\n",
        "              , 236  # Balkåkra 1775\n",
        "              , 334  # Baldringe 1749\n",
        "              , 299  # Ovraby\n",
        "              , 761  # Sövestads 1749\n",
        "              , 776  # Löderups 1749\n",
        "              , 951  # Borrby 1775\n",
        "              , 358  # Tosterups 1775\n",
        "              ])\n",
        "\n",
        "# Initial conditions for each patch\n",
        "\n",
        "I0 = np.zeros(n)  # vector of initial infecteds with lenght n\n",
        "I0[0] = 1.0  # the first element of the I0 vector is set to 1\n",
        "\n",
        "S0 = np.zeros(n)  # vector of initial susceptibles with lenght n\n",
        "for i in range(n):\n",
        "    S0[i] = N[i] - I0[i]\n",
        "\n",
        "R0 = np.zeros(n)  # vector of initial removeds with lenght n\n",
        "D0 = np.zeros(n)  # vector of initial deaths with lenght n\n",
        "\n",
        "# Defining the transmission rate matrix as a function of two parameters\n",
        "\n",
        "\n",
        "def TransmissionRateMatrix(beta: float, p: float):\n",
        "    return ([\n",
        "        [beta, p, 0, 0, 0, 0, p, 0, 0, 0, 0, 0, 0, 0, 0, p, 0, 0, 0],\n",
        "        [p, beta, p, 0, 0, 0, 0, 0, 0, 0, 0, 0, 0, 0, 0, 0, 0, 0, 0],\n",
        "        [0, p, beta, 0, p, 0, 0, 0, 0, 0, 0, 0, 0, 0, 0, 0, 0, 0, 0],\n",
        "        [0, 0, 0, beta2, 0, p, 0, 0, 0, 0, 0, p, 0, 0, 0, 0, p, 0, 0],\n",
        "        [0, 0, p, 0, beta, 0, 0, 0, 0, 0, 0, p, 0, 0, p, 0, 0, 0, p],\n",
        "        [0, 0, 0, p, 0, beta, 0, 0, 0, 0, p, p, 0, 0, 0, 0, p, p, 0],\n",
        "        [p, 0, 0, 0, 0, 0, beta, 0, 0, p, 0, 0, p, 0, 0, p, 0, 0, 0],\n",
        "        [0, 0, 0, 0, 0, 0, 0, beta, 0, p, 0, 0, 0, 0, 0, 0, 0, 0, 0],\n",
        "        [0, 0, 0, 0, 0, 0, 0, 0, beta, 0, 0, 0, p, 0, 0, 0, 0, 0, 0],\n",
        "        [0, 0, 0, 0, 0, 0, p, p, 0, beta, 0, 0, p, 0, 0, p, 0, 0, 0],\n",
        "        [0, 0, 0, 0, 0, p, 0, 0, 0, 0, beta, 0, 0, 0, 0, 0, 0, p, 0],\n",
        "        [0, 0, 0, p, p, p, 0, 0, 0, 0, 0, beta, 0, 0, 0, 0, 0, 0, p],\n",
        "        [0, 0, 0, 0, 0, 0, p, 0, p, p, 0, 0, beta, 0, 0, 0, 0, 0, 0],\n",
        "        [0, 0, 0, 0, 0, 0, 0, 0, 0, 0, 0, 0, 0, beta, 0, p, 0, 0, 0],\n",
        "        [0, 0, 0, 0, p, 0, 0, 0, 0, 0, 0, 0, 0, 0, beta, 0, 0, 0, p],\n",
        "        [p, 0, 0, 0, 0, 0, p, 0, 0, p, 0, 0, 0, p, 0, beta, 0, 0, 0],\n",
        "        [0, 0, 0, p, 0, p, 0, 0, 0, 0, 0, 0, 0, 0, 0, 0, beta, p, 0],\n",
        "        [0, 0, 0, 0, 0, p, 0, 0, 0, 0, p, 0, 0, 0, 0, 0, p, beta, 0],\n",
        "        [0, 0, 0, 0, p, 0, 0, 0, 0, 0, 0, p, 0, 0, p, 0, 0, 0, beta]\n",
        "    ])\n",
        "\n",
        "\n",
        "print(TransmissionRateMatrix(0.5, 0.3)[0][18])\n"
      ]
    },
    {
      "cell_type": "code",
      "execution_count": null,
      "metadata": {
        "id": "sd3a9XZsxJ9V"
      },
      "outputs": [],
      "source": [
        "INPUT0 = np.hstack((S0, I0, R0, D0))#The numpy.hstack() function takes the arrays S0, I0, R0, D0 and stacks them horizontally to make a single array of (n,4). \n",
        "INPUT = np.zeros((4*n))\n",
        "for i in range(n):\n",
        "    INPUT[4*i] = INPUT0[i]\n",
        "    INPUT[1+4*i] = INPUT0[n+i]\n",
        "    INPUT[2+4*i] = INPUT0[2*n+i]"
      ]
    }
  ],
  "metadata": {
    "kernelspec": {
      "display_name": "Python 3",
      "language": "python",
      "name": "python3"
    },
    "language_info": {
      "codemirror_mode": {
        "name": "ipython",
        "version": 3
      },
      "file_extension": ".py",
      "mimetype": "text/x-python",
      "name": "python",
      "nbconvert_exporter": "python",
      "pygments_lexer": "ipython3",
      "version": "3.11.2"
    },
    "orig_nbformat": 4,
    "colab": {
      "provenance": [],
      "include_colab_link": true
    }
  },
  "nbformat": 4,
  "nbformat_minor": 0
}